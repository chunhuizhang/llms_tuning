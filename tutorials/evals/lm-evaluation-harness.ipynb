{
 "cells": [
  {
   "cell_type": "markdown",
   "id": "4c665d3f-c6aa-4b91-91eb-28e5afd8f5d8",
   "metadata": {},
   "source": [
    "- https://github.com/AIAnytime/Eval-LLMs/blob/main/llm_eval.py"
   ]
  },
  {
   "cell_type": "code",
   "execution_count": 2,
   "id": "6154345d-f768-4d35-a4f5-f14377d86a60",
   "metadata": {
    "execution": {
     "iopub.execute_input": "2024-08-07T15:42:24.215984Z",
     "iopub.status.busy": "2024-08-07T15:42:24.215364Z",
     "iopub.status.idle": "2024-08-07T15:42:24.224134Z",
     "shell.execute_reply": "2024-08-07T15:42:24.222021Z",
     "shell.execute_reply.started": "2024-08-07T15:42:24.215939Z"
    }
   },
   "outputs": [],
   "source": [
    "# !pip install git+https://github.com/EleutherAI/lm-evaluation-harness"
   ]
  },
  {
   "cell_type": "code",
   "execution_count": 4,
   "id": "d26d5450-6f75-431b-a950-0260f4ef971b",
   "metadata": {
    "execution": {
     "iopub.execute_input": "2024-08-07T15:43:13.277590Z",
     "iopub.status.busy": "2024-08-07T15:43:13.276812Z",
     "iopub.status.idle": "2024-08-07T15:43:13.282822Z",
     "shell.execute_reply": "2024-08-07T15:43:13.281921Z",
     "shell.execute_reply.started": "2024-08-07T15:43:13.277544Z"
    }
   },
   "outputs": [],
   "source": [
    "# !lm-eval --tasks list"
   ]
  },
  {
   "cell_type": "markdown",
   "id": "1b028e66-5a82-48a1-963e-70857aa3698d",
   "metadata": {},
   "source": [
    "- 单 gpu\n",
    "    ```\n",
    "    !lm_eval --model hf \\\n",
    "        --model_args pretrained=meta-llama/Meta-Llama-3-8B,dtype=\"float16\" \\\n",
    "        --tasks truthfulqa,hellaswag \\\n",
    "        --device cuda:0 \\\n",
    "        --batch_size 8 \\\n",
    "        --output_path ./results \\\n",
    "        --log_samples\n",
    "    ```\n",
    "- 数据并行\n",
    "    ```\n",
    "    accelerate launch --multi_gpu --num_processes 2 -m lm_eval --model hf \\\n",
    "        --model_args pretrained=meta-llama/Meta-Llama-3-8B,dtype=\"float16\" \\\n",
    "        --tasks truthfulqa,hellaswag \\\n",
    "        --batch_size 8 \\\n",
    "        --output_path ./results \\\n",
    "        --log_samples\n",
    "    ```"
   ]
  }
 ],
 "metadata": {
  "kernelspec": {
   "display_name": "Python 3 (ipykernel)",
   "language": "python",
   "name": "python3"
  },
  "language_info": {
   "codemirror_mode": {
    "name": "ipython",
    "version": 3
   },
   "file_extension": ".py",
   "mimetype": "text/x-python",
   "name": "python",
   "nbconvert_exporter": "python",
   "pygments_lexer": "ipython3",
   "version": "3.10.13"
  }
 },
 "nbformat": 4,
 "nbformat_minor": 5
}
