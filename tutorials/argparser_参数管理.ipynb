{
 "cells": [
  {
   "cell_type": "code",
   "execution_count": 7,
   "id": "7e4d9345-af19-44d9-82b0-def87a3414ae",
   "metadata": {
    "execution": {
     "iopub.execute_input": "2024-08-07T16:07:16.278953Z",
     "iopub.status.busy": "2024-08-07T16:07:16.278432Z",
     "iopub.status.idle": "2024-08-07T16:07:16.287995Z",
     "shell.execute_reply": "2024-08-07T16:07:16.285867Z",
     "shell.execute_reply.started": "2024-08-07T16:07:16.278914Z"
    }
   },
   "outputs": [],
   "source": [
    "import argparse"
   ]
  },
  {
   "cell_type": "markdown",
   "id": "fb4f3ea1-9381-41f3-bb80-a0b7095e85d5",
   "metadata": {},
   "source": [
    "## basics"
   ]
  },
  {
   "cell_type": "markdown",
   "id": "237b5c33-7bcd-423e-a61b-a3c89f5d370e",
   "metadata": {},
   "source": [
    "- 一个复杂的，深度学习或者 LLM 的代码，从参数的构建、解析开始；"
   ]
  },
  {
   "cell_type": "markdown",
   "id": "cfc2cc2a-08c1-4eb8-ad2d-ea70bab44f91",
   "metadata": {},
   "source": [
    "```\n",
    "def setup_parser() -> argparse.ArgumentParser:\n",
    "    parser = argparse.ArgumentParser(formatter_class=argparse.RawTextHelpFormatter)\n",
    "    ...\n",
    "    return parser\n",
    "```"
   ]
  },
  {
   "cell_type": "markdown",
   "id": "83a6101a-8006-4682-8a0f-0b0c47c56940",
   "metadata": {},
   "source": [
    "## HfArgumentParser、SFTConfig"
   ]
  },
  {
   "cell_type": "markdown",
   "id": "5b0ac581-30fb-4474-b797-6a2923a95ced",
   "metadata": {},
   "source": [
    "- SFTConfig\n",
    "    - 继承自 TrainingArguments\n",
    "    ```\n",
    "    @dataclass\n",
    "    class SFTConfig(TrainingArguments):\n",
    "    ```"
   ]
  },
  {
   "cell_type": "code",
   "execution_count": 6,
   "id": "80a3d446-840e-4d5a-a723-cbc1a328608e",
   "metadata": {
    "execution": {
     "iopub.execute_input": "2024-08-07T16:02:00.784914Z",
     "iopub.status.busy": "2024-08-07T16:02:00.783620Z",
     "iopub.status.idle": "2024-08-07T16:02:00.792048Z",
     "shell.execute_reply": "2024-08-07T16:02:00.790693Z",
     "shell.execute_reply.started": "2024-08-07T16:02:00.784841Z"
    }
   },
   "outputs": [],
   "source": [
    "from transformers import HfArgumentParser, TrainingArguments"
   ]
  },
  {
   "cell_type": "code",
   "execution_count": 3,
   "id": "659349e5-a63d-43b7-a485-a0e1abfc9765",
   "metadata": {
    "execution": {
     "iopub.execute_input": "2024-08-07T16:01:03.286182Z",
     "iopub.status.busy": "2024-08-07T16:01:03.285620Z",
     "iopub.status.idle": "2024-08-07T16:01:03.291164Z",
     "shell.execute_reply": "2024-08-07T16:01:03.289826Z",
     "shell.execute_reply.started": "2024-08-07T16:01:03.286159Z"
    }
   },
   "outputs": [],
   "source": [
    "# 继承自 TraingArguments\n",
    "from trl import SFTConfig"
   ]
  },
  {
   "cell_type": "code",
   "execution_count": null,
   "id": "fa908fbe-2cd3-4fde-b3e6-825087afcd5f",
   "metadata": {},
   "outputs": [],
   "source": []
  }
 ],
 "metadata": {
  "kernelspec": {
   "display_name": "Python 3 (ipykernel)",
   "language": "python",
   "name": "python3"
  },
  "language_info": {
   "codemirror_mode": {
    "name": "ipython",
    "version": 3
   },
   "file_extension": ".py",
   "mimetype": "text/x-python",
   "name": "python",
   "nbconvert_exporter": "python",
   "pygments_lexer": "ipython3",
   "version": "3.10.13"
  }
 },
 "nbformat": 4,
 "nbformat_minor": 5
}
