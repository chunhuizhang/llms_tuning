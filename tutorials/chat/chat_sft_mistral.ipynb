{
 "cells": [
  {
   "cell_type": "markdown",
   "id": "b8669a35-7487-491c-a500-35ca23267c6e",
   "metadata": {},
   "source": [
    "https://colab.research.google.com/github/NielsRogge/Transformers-Tutorials/blob/master/Mistral/Supervised_fine_tuning_(SFT)_of_an_LLM_using_Hugging_Face_tooling.ipynb#scrollTo=IQ1sMda27Zj6"
   ]
  },
  {
   "cell_type": "code",
   "execution_count": 2,
   "id": "b7b0efcb-9a23-4173-91db-d39e9aff0498",
   "metadata": {
    "execution": {
     "iopub.execute_input": "2024-08-31T03:36:53.952452Z",
     "iopub.status.busy": "2024-08-31T03:36:53.952141Z",
     "iopub.status.idle": "2024-08-31T03:36:53.958796Z",
     "shell.execute_reply": "2024-08-31T03:36:53.957799Z",
     "shell.execute_reply.started": "2024-08-31T03:36:53.952431Z"
    }
   },
   "outputs": [],
   "source": [
    "import os\n",
    "os.environ['http_proxy'] = 'http://127.0.0.1:7890'\n",
    "os.environ['https_proxy'] = 'http://127.0.0.1:7890'"
   ]
  },
  {
   "cell_type": "markdown",
   "id": "d81e7377-8f00-47c4-a2ef-cfcc39187a02",
   "metadata": {},
   "source": [
    "### about SFT"
   ]
  },
  {
   "cell_type": "markdown",
   "id": "5c74e257-5ea3-4f9b-83b2-ec12cfcacced",
   "metadata": {},
   "source": [
    "Recall that creating a ChatGPT at home involves 3 steps:\n",
    "\n",
    "1. pre-training a large language model (LLM) to predict the next token on internet-scale data, on clusters of thousands of GPUs. One calls the result a \"base model\"\n",
    "2. supervised fine-tuning (SFT) to turn the base model into a useful assistant\n",
    "   - base model => \"chatbot\"/\"assistant\"\n",
    "   - fine-tuning the model on human instruction data, using the cross-entropy loss.\n",
    "   - This means that the model is **still trained to predict the next token**, although we now want the model to generate useful completions given an instruction like \"what are 10 things to do in London?\", \"How can I make pancakes?\" or \"Write me a poem about elephants\".\n",
    "   - https://gizmodo.com/chatgpt-openai-ai-contractors-15-dollars-per-hour-1850415474\n",
    "       - 工人通常每小时赚15美元的标注合同工\n",
    "4. human preference fine-tuning which increases the assistant's friendliness, helpfulness and safety."
   ]
  },
  {
   "cell_type": "markdown",
   "id": "c5ef4bb2-54ac-4028-b56a-8f6eeeea8472",
   "metadata": {},
   "source": [
    "SFT\n",
    "- RAG SFT\n",
    "    - https://www.bilibili.com/video/BV1Yx4y147t4/\n",
    "- Multi-Turn conversation SFT\n",
    "- Tool use (function calling) SFT"
   ]
  },
  {
   "cell_type": "markdown",
   "id": "dd78fbf3-6e3d-4875-bb27-6b5b359e9e63",
   "metadata": {},
   "source": [
    "### dataset"
   ]
  },
  {
   "cell_type": "markdown",
   "id": "ac6a5d0d-867f-41fd-bc15-f0af9701d100",
   "metadata": {},
   "source": [
    "- Zephyr: distilled SFT （dSFT），distilled DPO（dDPO）\n",
    "    - https://arxiv.org/pdf/2310.16944\n",
    "    - https://github.com/huggingface/alignment-handbook"
   ]
  },
  {
   "cell_type": "code",
   "execution_count": 89,
   "id": "45e0ee8f-945f-452f-aede-5553a22ea265",
   "metadata": {
    "execution": {
     "iopub.execute_input": "2024-08-31T07:45:25.425868Z",
     "iopub.status.busy": "2024-08-31T07:45:25.425344Z",
     "iopub.status.idle": "2024-08-31T07:45:31.257986Z",
     "shell.execute_reply": "2024-08-31T07:45:31.256141Z",
     "shell.execute_reply.started": "2024-08-31T07:45:25.425832Z"
    }
   },
   "outputs": [],
   "source": [
    "from datasets import load_dataset\n",
    "\n",
    "# based on config\n",
    "raw_datasets = load_dataset(\"HuggingFaceH4/ultrachat_200k\")"
   ]
  },
  {
   "cell_type": "code",
   "execution_count": 90,
   "id": "4acada79-94f3-4d54-b197-be0f843f5fc9",
   "metadata": {
    "execution": {
     "iopub.execute_input": "2024-08-31T07:46:06.606067Z",
     "iopub.status.busy": "2024-08-31T07:46:06.605369Z",
     "iopub.status.idle": "2024-08-31T07:46:06.620926Z",
     "shell.execute_reply": "2024-08-31T07:46:06.618715Z",
     "shell.execute_reply.started": "2024-08-31T07:46:06.606019Z"
    }
   },
   "outputs": [
    {
     "data": {
      "text/plain": [
       "DatasetDict({\n",
       "    train_sft: Dataset({\n",
       "        features: ['prompt', 'prompt_id', 'messages'],\n",
       "        num_rows: 207865\n",
       "    })\n",
       "    test_sft: Dataset({\n",
       "        features: ['prompt', 'prompt_id', 'messages'],\n",
       "        num_rows: 23110\n",
       "    })\n",
       "    train_gen: Dataset({\n",
       "        features: ['prompt', 'prompt_id', 'messages'],\n",
       "        num_rows: 256032\n",
       "    })\n",
       "    test_gen: Dataset({\n",
       "        features: ['prompt', 'prompt_id', 'messages'],\n",
       "        num_rows: 28304\n",
       "    })\n",
       "})"
      ]
     },
     "execution_count": 90,
     "metadata": {},
     "output_type": "execute_result"
    }
   ],
   "source": [
    "raw_datasets"
   ]
  },
  {
   "cell_type": "code",
   "execution_count": 91,
   "id": "98dbe340-c801-41c8-9b18-affddda0ae23",
   "metadata": {
    "execution": {
     "iopub.execute_input": "2024-08-31T07:46:09.044663Z",
     "iopub.status.busy": "2024-08-31T07:46:09.044055Z",
     "iopub.status.idle": "2024-08-31T07:46:09.055012Z",
     "shell.execute_reply": "2024-08-31T07:46:09.052864Z",
     "shell.execute_reply.started": "2024-08-31T07:46:09.044617Z"
    }
   },
   "outputs": [],
   "source": [
    "from datasets import DatasetDict\n",
    "raw_datasets = DatasetDict({\n",
    "    \"train\": raw_datasets[\"train_sft\"],\n",
    "    \"test\": raw_datasets[\"test_sft\"]\n",
    "})"
   ]
  },
  {
   "cell_type": "code",
   "execution_count": 95,
   "id": "1e051d4e-9115-4e99-a47d-a84e783e14f2",
   "metadata": {
    "execution": {
     "iopub.execute_input": "2024-08-31T07:47:09.538838Z",
     "iopub.status.busy": "2024-08-31T07:47:09.538175Z",
     "iopub.status.idle": "2024-08-31T07:47:09.550225Z",
     "shell.execute_reply": "2024-08-31T07:47:09.548310Z",
     "shell.execute_reply.started": "2024-08-31T07:47:09.538789Z"
    }
   },
   "outputs": [],
   "source": [
    "# from datasets import load_dataset\n",
    "\n",
    "# raw_datasets = load_dataset(\"HuggingFaceH4/ultrachat_200k\", split=[\"train_sft\", \"test_sft\"])\n",
    "# raw_datasets = DatasetDict({\n",
    "#     \"train\": raw_datasets[\"train_sft\"],\n",
    "#     \"test\": raw_datasets[\"test_sft\"]\n",
    "# })"
   ]
  },
  {
   "cell_type": "code",
   "execution_count": 78,
   "id": "cf93a4f5-3eb0-4bf0-9f18-a49e8e5d9212",
   "metadata": {
    "execution": {
     "iopub.execute_input": "2024-08-31T07:42:29.848728Z",
     "iopub.status.busy": "2024-08-31T07:42:29.848072Z",
     "iopub.status.idle": "2024-08-31T07:42:29.858683Z",
     "shell.execute_reply": "2024-08-31T07:42:29.856369Z",
     "shell.execute_reply.started": "2024-08-31T07:42:29.848678Z"
    }
   },
   "outputs": [],
   "source": [
    "# from datasets import DatasetDict\n",
    "\n",
    "# # remove this when done debugging\n",
    "# indices = range(0,100)\n",
    "\n",
    "# dataset_dict = {\"train\": raw_datasets[\"train_sft\"].select(indices),\n",
    "#                 \"test\": raw_datasets[\"test_sft\"].select(indices)}\n",
    "\n",
    "# raw_datasets = DatasetDict(dataset_dict)\n",
    "# raw_datasets"
   ]
  },
  {
   "cell_type": "code",
   "execution_count": 96,
   "id": "b005cc2c-25ad-43a6-a7f9-b3631f4b6f0c",
   "metadata": {
    "execution": {
     "iopub.execute_input": "2024-08-31T07:47:12.599950Z",
     "iopub.status.busy": "2024-08-31T07:47:12.599295Z",
     "iopub.status.idle": "2024-08-31T07:47:12.615666Z",
     "shell.execute_reply": "2024-08-31T07:47:12.613468Z",
     "shell.execute_reply.started": "2024-08-31T07:47:12.599901Z"
    }
   },
   "outputs": [
    {
     "data": {
      "text/plain": [
       "dict_keys(['prompt', 'prompt_id', 'messages'])"
      ]
     },
     "execution_count": 96,
     "metadata": {},
     "output_type": "execute_result"
    }
   ],
   "source": [
    "raw_datasets['train'][0].keys()"
   ]
  },
  {
   "cell_type": "code",
   "execution_count": 97,
   "id": "e72cbc84-a158-44a9-8c67-15b83e08c7a5",
   "metadata": {
    "execution": {
     "iopub.execute_input": "2024-08-31T07:47:14.018777Z",
     "iopub.status.busy": "2024-08-31T07:47:14.018136Z",
     "iopub.status.idle": "2024-08-31T07:47:14.035170Z",
     "shell.execute_reply": "2024-08-31T07:47:14.033035Z",
     "shell.execute_reply.started": "2024-08-31T07:47:14.018731Z"
    }
   },
   "outputs": [
    {
     "name": "stdout",
     "output_type": "stream",
     "text": [
      "f0e37e9f7800261167ce91143f98f511f768847236f133f2d0aed60b444ebe57 These instructions apply to section-based themes (Responsive 6.0+, Retina 4.0+, Parallax 3.0+ Turbo 2.0+, Mobilia 5.0+). What theme version am I using?\n",
      "On your Collections pages & Featured Collections sections, you can easily show the secondary image of a product on hover by enabling one of the theme's built-in settings!\n",
      "Your Collection pages & Featured Collections sections will now display the secondary product image just by hovering over that product image thumbnail.\n",
      "Does this feature apply to all sections of the theme or just specific ones as listed in the text material?\n"
     ]
    }
   ],
   "source": [
    "print(raw_datasets['train'][0]['prompt_id'], raw_datasets['train'][0]['prompt'])"
   ]
  },
  {
   "cell_type": "code",
   "execution_count": 99,
   "id": "95daf2e2-a290-457d-b94d-5d52b141075c",
   "metadata": {
    "execution": {
     "iopub.execute_input": "2024-08-31T07:47:20.755568Z",
     "iopub.status.busy": "2024-08-31T07:47:20.754282Z",
     "iopub.status.idle": "2024-08-31T07:47:20.765484Z",
     "shell.execute_reply": "2024-08-31T07:47:20.764442Z",
     "shell.execute_reply.started": "2024-08-31T07:47:20.755535Z"
    }
   },
   "outputs": [
    {
     "name": "stdout",
     "output_type": "stream",
     "text": [
      "user                :  These instructions apply to section-based themes (Responsive 6.0+, Retina 4.0+, Parallax 3.0+ Turbo 2.0+, Mobilia 5.0+). What theme version am I using?\n",
      "On your Collections pages & Featured Collections sections, you can easily show the secondary image of a product on hover by enabling one of the theme's built-in settings!\n",
      "Your Collection pages & Featured Collections sections will now display the secondary product image just by hovering over that product image thumbnail.\n",
      "Does this feature apply to all sections of the theme or just specific ones as listed in the text material?\n",
      "assistant           :  This feature only applies to Collection pages and Featured Collections sections of the section-based themes listed in the text material.\n",
      "user                :  Can you guide me through the process of enabling the secondary image hover feature on my Collection pages and Featured Collections sections?\n",
      "assistant           :  Sure, here are the steps to enable the secondary image hover feature on your Collection pages and Featured Collections sections:\n",
      "\n",
      "1. Log in to your Shopify account and go to your Online Store.\n",
      "2. Click on Customize theme for the section-based theme you are using.\n",
      "3. Navigate to the Collection pages or Featured Collections section where you want to enable the secondary image hover feature.\n",
      "4. With the section open, click on the section's setting (gear) icon in the top-left corner.\n",
      "5. In the settings panel that appears, look for an option labeled 'Image display' or 'Image hover'.\n",
      "6. If available, select 'Show secondary image on hover'.\n",
      "7. Save the changes and preview the Collection/Featured Collection page to see the effect.\n",
      "\n",
      "If you're having trouble finding the setting, the best thing to do is refer to your theme's documentation, since the location and labeling of settings can vary between themes.\n",
      "user                :  Can you provide me with a link to the documentation for my theme?\n",
      "assistant           :  I don't have access to your store's theme information. However, you can usually find the documentation for your theme by going to the shopify theme store, finding your theme and clicking on the 'support' link located in the bottom right corner of the page. Alternatively, you can do a google search for the name of your theme followed by 'documentation' or 'user guide'.\n",
      "user                :  Can you confirm if this feature also works for the Quick Shop section of my theme?\n",
      "assistant           :  The secondary image hover feature may or may not work for your Quick Shop section, depending on the configuration of your theme. Some themes include this feature in the Quick Shop section by default, while others may require additional customization. To check if this feature is available for the Quick Shop section of your theme, follow these steps:\n",
      "\n",
      "1. Go to the Quick Shop section where you would like to enable the feature. 2. Click on the Quick Shop settings icon (gear icon) and look for 'Image display' or 'Image hover'. 3. If available, select 'Show secondary image on hover'. 4. Save the changes. If this option is not available in your Quick Shop section settings, you may need to reach out to your theme developer for assistance with customizing your Quick Shop section to include this feature.\n"
     ]
    }
   ],
   "source": [
    "for msg in raw_datasets['train'][0]['messages']:\n",
    "    role = msg['role']\n",
    "    content = msg['content']\n",
    "    print(f'{role:20}:  {content}')"
   ]
  },
  {
   "cell_type": "markdown",
   "id": "a41757a0-acf7-46d4-9123-330f335248a5",
   "metadata": {},
   "source": [
    "### tokenizer"
   ]
  },
  {
   "cell_type": "markdown",
   "id": "34d7051b-7b56-4694-9ee4-e9a0de9d790f",
   "metadata": {},
   "source": [
    "- pad token\n",
    "    - During pre-training, one doesn't need to pad since one just creates blocks of text to predict the next token, but during fine-tuning, we will need to pad the (instruction, completion) pairs in order to create batches of equal length.\n",
    "- max seqlen\n",
    "    - this is required in order to truncate sequences which are too long for the model. Here we decide to train on at most 2048 tokens.\n",
    "- chat template：https://huggingface.co/blog/chat-templates\n",
    "    - `<|user|>` to indicate a user message and `<|assistant|>` to indicate the chatbot's response\n",
    "    - 在 hf Transformers，chat_template 定义在 tokenizer\n",
    "    - base model 是 None，instruct model 对应的 tokenizer 会有定义；"
   ]
  },
  {
   "cell_type": "code",
   "execution_count": 17,
   "id": "19c71379-030f-4aa5-b84f-7f58c75b5b36",
   "metadata": {
    "execution": {
     "iopub.execute_input": "2024-08-31T03:44:15.001619Z",
     "iopub.status.busy": "2024-08-31T03:44:15.001289Z",
     "iopub.status.idle": "2024-08-31T03:44:15.009034Z",
     "shell.execute_reply": "2024-08-31T03:44:15.007072Z",
     "shell.execute_reply.started": "2024-08-31T03:44:15.001597Z"
    }
   },
   "outputs": [],
   "source": [
    "from transformers import AutoTokenizer"
   ]
  },
  {
   "cell_type": "code",
   "execution_count": 18,
   "id": "59fc93d5-fd87-401d-8c15-1cd2968c3f15",
   "metadata": {
    "execution": {
     "iopub.execute_input": "2024-08-31T03:44:16.729119Z",
     "iopub.status.busy": "2024-08-31T03:44:16.728482Z",
     "iopub.status.idle": "2024-08-31T03:44:17.117782Z",
     "shell.execute_reply": "2024-08-31T03:44:17.115639Z",
     "shell.execute_reply.started": "2024-08-31T03:44:16.729075Z"
    }
   },
   "outputs": [],
   "source": [
    "model_id = \"mistralai/Mistral-7B-v0.1\"\n",
    "tokenizer = AutoTokenizer.from_pretrained(model_id)"
   ]
  },
  {
   "cell_type": "code",
   "execution_count": 20,
   "id": "cfb92f40-5d1f-4aa7-ba39-60c1cb552f12",
   "metadata": {
    "execution": {
     "iopub.execute_input": "2024-08-31T03:46:32.996905Z",
     "iopub.status.busy": "2024-08-31T03:46:32.996252Z",
     "iopub.status.idle": "2024-08-31T03:46:33.008761Z",
     "shell.execute_reply": "2024-08-31T03:46:33.006603Z",
     "shell.execute_reply.started": "2024-08-31T03:46:32.996859Z"
    }
   },
   "outputs": [
    {
     "data": {
      "text/plain": [
       "(None, None)"
      ]
     },
     "execution_count": 20,
     "metadata": {},
     "output_type": "execute_result"
    }
   ],
   "source": [
    "tokenizer.pad_token, tokenizer.pad_token_id"
   ]
  },
  {
   "cell_type": "code",
   "execution_count": 45,
   "id": "d28e294b-fd87-496e-a5bc-0858591e1955",
   "metadata": {
    "execution": {
     "iopub.execute_input": "2024-08-31T04:11:36.683420Z",
     "iopub.status.busy": "2024-08-31T04:11:36.682775Z",
     "iopub.status.idle": "2024-08-31T04:11:36.696004Z",
     "shell.execute_reply": "2024-08-31T04:11:36.693651Z",
     "shell.execute_reply.started": "2024-08-31T04:11:36.683372Z"
    }
   },
   "outputs": [
    {
     "name": "stdout",
     "output_type": "stream",
     "text": [
      "<s> </s>\n",
      "[1] [2]\n",
      "<s> </s>\n"
     ]
    }
   ],
   "source": [
    "print(tokenizer.bos_token, tokenizer.eos_token)\n",
    "print(tokenizer.encode('<s>', add_special_tokens=False), tokenizer.encode('</s>', add_special_tokens=False))\n",
    "print(tokenizer.decode(1), tokenizer.decode(2))"
   ]
  },
  {
   "cell_type": "code",
   "execution_count": 74,
   "id": "6d57f6b2-142c-4bc2-b180-517fa96db2b5",
   "metadata": {
    "execution": {
     "iopub.execute_input": "2024-08-31T07:36:00.885705Z",
     "iopub.status.busy": "2024-08-31T07:36:00.885019Z",
     "iopub.status.idle": "2024-08-31T07:36:00.897108Z",
     "shell.execute_reply": "2024-08-31T07:36:00.894691Z",
     "shell.execute_reply.started": "2024-08-31T07:36:00.885619Z"
    }
   },
   "outputs": [],
   "source": [
    "# set pad_token_id equal to the eos_token_id if not set\n",
    "if tokenizer.pad_token_id is None:\n",
    "  tokenizer.pad_token_id = tokenizer.eos_token_id"
   ]
  },
  {
   "cell_type": "code",
   "execution_count": 47,
   "id": "cf6f70e7-a27d-4951-8314-15f392f8b156",
   "metadata": {
    "execution": {
     "iopub.execute_input": "2024-08-31T04:13:43.830587Z",
     "iopub.status.busy": "2024-08-31T04:13:43.829925Z",
     "iopub.status.idle": "2024-08-31T04:13:43.842191Z",
     "shell.execute_reply": "2024-08-31T04:13:43.840045Z",
     "shell.execute_reply.started": "2024-08-31T04:13:43.830540Z"
    }
   },
   "outputs": [
    {
     "data": {
      "text/plain": [
       "1000000000000000019884624838656"
      ]
     },
     "execution_count": 47,
     "metadata": {},
     "output_type": "execute_result"
    }
   ],
   "source": [
    "tokenizer.model_max_length"
   ]
  },
  {
   "cell_type": "code",
   "execution_count": 48,
   "id": "ed19b691-ddb5-4657-a172-a5e83a4f6882",
   "metadata": {
    "execution": {
     "iopub.execute_input": "2024-08-31T04:13:54.477226Z",
     "iopub.status.busy": "2024-08-31T04:13:54.476576Z",
     "iopub.status.idle": "2024-08-31T04:13:54.486150Z",
     "shell.execute_reply": "2024-08-31T04:13:54.483869Z",
     "shell.execute_reply.started": "2024-08-31T04:13:54.477179Z"
    }
   },
   "outputs": [],
   "source": [
    "# Set reasonable default for models without max length\n",
    "if tokenizer.model_max_length > 100_000:\n",
    "  tokenizer.model_max_length = 2048"
   ]
  },
  {
   "cell_type": "code",
   "execution_count": 21,
   "id": "9f33ae93-fc02-46c8-811f-9624db99db29",
   "metadata": {
    "execution": {
     "iopub.execute_input": "2024-08-31T03:48:46.897756Z",
     "iopub.status.busy": "2024-08-31T03:48:46.897059Z",
     "iopub.status.idle": "2024-08-31T03:48:46.906835Z",
     "shell.execute_reply": "2024-08-31T03:48:46.904425Z",
     "shell.execute_reply.started": "2024-08-31T03:48:46.897664Z"
    }
   },
   "outputs": [],
   "source": [
    "tokenizer.chat_template"
   ]
  },
  {
   "cell_type": "code",
   "execution_count": 27,
   "id": "69592cff-50be-4e44-85ec-ba5f52a74baa",
   "metadata": {
    "execution": {
     "iopub.execute_input": "2024-08-31T04:04:53.721013Z",
     "iopub.status.busy": "2024-08-31T04:04:53.720688Z",
     "iopub.status.idle": "2024-08-31T04:04:55.631466Z",
     "shell.execute_reply": "2024-08-31T04:04:55.630146Z",
     "shell.execute_reply.started": "2024-08-31T04:04:53.720992Z"
    },
    "scrolled": true
   },
   "outputs": [
    {
     "name": "stdout",
     "output_type": "stream",
     "text": [
      "meta-llama/Meta-Llama-3-8B\n",
      "None\n",
      "======================\n",
      "meta-llama/Meta-Llama-3-8B-Instruct\n",
      "{% set loop_messages = messages %}{% for message in loop_messages %}{% set content = '<|start_header_id|>' + message['role'] + '<|end_header_id|>\n",
      "\n",
      "'+ message['content'] | trim + '<|eot_id|>' %}{% if loop.index0 == 0 %}{% set content = bos_token + content %}{% endif %}{{ content }}{% endfor %}{% if add_generation_prompt %}{{ '<|start_header_id|>assistant<|end_header_id|>\n",
      "\n",
      "' }}{% endif %}\n",
      "======================\n",
      "mistralai/Mistral-7B-Instruct-v0.1\n",
      "{{ bos_token }}{% for message in messages %}{% if (message['role'] == 'user') != (loop.index0 % 2 == 0) %}{{ raise_exception('Conversation roles must alternate user/assistant/user/assistant/...') }}{% endif %}{% if message['role'] == 'user' %}{{ '[INST] ' + message['content'] + ' [/INST]' }}{% elif message['role'] == 'assistant' %}{{ message['content'] + eos_token + ' ' }}{% else %}{{ raise_exception('Only user and assistant roles are supported!') }}{% endif %}{% endfor %}\n"
     ]
    }
   ],
   "source": [
    "print('meta-llama/Meta-Llama-3-8B')\n",
    "print(AutoTokenizer.from_pretrained('meta-llama/Meta-Llama-3-8B').chat_template)\n",
    "print('======================')\n",
    "print('meta-llama/Meta-Llama-3-8B-Instruct')\n",
    "print(AutoTokenizer.from_pretrained('meta-llama/Meta-Llama-3-8B-Instruct').chat_template)\n",
    "print('======================')\n",
    "print('mistralai/Mistral-7B-Instruct-v0.1')\n",
    "print(AutoTokenizer.from_pretrained('mistralai/Mistral-7B-Instruct-v0.1').chat_template)"
   ]
  },
  {
   "cell_type": "markdown",
   "id": "db330362-1468-42e9-8043-fb32c98a30c9",
   "metadata": {},
   "source": [
    "### apply chat template"
   ]
  },
  {
   "cell_type": "code",
   "execution_count": 50,
   "id": "04b02adf-a148-4b26-af34-cd4d549cb377",
   "metadata": {
    "execution": {
     "iopub.execute_input": "2024-08-31T04:14:45.805975Z",
     "iopub.status.busy": "2024-08-31T04:14:45.805283Z",
     "iopub.status.idle": "2024-08-31T04:14:45.815901Z",
     "shell.execute_reply": "2024-08-31T04:14:45.813619Z",
     "shell.execute_reply.started": "2024-08-31T04:14:45.805927Z"
    }
   },
   "outputs": [],
   "source": [
    "DEFAULT_CHAT_TEMPLATE = \"{% for message in messages %}\\n{% if message['role'] == 'user' %}\\n{{ '<|user|>\\n' + message['content'] + eos_token }}\\n{% elif message['role'] == 'system' %}\\n{{ '<|system|>\\n' + message['content'] + eos_token }}\\n{% elif message['role'] == 'assistant' %}\\n{{ '<|assistant|>\\n'  + message['content'] + eos_token }}\\n{% endif %}\\n{% if loop.last and add_generation_prompt %}\\n{{ '<|assistant|>' }}\\n{% endif %}\\n{% endfor %}\"\n",
    "tokenizer.chat_template = DEFAULT_CHAT_TEMPLATE"
   ]
  },
  {
   "cell_type": "markdown",
   "id": "d4e3904e-c24a-4dec-9601-35774f226fda",
   "metadata": {},
   "source": [
    "- `tokenizer.apply_chat_template(messages, tokenize=False)`\n",
    "    - 接受的是 list\n",
    "    - 基于 role\n",
    "        - `'<|user|>\\n' + message['content'] + eos_token`\n",
    "        - `'<|system|>\\n' + message['content'] + eos_token`\n",
    "        - `'<|assistant|>\\n'  + message['content'] + eos_token`\n"
   ]
  },
  {
   "cell_type": "code",
   "execution_count": 57,
   "id": "5d784368-67f0-4579-8bf7-440536c15f0f",
   "metadata": {
    "execution": {
     "iopub.execute_input": "2024-08-31T04:20:23.305862Z",
     "iopub.status.busy": "2024-08-31T04:20:23.305171Z",
     "iopub.status.idle": "2024-08-31T04:20:23.316832Z",
     "shell.execute_reply": "2024-08-31T04:20:23.315190Z",
     "shell.execute_reply.started": "2024-08-31T04:20:23.305813Z"
    }
   },
   "outputs": [
    {
     "data": {
      "text/plain": [
       "'</s>'"
      ]
     },
     "execution_count": 57,
     "metadata": {},
     "output_type": "execute_result"
    }
   ],
   "source": [
    "tokenizer.eos_token"
   ]
  },
  {
   "cell_type": "code",
   "execution_count": 101,
   "id": "a16af539-8009-4274-bf4d-e36474818f9a",
   "metadata": {
    "execution": {
     "iopub.execute_input": "2024-08-31T07:47:32.240109Z",
     "iopub.status.busy": "2024-08-31T07:47:32.239513Z",
     "iopub.status.idle": "2024-08-31T07:47:32.257189Z",
     "shell.execute_reply": "2024-08-31T07:47:32.254833Z",
     "shell.execute_reply.started": "2024-08-31T07:47:32.240065Z"
    }
   },
   "outputs": [
    {
     "data": {
      "text/plain": [
       "['prompt', 'prompt_id', 'messages']"
      ]
     },
     "execution_count": 101,
     "metadata": {},
     "output_type": "execute_result"
    }
   ],
   "source": [
    "import re\n",
    "import random\n",
    "from multiprocessing import cpu_count\n",
    "\n",
    "def apply_chat_template(example, tokenizer):\n",
    "    messages = example[\"messages\"]\n",
    "    # We add an empty system message if there is none\n",
    "    if messages[0][\"role\"] != \"system\":\n",
    "        messages.insert(0, {\"role\": \"system\", \"content\": \"\"})\n",
    "    example[\"text\"] = tokenizer.apply_chat_template(messages, tokenize=False)\n",
    "\n",
    "    return example\n",
    "\n",
    "column_names = list(raw_datasets[\"train\"].features)\n",
    "column_names"
   ]
  },
  {
   "cell_type": "code",
   "execution_count": 102,
   "id": "454265d1-cdb9-46ac-b6c3-c2e1e2324e10",
   "metadata": {
    "execution": {
     "iopub.execute_input": "2024-08-31T07:47:34.281892Z",
     "iopub.status.busy": "2024-08-31T07:47:34.281198Z",
     "iopub.status.idle": "2024-08-31T07:47:34.825324Z",
     "shell.execute_reply": "2024-08-31T07:47:34.823937Z",
     "shell.execute_reply.started": "2024-08-31T07:47:34.281844Z"
    }
   },
   "outputs": [],
   "source": [
    "raw_datasets = raw_datasets.map(apply_chat_template,\n",
    "                                num_proc=cpu_count(),\n",
    "                                fn_kwargs={\"tokenizer\": tokenizer},\n",
    "                                remove_columns=column_names,\n",
    "                                desc=\"Applying chat template\",)"
   ]
  },
  {
   "cell_type": "code",
   "execution_count": 103,
   "id": "a67c0e5a-11e3-407d-a2f1-c4d60e77e636",
   "metadata": {
    "execution": {
     "iopub.execute_input": "2024-08-31T07:47:37.477627Z",
     "iopub.status.busy": "2024-08-31T07:47:37.476698Z",
     "iopub.status.idle": "2024-08-31T07:47:37.489951Z",
     "shell.execute_reply": "2024-08-31T07:47:37.487704Z",
     "shell.execute_reply.started": "2024-08-31T07:47:37.477599Z"
    }
   },
   "outputs": [
    {
     "data": {
      "text/plain": [
       "Dataset({\n",
       "    features: ['text'],\n",
       "    num_rows: 207865\n",
       "})"
      ]
     },
     "execution_count": 103,
     "metadata": {},
     "output_type": "execute_result"
    }
   ],
   "source": [
    "# create the splits\n",
    "train_dataset = raw_datasets[\"train\"]\n",
    "eval_dataset = raw_datasets[\"test\"]\n",
    "\n",
    "train_dataset"
   ]
  },
  {
   "cell_type": "code",
   "execution_count": 104,
   "id": "4f2ba065-b159-4049-a905-9fbe1854c22b",
   "metadata": {
    "execution": {
     "iopub.execute_input": "2024-08-31T07:47:40.926673Z",
     "iopub.status.busy": "2024-08-31T07:47:40.926009Z",
     "iopub.status.idle": "2024-08-31T07:47:40.940230Z",
     "shell.execute_reply": "2024-08-31T07:47:40.937846Z",
     "shell.execute_reply.started": "2024-08-31T07:47:40.926624Z"
    }
   },
   "outputs": [
    {
     "name": "stdout",
     "output_type": "stream",
     "text": [
      "<|system|>\n",
      "</s>\n",
      "<|user|>\n",
      "These instructions apply to section-based themes (Responsive 6.0+, Retina 4.0+, Parallax 3.0+ Turbo 2.0+, Mobilia 5.0+). What theme version am I using?\n",
      "On your Collections pages & Featured Collections sections, you can easily show the secondary image of a product on hover by enabling one of the theme's built-in settings!\n",
      "Your Collection pages & Featured Collections sections will now display the secondary product image just by hovering over that product image thumbnail.\n",
      "Does this feature apply to all sections of the theme or just specific ones as listed in the text material?</s>\n",
      "<|assistant|>\n",
      "This feature only applies to Collection pages and Featured Collections sections of the section-based themes listed in the text material.</s>\n",
      "<|user|>\n",
      "Can you guide me through the process of enabling the secondary image hover feature on my Collection pages and Featured Collections sections?</s>\n",
      "<|assistant|>\n",
      "Sure, here are the steps to enable the secondary image hover feature on your Collection pages and Featured Collections sections:\n",
      "\n",
      "1. Log in to your Shopify account and go to your Online Store.\n",
      "2. Click on Customize theme for the section-based theme you are using.\n",
      "3. Navigate to the Collection pages or Featured Collections section where you want to enable the secondary image hover feature.\n",
      "4. With the section open, click on the section's setting (gear) icon in the top-left corner.\n",
      "5. In the settings panel that appears, look for an option labeled 'Image display' or 'Image hover'.\n",
      "6. If available, select 'Show secondary image on hover'.\n",
      "7. Save the changes and preview the Collection/Featured Collection page to see the effect.\n",
      "\n",
      "If you're having trouble finding the setting, the best thing to do is refer to your theme's documentation, since the location and labeling of settings can vary between themes.</s>\n",
      "<|user|>\n",
      "Can you provide me with a link to the documentation for my theme?</s>\n",
      "<|assistant|>\n",
      "I don't have access to your store's theme information. However, you can usually find the documentation for your theme by going to the shopify theme store, finding your theme and clicking on the 'support' link located in the bottom right corner of the page. Alternatively, you can do a google search for the name of your theme followed by 'documentation' or 'user guide'.</s>\n",
      "<|user|>\n",
      "Can you confirm if this feature also works for the Quick Shop section of my theme?</s>\n",
      "<|assistant|>\n",
      "The secondary image hover feature may or may not work for your Quick Shop section, depending on the configuration of your theme. Some themes include this feature in the Quick Shop section by default, while others may require additional customization. To check if this feature is available for the Quick Shop section of your theme, follow these steps:\n",
      "\n",
      "1. Go to the Quick Shop section where you would like to enable the feature. 2. Click on the Quick Shop settings icon (gear icon) and look for 'Image display' or 'Image hover'. 3. If available, select 'Show secondary image on hover'. 4. Save the changes. If this option is not available in your Quick Shop section settings, you may need to reach out to your theme developer for assistance with customizing your Quick Shop section to include this feature.</s>\n",
      "\n"
     ]
    }
   ],
   "source": [
    "print(raw_datasets['train'][0]['text'])"
   ]
  },
  {
   "cell_type": "markdown",
   "id": "891edef5-051d-43a3-9fdc-1f6bc98010ff",
   "metadata": {},
   "source": [
    "### model"
   ]
  },
  {
   "cell_type": "code",
   "execution_count": 105,
   "id": "93575408-ee0d-470a-9a88-e6a660e38b32",
   "metadata": {
    "execution": {
     "iopub.execute_input": "2024-08-31T07:47:44.942892Z",
     "iopub.status.busy": "2024-08-31T07:47:44.942238Z",
     "iopub.status.idle": "2024-08-31T07:47:44.958605Z",
     "shell.execute_reply": "2024-08-31T07:47:44.956772Z",
     "shell.execute_reply.started": "2024-08-31T07:47:44.942845Z"
    }
   },
   "outputs": [],
   "source": [
    "from transformers import BitsAndBytesConfig, TrainingArguments\n",
    "import torch\n",
    "\n",
    "# specify how to quantize the model\n",
    "quantization_config = BitsAndBytesConfig(\n",
    "    load_in_4bit=True,\n",
    "    bnb_4bit_quant_type=\"nf4\", \n",
    "    bnb_4bit_use_double_quant=True, \n",
    "    bnb_4bit_compute_dtype=torch.bfloat16,\n",
    ")\n",
    "device_map = {\"\": torch.cuda.current_device()} if torch.cuda.is_available() else None\n",
    "\n",
    "model_kwargs = dict(\n",
    "    attn_implementation=\"flash_attention_2\", # set this to True if your GPU supports it (Flash Attention drastically speeds up model computations)\n",
    "    torch_dtype=\"auto\",\n",
    "    use_cache=False, # set to False as we're going to use gradient checkpointing\n",
    "    device_map=device_map,\n",
    "    quantization_config=quantization_config,\n",
    ")"
   ]
  },
  {
   "cell_type": "code",
   "execution_count": null,
   "id": "b9d8efd0-aa49-442b-83b6-236d5a4a8809",
   "metadata": {},
   "outputs": [],
   "source": [
    "quantization_config"
   ]
  },
  {
   "cell_type": "code",
   "execution_count": 60,
   "id": "37d69a96-0259-4759-b895-17b6a0245a88",
   "metadata": {
    "execution": {
     "iopub.execute_input": "2024-08-31T07:21:14.663866Z",
     "iopub.status.busy": "2024-08-31T07:21:14.663218Z",
     "iopub.status.idle": "2024-08-31T07:21:14.676403Z",
     "shell.execute_reply": "2024-08-31T07:21:14.674536Z",
     "shell.execute_reply.started": "2024-08-31T07:21:14.663820Z"
    }
   },
   "outputs": [
    {
     "data": {
      "text/plain": [
       "{'': 0}"
      ]
     },
     "execution_count": 60,
     "metadata": {},
     "output_type": "execute_result"
    }
   ],
   "source": [
    "device_map"
   ]
  },
  {
   "cell_type": "code",
   "execution_count": 69,
   "id": "69f36c60-d024-45d1-8bd2-f38bd55bd46c",
   "metadata": {
    "execution": {
     "iopub.execute_input": "2024-08-31T07:33:57.061106Z",
     "iopub.status.busy": "2024-08-31T07:33:57.059468Z",
     "iopub.status.idle": "2024-08-31T07:33:57.068961Z",
     "shell.execute_reply": "2024-08-31T07:33:57.066791Z",
     "shell.execute_reply.started": "2024-08-31T07:33:57.061040Z"
    }
   },
   "outputs": [],
   "source": [
    "from transformers import AutoModelForCausalLM"
   ]
  },
  {
   "cell_type": "code",
   "execution_count": 71,
   "id": "70dadb07-6be9-4572-9c91-b3d5a6e2896e",
   "metadata": {
    "execution": {
     "iopub.execute_input": "2024-08-31T07:34:41.596284Z",
     "iopub.status.busy": "2024-08-31T07:34:41.595955Z",
     "iopub.status.idle": "2024-08-31T07:34:46.383553Z",
     "shell.execute_reply": "2024-08-31T07:34:46.382749Z",
     "shell.execute_reply.started": "2024-08-31T07:34:41.596262Z"
    }
   },
   "outputs": [
    {
     "name": "stderr",
     "output_type": "stream",
     "text": [
      "loading configuration file config.json from cache at /media/whaow/.cache/huggingface/hub/models--mistralai--Mistral-7B-v0.1/snapshots/7231864981174d9bee8c7687c24c8344414eae6b/config.json\n",
      "Model config MistralConfig {\n",
      "  \"_name_or_path\": \"mistralai/Mistral-7B-v0.1\",\n",
      "  \"architectures\": [\n",
      "    \"MistralForCausalLM\"\n",
      "  ],\n",
      "  \"attention_dropout\": 0.0,\n",
      "  \"bos_token_id\": 1,\n",
      "  \"eos_token_id\": 2,\n",
      "  \"head_dim\": 128,\n",
      "  \"hidden_act\": \"silu\",\n",
      "  \"hidden_size\": 4096,\n",
      "  \"initializer_range\": 0.02,\n",
      "  \"intermediate_size\": 14336,\n",
      "  \"max_position_embeddings\": 32768,\n",
      "  \"model_type\": \"mistral\",\n",
      "  \"num_attention_heads\": 32,\n",
      "  \"num_hidden_layers\": 32,\n",
      "  \"num_key_value_heads\": 8,\n",
      "  \"rms_norm_eps\": 1e-05,\n",
      "  \"rope_theta\": 10000.0,\n",
      "  \"sliding_window\": 4096,\n",
      "  \"tie_word_embeddings\": false,\n",
      "  \"torch_dtype\": \"bfloat16\",\n",
      "  \"transformers_version\": \"4.43.3\",\n",
      "  \"use_cache\": false,\n",
      "  \"vocab_size\": 32000\n",
      "}\n",
      "\n",
      "loading weights file model.safetensors from cache at /media/whaow/.cache/huggingface/hub/models--mistralai--Mistral-7B-v0.1/snapshots/7231864981174d9bee8c7687c24c8344414eae6b/model.safetensors.index.json\n",
      "Will use torch_dtype=torch.bfloat16 as defined in model's config object\n",
      "Instantiating MistralForCausalLM model under default dtype torch.bfloat16.\n",
      "Generate config GenerationConfig {\n",
      "  \"bos_token_id\": 1,\n",
      "  \"eos_token_id\": 2,\n",
      "  \"use_cache\": false\n",
      "}\n",
      "\n"
     ]
    },
    {
     "data": {
      "application/vnd.jupyter.widget-view+json": {
       "model_id": "f3a28c70cf904408a12ea277111d8cfe",
       "version_major": 2,
       "version_minor": 0
      },
      "text/plain": [
       "Loading checkpoint shards:   0%|          | 0/2 [00:00<?, ?it/s]"
      ]
     },
     "metadata": {},
     "output_type": "display_data"
    },
    {
     "name": "stderr",
     "output_type": "stream",
     "text": [
      "All model checkpoint weights were used when initializing MistralForCausalLM.\n",
      "\n",
      "All the weights of MistralForCausalLM were initialized from the model checkpoint at mistralai/Mistral-7B-v0.1.\n",
      "If your task is similar to the task the model of the checkpoint was trained on, you can already use MistralForCausalLM for predictions without further training.\n",
      "loading configuration file generation_config.json from cache at /media/whaow/.cache/huggingface/hub/models--mistralai--Mistral-7B-v0.1/snapshots/7231864981174d9bee8c7687c24c8344414eae6b/generation_config.json\n",
      "Generate config GenerationConfig {\n",
      "  \"bos_token_id\": 1,\n",
      "  \"eos_token_id\": 2\n",
      "}\n",
      "\n"
     ]
    }
   ],
   "source": [
    "model = AutoModelForCausalLM.from_pretrained(model_id, **model_kwargs)"
   ]
  },
  {
   "cell_type": "markdown",
   "id": "e13ad894-2390-44f8-b475-dd17212bb301",
   "metadata": {},
   "source": [
    "### trl sft trainer"
   ]
  },
  {
   "cell_type": "code",
   "execution_count": 62,
   "id": "d784ee03-dfce-45ce-9112-c7dee0e0107b",
   "metadata": {
    "execution": {
     "iopub.execute_input": "2024-08-31T07:23:01.730671Z",
     "iopub.status.busy": "2024-08-31T07:23:01.730128Z",
     "iopub.status.idle": "2024-08-31T07:23:01.740159Z",
     "shell.execute_reply": "2024-08-31T07:23:01.737854Z",
     "shell.execute_reply.started": "2024-08-31T07:23:01.730633Z"
    }
   },
   "outputs": [],
   "source": [
    "import os\n",
    "os.environ['NCCL_P2P_DISABLE'] = \"1\"\n",
    "os.environ['NCCL_IB_DISABLE'] = '1'"
   ]
  },
  {
   "cell_type": "code",
   "execution_count": 106,
   "id": "578155dc-d40d-4ca3-86d1-0f92dd889e6a",
   "metadata": {
    "execution": {
     "iopub.execute_input": "2024-08-31T07:49:03.655864Z",
     "iopub.status.busy": "2024-08-31T07:49:03.655204Z",
     "iopub.status.idle": "2024-08-31T08:00:20.904150Z",
     "shell.execute_reply": "2024-08-31T08:00:20.902811Z",
     "shell.execute_reply.started": "2024-08-31T07:49:03.655816Z"
    }
   },
   "outputs": [
    {
     "name": "stderr",
     "output_type": "stream",
     "text": [
      "/home/whaow/anaconda3/lib/python3.10/site-packages/transformers/training_args.py:1525: FutureWarning: `evaluation_strategy` is deprecated and will be removed in version 4.46 of 🤗 Transformers. Use `eval_strategy` instead\n",
      "  warnings.warn(\n",
      "PyTorch: setting up devices\n",
      "/home/whaow/anaconda3/lib/python3.10/site-packages/huggingface_hub/utils/_deprecation.py:100: FutureWarning: Deprecated argument(s) used in '__init__': dataset_text_field, packing, max_seq_length. Will not be supported from version '1.0.0'.\n",
      "\n",
      "Deprecated positional argument(s) used in SFTTrainer, please use the SFTConfig to set these arguments instead.\n",
      "  warnings.warn(message, FutureWarning)\n",
      "/home/whaow/anaconda3/lib/python3.10/site-packages/transformers/training_args.py:1525: FutureWarning: `evaluation_strategy` is deprecated and will be removed in version 4.46 of 🤗 Transformers. Use `eval_strategy` instead\n",
      "  warnings.warn(\n",
      "PyTorch: setting up devices\n",
      "/home/whaow/anaconda3/lib/python3.10/site-packages/trl/trainer/sft_trainer.py:192: UserWarning: You passed a `packing` argument to the SFTTrainer, the value you passed will override the one in the `SFTConfig`.\n",
      "  warnings.warn(\n",
      "/home/whaow/anaconda3/lib/python3.10/site-packages/transformers/training_args.py:1525: FutureWarning: `evaluation_strategy` is deprecated and will be removed in version 4.46 of 🤗 Transformers. Use `eval_strategy` instead\n",
      "  warnings.warn(\n",
      "PyTorch: setting up devices\n",
      "/home/whaow/anaconda3/lib/python3.10/site-packages/trl/trainer/sft_trainer.py:280: UserWarning: You passed a `max_seq_length` argument to the SFTTrainer, the value you passed will override the one in the `SFTConfig`.\n",
      "  warnings.warn(\n",
      "/home/whaow/anaconda3/lib/python3.10/site-packages/trl/trainer/sft_trainer.py:318: UserWarning: You passed a `dataset_text_field` argument to the SFTTrainer, the value you passed will override the one in the `SFTConfig`.\n",
      "  warnings.warn(\n"
     ]
    },
    {
     "data": {
      "application/vnd.jupyter.widget-view+json": {
       "model_id": "d04d241939564cbe9fce0707044ccf7b",
       "version_major": 2,
       "version_minor": 0
      },
      "text/plain": [
       "Generating train split: 0 examples [00:00, ? examples/s]"
      ]
     },
     "metadata": {},
     "output_type": "display_data"
    },
    {
     "data": {
      "application/vnd.jupyter.widget-view+json": {
       "model_id": "605b6581851e4934af4d998e13a9fe1d",
       "version_major": 2,
       "version_minor": 0
      },
      "text/plain": [
       "Generating train split: 0 examples [00:00, ? examples/s]"
      ]
     },
     "metadata": {},
     "output_type": "display_data"
    },
    {
     "name": "stderr",
     "output_type": "stream",
     "text": [
      "/home/whaow/anaconda3/lib/python3.10/site-packages/trl/trainer/sft_trainer.py:408: UserWarning: You passed a tokenizer with `padding_side` not equal to `right` to the SFTTrainer. This might lead to some unexpected behaviour due to overflow issues when training a model in half-precision. You might consider adding `tokenizer.padding_side = 'right'` to your code.\n",
      "  warnings.warn(\n",
      "Using auto half precision backend\n"
     ]
    }
   ],
   "source": [
    "from trl import SFTTrainer\n",
    "from peft import LoraConfig\n",
    "from transformers import TrainingArguments\n",
    "\n",
    "# path where the Trainer will save its checkpoints and logs\n",
    "output_dir = 'data/mistral-7b-sft-lora'\n",
    "\n",
    "# based on config\n",
    "training_args = TrainingArguments(\n",
    "    fp16=True, # specify bf16=True instead when training on GPUs that support bf16\n",
    "    do_eval=True,\n",
    "    eval_strategy=\"epoch\",\n",
    "    per_device_eval_batch_size=4, # originally set to 8\n",
    "    per_device_train_batch_size=4, # originally set to 8\n",
    "    gradient_accumulation_steps=64,\n",
    "    gradient_checkpointing=True,\n",
    "    gradient_checkpointing_kwargs={\"use_reentrant\": False},\n",
    "    learning_rate=2.0e-05,\n",
    "    log_level=\"info\",\n",
    "    logging_steps=5,\n",
    "    logging_strategy=\"steps\",\n",
    "    lr_scheduler_type=\"cosine\",\n",
    "    max_steps=-1,\n",
    "    num_train_epochs=1,\n",
    "    output_dir=output_dir,\n",
    "    overwrite_output_dir=True,\n",
    "    report_to=\"wandb\",\n",
    "    save_strategy=\"no\",\n",
    "    save_total_limit=None,\n",
    "    seed=42,\n",
    ")\n",
    "\n",
    "# based on config\n",
    "peft_config = LoraConfig(\n",
    "        r=64,\n",
    "        lora_alpha=16,\n",
    "        lora_dropout=0.1,\n",
    "        bias=\"none\",\n",
    "        task_type=\"CAUSAL_LM\",\n",
    "        target_modules=[\"q_proj\", \"k_proj\", \"v_proj\", \"o_proj\"],\n",
    ")\n",
    "\n",
    "trainer = SFTTrainer(\n",
    "        # model=model_id,\n",
    "        # model_init_kwargs=model_kwargs,\n",
    "        model=model,\n",
    "        args=training_args,\n",
    "        train_dataset=train_dataset,\n",
    "        eval_dataset=eval_dataset,\n",
    "        dataset_text_field=\"text\",\n",
    "        tokenizer=tokenizer,\n",
    "        packing=True,\n",
    "        peft_config=peft_config,\n",
    "        max_seq_length=tokenizer.model_max_length,\n",
    "        dataset_num_proc=cpu_count()\n",
    "    )"
   ]
  },
  {
   "cell_type": "code",
   "execution_count": 76,
   "id": "a0079d4e-4af9-418d-b283-4bac91131085",
   "metadata": {
    "execution": {
     "iopub.execute_input": "2024-08-31T07:36:12.920420Z",
     "iopub.status.busy": "2024-08-31T07:36:12.919817Z",
     "iopub.status.idle": "2024-08-31T07:39:43.117489Z",
     "shell.execute_reply": "2024-08-31T07:39:43.116538Z",
     "shell.execute_reply.started": "2024-08-31T07:36:12.920389Z"
    }
   },
   "outputs": [
    {
     "name": "stderr",
     "output_type": "stream",
     "text": [
      "***** Running training *****\n",
      "  Num examples = 67\n",
      "  Num Epochs = 1\n",
      "  Instantaneous batch size per device = 1\n",
      "  Training with DataParallel so batch size has been adjusted to: 2\n",
      "  Total train batch size (w. parallel, distributed & accumulation) = 256\n",
      "  Gradient Accumulation steps = 128\n",
      "  Total optimization steps = 1\n",
      "  Number of trainable parameters = 54,525,952\n",
      "Automatic Weights & Biases logging enabled, to disable set os.environ[\"WANDB_DISABLED\"] = \"true\"\n",
      "The input hidden states seems to be silently casted in float32, this might be related to the fact you have upcasted embedding or layer norm layers in float32. We will cast back the input in torch.bfloat16.\n",
      "/home/whaow/anaconda3/lib/python3.10/site-packages/torch/nn/parallel/_functions.py:68: UserWarning: Was asked to gather along dimension 0, but all input tensors were scalars; will instead unsqueeze and return a vector.\n",
      "  warnings.warn('Was asked to gather along dimension 0, but all '\n"
     ]
    },
    {
     "data": {
      "text/html": [
       "\n",
       "    <div>\n",
       "      \n",
       "      <progress value='1' max='1' style='width:300px; height:20px; vertical-align: middle;'></progress>\n",
       "      [1/1 00:58, Epoch 1/1]\n",
       "    </div>\n",
       "    <table border=\"1\" class=\"dataframe\">\n",
       "  <thead>\n",
       " <tr style=\"text-align: left;\">\n",
       "      <th>Epoch</th>\n",
       "      <th>Training Loss</th>\n",
       "      <th>Validation Loss</th>\n",
       "    </tr>\n",
       "  </thead>\n",
       "  <tbody>\n",
       "    <tr>\n",
       "      <td>1</td>\n",
       "      <td>No log</td>\n",
       "      <td>1.163194</td>\n",
       "    </tr>\n",
       "  </tbody>\n",
       "</table><p>"
      ],
      "text/plain": [
       "<IPython.core.display.HTML object>"
      ]
     },
     "metadata": {},
     "output_type": "display_data"
    },
    {
     "name": "stderr",
     "output_type": "stream",
     "text": [
      "\n",
      "***** Running Evaluation *****\n",
      "  Num examples = 64\n",
      "  Batch size = 2\n",
      "\n",
      "\n",
      "Training completed. Do not forget to share your model on huggingface.co/models =)\n",
      "\n",
      "\n"
     ]
    }
   ],
   "source": [
    "train_result = trainer.train()"
   ]
  },
  {
   "cell_type": "code",
   "execution_count": null,
   "id": "93e453bf-39b9-401a-b3ff-38e4c60bb1aa",
   "metadata": {},
   "outputs": [],
   "source": []
  }
 ],
 "metadata": {
  "kernelspec": {
   "display_name": "Python 3 (ipykernel)",
   "language": "python",
   "name": "python3"
  },
  "language_info": {
   "codemirror_mode": {
    "name": "ipython",
    "version": 3
   },
   "file_extension": ".py",
   "mimetype": "text/x-python",
   "name": "python",
   "nbconvert_exporter": "python",
   "pygments_lexer": "ipython3",
   "version": "3.10.13"
  }
 },
 "nbformat": 4,
 "nbformat_minor": 5
}
