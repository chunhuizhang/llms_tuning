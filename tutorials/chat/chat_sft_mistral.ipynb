{
 "cells": [
  {
   "cell_type": "markdown",
   "id": "b8669a35-7487-491c-a500-35ca23267c6e",
   "metadata": {},
   "source": [
    "https://colab.research.google.com/github/NielsRogge/Transformers-Tutorials/blob/master/Mistral/Supervised_fine_tuning_(SFT)_of_an_LLM_using_Hugging_Face_tooling.ipynb#scrollTo=IQ1sMda27Zj6"
   ]
  },
  {
   "cell_type": "code",
   "execution_count": 1,
   "id": "b7b0efcb-9a23-4173-91db-d39e9aff0498",
   "metadata": {
    "execution": {
     "iopub.execute_input": "2024-08-27T12:47:13.836538Z",
     "iopub.status.busy": "2024-08-27T12:47:13.836243Z",
     "iopub.status.idle": "2024-08-27T12:47:13.844499Z",
     "shell.execute_reply": "2024-08-27T12:47:13.843493Z",
     "shell.execute_reply.started": "2024-08-27T12:47:13.836517Z"
    }
   },
   "outputs": [],
   "source": [
    "import os\n",
    "os.environ['http_proxy'] = 'http://127.0.0.1:7890'\n",
    "os.environ['https_proxy'] = 'http://127.0.0.1:7890'"
   ]
  },
  {
   "cell_type": "code",
   "execution_count": 2,
   "id": "45e0ee8f-945f-452f-aede-5553a22ea265",
   "metadata": {
    "execution": {
     "iopub.execute_input": "2024-08-27T12:47:48.749975Z",
     "iopub.status.busy": "2024-08-27T12:47:48.749646Z",
     "iopub.status.idle": "2024-08-27T12:49:37.371421Z",
     "shell.execute_reply": "2024-08-27T12:49:37.369646Z",
     "shell.execute_reply.started": "2024-08-27T12:47:48.749955Z"
    }
   },
   "outputs": [
    {
     "data": {
      "application/vnd.jupyter.widget-view+json": {
       "model_id": "81b2e13c8c074aada4acc62cc22ea10d",
       "version_major": 2,
       "version_minor": 0
      },
      "text/plain": [
       "Downloading readme:   0%|          | 0.00/4.44k [00:00<?, ?B/s]"
      ]
     },
     "metadata": {},
     "output_type": "display_data"
    },
    {
     "name": "stderr",
     "output_type": "stream",
     "text": [
      "Downloading data: 100%|██████████| 244M/244M [00:10<00:00, 23.4MB/s] \n",
      "Downloading data: 100%|██████████| 244M/244M [00:06<00:00, 40.2MB/s] \n",
      "Downloading data: 100%|██████████| 244M/244M [00:05<00:00, 41.4MB/s] \n",
      "Downloading data: 100%|██████████| 81.2M/81.2M [00:02<00:00, 39.6MB/s]\n",
      "Downloading data: 100%|██████████| 244M/244M [00:05<00:00, 41.5MB/s] \n",
      "Downloading data: 100%|██████████| 243M/243M [00:05<00:00, 41.3MB/s] \n",
      "Downloading data: 100%|██████████| 243M/243M [00:05<00:00, 41.2MB/s] \n",
      "Downloading data: 100%|██████████| 80.4M/80.4M [00:02<00:00, 29.1MB/s]\n"
     ]
    },
    {
     "data": {
      "application/vnd.jupyter.widget-view+json": {
       "model_id": "a500ec2d4fbb458ca98787030a256c6e",
       "version_major": 2,
       "version_minor": 0
      },
      "text/plain": [
       "Generating train_sft split:   0%|          | 0/207865 [00:00<?, ? examples/s]"
      ]
     },
     "metadata": {},
     "output_type": "display_data"
    },
    {
     "data": {
      "application/vnd.jupyter.widget-view+json": {
       "model_id": "09c94e76c0504eab984fe58b07dd77bb",
       "version_major": 2,
       "version_minor": 0
      },
      "text/plain": [
       "Generating test_sft split:   0%|          | 0/23110 [00:00<?, ? examples/s]"
      ]
     },
     "metadata": {},
     "output_type": "display_data"
    },
    {
     "data": {
      "application/vnd.jupyter.widget-view+json": {
       "model_id": "6e39b864c70e42c08e3db842b694515b",
       "version_major": 2,
       "version_minor": 0
      },
      "text/plain": [
       "Generating train_gen split:   0%|          | 0/256032 [00:00<?, ? examples/s]"
      ]
     },
     "metadata": {},
     "output_type": "display_data"
    },
    {
     "data": {
      "application/vnd.jupyter.widget-view+json": {
       "model_id": "0e95cafeef3747799999015aff7a62e8",
       "version_major": 2,
       "version_minor": 0
      },
      "text/plain": [
       "Generating test_gen split:   0%|          | 0/28304 [00:00<?, ? examples/s]"
      ]
     },
     "metadata": {},
     "output_type": "display_data"
    }
   ],
   "source": [
    "from datasets import load_dataset\n",
    "\n",
    "# based on config\n",
    "raw_datasets = load_dataset(\"HuggingFaceH4/ultrachat_200k\")"
   ]
  },
  {
   "cell_type": "code",
   "execution_count": 3,
   "id": "4acada79-94f3-4d54-b197-be0f843f5fc9",
   "metadata": {
    "execution": {
     "iopub.execute_input": "2024-08-27T12:49:37.375028Z",
     "iopub.status.busy": "2024-08-27T12:49:37.374241Z",
     "iopub.status.idle": "2024-08-27T12:49:37.385512Z",
     "shell.execute_reply": "2024-08-27T12:49:37.384203Z",
     "shell.execute_reply.started": "2024-08-27T12:49:37.374982Z"
    }
   },
   "outputs": [
    {
     "data": {
      "text/plain": [
       "DatasetDict({\n",
       "    train_sft: Dataset({\n",
       "        features: ['prompt', 'prompt_id', 'messages'],\n",
       "        num_rows: 207865\n",
       "    })\n",
       "    test_sft: Dataset({\n",
       "        features: ['prompt', 'prompt_id', 'messages'],\n",
       "        num_rows: 23110\n",
       "    })\n",
       "    train_gen: Dataset({\n",
       "        features: ['prompt', 'prompt_id', 'messages'],\n",
       "        num_rows: 256032\n",
       "    })\n",
       "    test_gen: Dataset({\n",
       "        features: ['prompt', 'prompt_id', 'messages'],\n",
       "        num_rows: 28304\n",
       "    })\n",
       "})"
      ]
     },
     "execution_count": 3,
     "metadata": {},
     "output_type": "execute_result"
    }
   ],
   "source": [
    "raw_datasets"
   ]
  },
  {
   "cell_type": "code",
   "execution_count": null,
   "id": "cf93a4f5-3eb0-4bf0-9f18-a49e8e5d9212",
   "metadata": {},
   "outputs": [],
   "source": []
  }
 ],
 "metadata": {
  "kernelspec": {
   "display_name": "Python 3 (ipykernel)",
   "language": "python",
   "name": "python3"
  },
  "language_info": {
   "codemirror_mode": {
    "name": "ipython",
    "version": 3
   },
   "file_extension": ".py",
   "mimetype": "text/x-python",
   "name": "python",
   "nbconvert_exporter": "python",
   "pygments_lexer": "ipython3",
   "version": "3.10.13"
  }
 },
 "nbformat": 4,
 "nbformat_minor": 5
}
