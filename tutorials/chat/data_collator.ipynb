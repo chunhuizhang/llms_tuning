{
 "cells": [
  {
   "cell_type": "code",
   "execution_count": 2,
   "id": "b090fd76-186f-4bda-9253-2e52d1f87fa7",
   "metadata": {
    "execution": {
     "iopub.execute_input": "2024-08-26T16:04:56.922458Z",
     "iopub.status.busy": "2024-08-26T16:04:56.921956Z",
     "iopub.status.idle": "2024-08-26T16:05:17.056861Z",
     "shell.execute_reply": "2024-08-26T16:05:17.054742Z",
     "shell.execute_reply.started": "2024-08-26T16:04:56.922432Z"
    }
   },
   "outputs": [
    {
     "name": "stdout",
     "output_type": "stream",
     "text": [
      "{'input_ids': tensor([[  101,  1996,  4248,  2829,  4419, 14523,  2058,  1996, 13971,  3899,\n",
      "          1012,   102],\n",
      "        [  101,  1045,  2572,  4083,  2055, 17953,  2361,  1998,  9932,  2651,\n",
      "           102,     0]]), 'token_type_ids': tensor([[0, 0, 0, 0, 0, 0, 0, 0, 0, 0, 0, 0],\n",
      "        [0, 0, 0, 0, 0, 0, 0, 0, 0, 0, 0, 0]]), 'attention_mask': tensor([[1, 1, 1, 1, 1, 1, 1, 1, 1, 1, 1, 1],\n",
      "        [1, 1, 1, 1, 1, 1, 1, 1, 1, 1, 1, 0]]), 'labels': tensor([[  101,  1996,  4248,  2829,  4419, 14523,  2058,  1996, 13971,  3899,\n",
      "          1012,   102],\n",
      "        [  101,  1045,  2572,  4083,  2055, 17953,  2361,  1998,  9932,  2651,\n",
      "           102,  -100]])}\n"
     ]
    }
   ],
   "source": [
    "from transformers import DataCollatorForLanguageModeling\n",
    "from transformers import AutoTokenizer\n",
    "import torch\n",
    "\n",
    "# input text\n",
    "texts = [\n",
    "  \"The quick brown fox jumps over the lazy dog.\",\n",
    "  \"I am learning about NLP and AI today\"  \n",
    "]\n",
    "\n",
    "# tokenize\n",
    "tokenizer = AutoTokenizer.from_pretrained('bert-base-uncased')\n",
    "\n",
    "data = [tokenizer(t) for t in texts] \n",
    "\n",
    "# MLM collator\n",
    "# collate_fn = DataCollatorForLanguageModeling(tokenizer=tokenizer, mlm=True, mlm_probability=0.15)\n",
    "# CLM \n",
    "collate_fn = DataCollatorForLanguageModeling(tokenizer=tokenizer, mlm=False)\n",
    "\n",
    "# pass collator to dataloader\n",
    "dataloader = torch.utils.data.DataLoader(data, collate_fn=collate_fn, batch_size=2)\n",
    "\n",
    "# let's look at one sample\n",
    "for batch in dataloader:\n",
    "    print(batch)\n",
    "    break"
   ]
  },
  {
   "cell_type": "code",
   "execution_count": 7,
   "id": "2e016f22-c3d8-4742-bf72-869e83897df9",
   "metadata": {
    "execution": {
     "iopub.execute_input": "2024-08-26T16:06:05.921725Z",
     "iopub.status.busy": "2024-08-26T16:06:05.920921Z",
     "iopub.status.idle": "2024-08-26T16:06:05.938357Z",
     "shell.execute_reply": "2024-08-26T16:06:05.936124Z",
     "shell.execute_reply.started": "2024-08-26T16:06:05.921624Z"
    }
   },
   "outputs": [
    {
     "data": {
      "text/plain": [
       "{'input_ids': tensor([[  101,  1996,  4248,  2829,  4419, 14523,  2058,  1996, 13971,  3899,\n",
       "          1012,   102],\n",
       "        [  101,  1045,  2572,  4083,  2055, 17953,  2361,  1998,  9932,  2651,\n",
       "           102,     0]]), 'token_type_ids': tensor([[0, 0, 0, 0, 0, 0, 0, 0, 0, 0, 0, 0],\n",
       "        [0, 0, 0, 0, 0, 0, 0, 0, 0, 0, 0, 0]]), 'attention_mask': tensor([[1, 1, 1, 1, 1, 1, 1, 1, 1, 1, 1, 1],\n",
       "        [1, 1, 1, 1, 1, 1, 1, 1, 1, 1, 1, 0]]), 'labels': tensor([[  101,  1996,  4248,  2829,  4419, 14523,  2058,  1996, 13971,  3899,\n",
       "          1012,   102],\n",
       "        [  101,  1045,  2572,  4083,  2055, 17953,  2361,  1998,  9932,  2651,\n",
       "           102,  -100]])}"
      ]
     },
     "execution_count": 7,
     "metadata": {},
     "output_type": "execute_result"
    }
   ],
   "source": [
    "next(iter(dataloader))"
   ]
  },
  {
   "cell_type": "code",
   "execution_count": 6,
   "id": "8ed91c07-1080-49d9-9a96-77b26724df1c",
   "metadata": {
    "execution": {
     "iopub.execute_input": "2024-08-26T16:05:46.062169Z",
     "iopub.status.busy": "2024-08-26T16:05:46.061476Z",
     "iopub.status.idle": "2024-08-26T16:05:46.076855Z",
     "shell.execute_reply": "2024-08-26T16:05:46.074767Z",
     "shell.execute_reply.started": "2024-08-26T16:05:46.062122Z"
    }
   },
   "outputs": [
    {
     "data": {
      "text/plain": [
       "tensor([[  101,  1996,  4248,  2829,  4419, 14523,  2058,  1996, 13971,  3899,\n",
       "          1012,   102],\n",
       "        [  101,  1045,  2572,  4083,  2055, 17953,  2361,  1998,  9932,  2651,\n",
       "           102,     0]])"
      ]
     },
     "execution_count": 6,
     "metadata": {},
     "output_type": "execute_result"
    }
   ],
   "source": [
    "next(iter(dataloader))['input_ids']"
   ]
  },
  {
   "cell_type": "code",
   "execution_count": null,
   "id": "930f4f38-7b82-45cb-a57f-3fc77709f9d7",
   "metadata": {},
   "outputs": [],
   "source": []
  }
 ],
 "metadata": {
  "kernelspec": {
   "display_name": "Python 3 (ipykernel)",
   "language": "python",
   "name": "python3"
  },
  "language_info": {
   "codemirror_mode": {
    "name": "ipython",
    "version": 3
   },
   "file_extension": ".py",
   "mimetype": "text/x-python",
   "name": "python",
   "nbconvert_exporter": "python",
   "pygments_lexer": "ipython3",
   "version": "3.10.13"
  }
 },
 "nbformat": 4,
 "nbformat_minor": 5
}
