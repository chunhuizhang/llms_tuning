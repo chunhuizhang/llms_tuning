{
 "cells": [
  {
   "cell_type": "markdown",
   "id": "9f75d9a4-3871-4440-8326-6cbf66593df4",
   "metadata": {},
   "source": [
    "- https://github.com/openai/openai-python/blob/release-v0.28.1/chatml.md"
   ]
  },
  {
   "cell_type": "markdown",
   "id": "549d09ee-1eab-44c8-93b4-2157e6439bef",
   "metadata": {},
   "source": [
    "## basics"
   ]
  },
  {
   "cell_type": "markdown",
   "id": "78173e67-c2ba-459a-a2f8-0845a8348b34",
   "metadata": {},
   "source": [
    "- `<|im_start|>`, `<|im_end|>`\n",
    "\n",
    "    ```\n",
    "    <|im_start|>system\n",
    "    You are ChatGPT, a large language model trained by OpenAI. Answer as concisely as possible.\n",
    "    Knowledge cutoff: 2021-09-01\n",
    "    Current date: 2023-03-01<|im_end|>\n",
    "    <|im_start|>user\n",
    "    How are you<|im_end|>\n",
    "    <|im_start|>assistant\n",
    "    I am doing well!<|im_end|>\n",
    "    <|im_start|>user\n",
    "    How are you now?<|im_end|>\n",
    "    ```"
   ]
  }
 ],
 "metadata": {
  "kernelspec": {
   "display_name": "Python 3 (ipykernel)",
   "language": "python",
   "name": "python3"
  },
  "language_info": {
   "codemirror_mode": {
    "name": "ipython",
    "version": 3
   },
   "file_extension": ".py",
   "mimetype": "text/x-python",
   "name": "python",
   "nbconvert_exporter": "python",
   "pygments_lexer": "ipython3",
   "version": "3.10.13"
  }
 },
 "nbformat": 4,
 "nbformat_minor": 5
}
