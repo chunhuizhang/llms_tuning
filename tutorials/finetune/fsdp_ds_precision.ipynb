{
 "cells": [
  {
   "cell_type": "code",
   "execution_count": 1,
   "id": "c4b83cef-d0ee-40ee-b538-5b25d1dc05bb",
   "metadata": {
    "execution": {
     "iopub.execute_input": "2024-07-02T12:07:00.175517Z",
     "iopub.status.busy": "2024-07-02T12:07:00.174964Z",
     "iopub.status.idle": "2024-07-02T12:07:01.989120Z",
     "shell.execute_reply": "2024-07-02T12:07:01.988307Z",
     "shell.execute_reply.started": "2024-07-02T12:07:00.175470Z"
    }
   },
   "outputs": [
    {
     "name": "stdout",
     "output_type": "stream",
     "text": [
      "[2024-07-02 20:07:01,696] [INFO] [real_accelerator.py:161:get_accelerator] Setting ds_accelerator to cuda (auto detect)\n"
     ]
    }
   ],
   "source": [
    "import accelerate, deepspeed"
   ]
  },
  {
   "cell_type": "code",
   "execution_count": 2,
   "id": "e9504e71-c8bb-4110-b5fe-5f5535cc60ed",
   "metadata": {
    "execution": {
     "iopub.execute_input": "2024-07-02T12:07:13.680387Z",
     "iopub.status.busy": "2024-07-02T12:07:13.679776Z",
     "iopub.status.idle": "2024-07-02T12:07:13.698606Z",
     "shell.execute_reply": "2024-07-02T12:07:13.696563Z",
     "shell.execute_reply.started": "2024-07-02T12:07:13.680341Z"
    }
   },
   "outputs": [
    {
     "data": {
      "text/plain": [
       "('0.29.3', '0.12.5')"
      ]
     },
     "execution_count": 2,
     "metadata": {},
     "output_type": "execute_result"
    }
   ],
   "source": [
    "accelerate.__version__, deepspeed.version"
   ]
  },
  {
   "cell_type": "code",
   "execution_count": 3,
   "id": "3448b0e6-d348-4f17-9e0f-dd59caf4d1c4",
   "metadata": {
    "execution": {
     "iopub.execute_input": "2024-07-02T14:08:09.402367Z",
     "iopub.status.busy": "2024-07-02T14:08:09.392327Z",
     "iopub.status.idle": "2024-07-02T14:08:10.910393Z",
     "shell.execute_reply": "2024-07-02T14:08:10.909328Z",
     "shell.execute_reply.started": "2024-07-02T14:08:09.402194Z"
    }
   },
   "outputs": [],
   "source": [
    "from datasets import load_dataset\n",
    "from transformers import AutoTokenizer, AutoModelForCausalLM, HfArgumentParser\n",
    "from transformers import TrainingArguments\n",
    "from trl import SFTTrainer, DataCollatorForCompletionOnlyLM\n",
    "import torch"
   ]
  },
  {
   "cell_type": "code",
   "execution_count": 4,
   "id": "ac917b73-032f-4aa2-9804-ff25c05e7a0c",
   "metadata": {
    "execution": {
     "iopub.execute_input": "2024-07-02T14:08:37.298872Z",
     "iopub.status.busy": "2024-07-02T14:08:37.297745Z",
     "iopub.status.idle": "2024-07-02T14:08:37.313627Z",
     "shell.execute_reply": "2024-07-02T14:08:37.312236Z",
     "shell.execute_reply.started": "2024-07-02T14:08:37.298826Z"
    }
   },
   "outputs": [],
   "source": [
    "import os\n",
    "os.environ['http_proxy'] = 'http://127.0.0.1:7890'\n",
    "os.environ['https_proxy'] = 'http://127.0.0.1:7890'"
   ]
  },
  {
   "cell_type": "markdown",
   "id": "22095f6a-cfbd-47de-a686-5067d64e9e27",
   "metadata": {},
   "source": [
    "## loss "
   ]
  },
  {
   "cell_type": "markdown",
   "id": "b070e491-744d-4faf-9c4a-52b6355e22f2",
   "metadata": {},
   "source": [
    "- https://huggingface.co/blog/deepspeed-to-fsdp-and-back\n",
    "    - issue: https://github.com/huggingface/accelerate/issues/2624\n",
    "    - Accelerate fsdp 对齐 Accelerate deepspeed\n",
    "    - 之前会存在 Accelerate fsdp loss 不收敛的问题，对齐（混合）精度之后，问题解决；\n",
    "        - 更具体来说是模型/优化器精度问题；\n",
    "        - we can perform upcasting automatically for FSDP when mixed precision is enabled. We created a pull request with this change that was included in the 0.30.0 release."
   ]
  },
  {
   "cell_type": "markdown",
   "id": "4efd5c98-0a1c-41c4-8a4e-5b5ce965b455",
   "metadata": {},
   "source": [
    "### Precision Matters"
   ]
  },
  {
   "cell_type": "markdown",
   "id": "83fa27fe-40ce-4873-b878-deff9f59c35e",
   "metadata": {},
   "source": [
    "- As the fp32 in the name suggests, DeepSpeed was performing **upcasting internally**, and it always keeps its **master weights in fp32 by design**. This upcasting to full precision meant that **the optimizer could converge at learning rates that it would not converge in lower precision**. "
   ]
  },
  {
   "cell_type": "markdown",
   "id": "1d5925dd-dadb-4f8e-abd0-faa5839eb7c1",
   "metadata": {},
   "source": [
    "## experiments"
   ]
  },
  {
   "cell_type": "markdown",
   "id": "268187b1-7d7c-4d90-a818-be3f5718dc1a",
   "metadata": {},
   "source": [
    "- Settings\n",
    "    - model：\"mistralai/Mistral-7B-v0.1\"\n",
    "    - dataset：'tatsu-lab/alpaca'"
   ]
  },
  {
   "cell_type": "code",
   "execution_count": 14,
   "id": "75d330e7-bdc7-4586-a252-7200bc5164e6",
   "metadata": {
    "execution": {
     "iopub.execute_input": "2024-07-02T14:18:00.534981Z",
     "iopub.status.busy": "2024-07-02T14:18:00.534342Z",
     "iopub.status.idle": "2024-07-02T14:18:00.547043Z",
     "shell.execute_reply": "2024-07-02T14:18:00.544839Z",
     "shell.execute_reply.started": "2024-07-02T14:18:00.534936Z"
    }
   },
   "outputs": [
    {
     "data": {
      "text/plain": [
       "torch.bfloat16"
      ]
     },
     "execution_count": 14,
     "metadata": {},
     "output_type": "execute_result"
    }
   ],
   "source": [
    "getattr(torch, 'bfloat16')"
   ]
  },
  {
   "cell_type": "markdown",
   "id": "ca77daa7-5345-416a-a8e3-0cf4ff65fa71",
   "metadata": {},
   "source": [
    "```\n",
    "model = AutoModelForCausalLM.from_pretrained(\n",
    "    'mistralai/Mistral-7B-v0.1',\n",
    "    torch_dtype=getattr(torch, 'bfloat16'), ## UPDATED\n",
    "    attn_implementation='sdpa', ## UPDATED\n",
    ")\n",
    "```\n",
    "\n",
    "- `transformers.models.mistral.modeling_mistral.MistralForCasualLLM`"
   ]
  },
  {
   "cell_type": "code",
   "execution_count": 5,
   "id": "22f2d31e-0ef9-4481-9271-9bf585c7c274",
   "metadata": {
    "execution": {
     "iopub.execute_input": "2024-07-02T14:08:48.464923Z",
     "iopub.status.busy": "2024-07-02T14:08:48.463638Z",
     "iopub.status.idle": "2024-07-02T14:08:56.100936Z",
     "shell.execute_reply": "2024-07-02T14:08:56.099687Z",
     "shell.execute_reply.started": "2024-07-02T14:08:48.464872Z"
    }
   },
   "outputs": [],
   "source": [
    "dataset = load_dataset('tatsu-lab/alpaca', split='train')"
   ]
  },
  {
   "cell_type": "code",
   "execution_count": 10,
   "id": "2d61734c-d14e-4eee-b19f-a56f72275d1e",
   "metadata": {
    "execution": {
     "iopub.execute_input": "2024-07-02T14:10:45.657043Z",
     "iopub.status.busy": "2024-07-02T14:10:45.655797Z",
     "iopub.status.idle": "2024-07-02T14:10:45.664546Z",
     "shell.execute_reply": "2024-07-02T14:10:45.663296Z",
     "shell.execute_reply.started": "2024-07-02T14:10:45.656995Z"
    }
   },
   "outputs": [
    {
     "data": {
      "text/plain": [
       "Dataset({\n",
       "    features: ['instruction', 'input', 'output', 'text'],\n",
       "    num_rows: 52002\n",
       "})"
      ]
     },
     "execution_count": 10,
     "metadata": {},
     "output_type": "execute_result"
    }
   ],
   "source": [
    "dataset"
   ]
  },
  {
   "cell_type": "code",
   "execution_count": 9,
   "id": "8f5d9dbf-2c2b-4028-a91c-df2e136d3fa0",
   "metadata": {
    "execution": {
     "iopub.execute_input": "2024-07-02T14:10:30.988723Z",
     "iopub.status.busy": "2024-07-02T14:10:30.987412Z",
     "iopub.status.idle": "2024-07-02T14:10:30.997454Z",
     "shell.execute_reply": "2024-07-02T14:10:30.996211Z",
     "shell.execute_reply.started": "2024-07-02T14:10:30.988668Z"
    }
   },
   "outputs": [
    {
     "data": {
      "text/plain": [
       "{'instruction': 'Give three tips for staying healthy.',\n",
       " 'input': '',\n",
       " 'output': '1.Eat a balanced diet and make sure to include plenty of fruits and vegetables. \\n2. Exercise regularly to keep your body active and strong. \\n3. Get enough sleep and maintain a consistent sleep schedule.',\n",
       " 'text': 'Below is an instruction that describes a task. Write a response that appropriately completes the request.\\n\\n### Instruction:\\nGive three tips for staying healthy.\\n\\n### Response:\\n1.Eat a balanced diet and make sure to include plenty of fruits and vegetables. \\n2. Exercise regularly to keep your body active and strong. \\n3. Get enough sleep and maintain a consistent sleep schedule.'}"
      ]
     },
     "execution_count": 9,
     "metadata": {},
     "output_type": "execute_result"
    }
   ],
   "source": [
    "dataset[0]"
   ]
  },
  {
   "cell_type": "code",
   "execution_count": 11,
   "id": "96f9f67c-095b-4687-89ac-7ae4431e9567",
   "metadata": {
    "execution": {
     "iopub.execute_input": "2024-07-02T14:11:12.870215Z",
     "iopub.status.busy": "2024-07-02T14:11:12.868957Z",
     "iopub.status.idle": "2024-07-02T14:11:12.876055Z",
     "shell.execute_reply": "2024-07-02T14:11:12.874720Z",
     "shell.execute_reply.started": "2024-07-02T14:11:12.870159Z"
    }
   },
   "outputs": [],
   "source": [
    "num_data_samples = 3000"
   ]
  },
  {
   "cell_type": "code",
   "execution_count": 13,
   "id": "cca1e2e9-bc19-41cc-94f8-0001b344d9dc",
   "metadata": {
    "execution": {
     "iopub.execute_input": "2024-07-02T14:11:20.842476Z",
     "iopub.status.busy": "2024-07-02T14:11:20.841240Z",
     "iopub.status.idle": "2024-07-02T14:11:20.854434Z",
     "shell.execute_reply": "2024-07-02T14:11:20.853172Z",
     "shell.execute_reply.started": "2024-07-02T14:11:20.842432Z"
    }
   },
   "outputs": [
    {
     "data": {
      "text/plain": [
       "Dataset({\n",
       "    features: ['instruction', 'input', 'output', 'text'],\n",
       "    num_rows: 3000\n",
       "})"
      ]
     },
     "execution_count": 13,
     "metadata": {},
     "output_type": "execute_result"
    }
   ],
   "source": [
    "dataset = dataset.select(range(num_data_samples))\n",
    "dataset"
   ]
  },
  {
   "cell_type": "markdown",
   "id": "9d63041a-3931-4cfa-8610-d7c37d57ac1e",
   "metadata": {},
   "source": [
    "### 参数1"
   ]
  },
  {
   "cell_type": "markdown",
   "id": "5a6da80f-b6c1-45ae-a68d-baa879e25414",
   "metadata": {},
   "source": [
    "- `accelerate config`: 走 fsdp 后端\n",
    "  - fsdp_transformer_layer_cls_to_wrap: `MistralDecoderLayer`\n",
    "  - `accelerate launch --num_processes 1`\n",
    "      - `UserWarning: FSDP is switching to use `NO_SHARD` instead of ShardingStrategy.FULL_SHARD since the world size is 1.`\n",
    "  - yaml\n",
    "      - accelerate lanuch 的参数会覆盖 yaml 文件中的参数配置\n",
    "      - `mixed_precision`: `[no, fp8, fp16, bf16]`\n",
    "\n",
    "```\n",
    "compute_environment: LOCAL_MACHINE\n",
    "debug: false\n",
    "distributed_type: FSDP\n",
    "downcast_bf16: 'no'\n",
    "enable_cpu_affinity: false\n",
    "fsdp_config:\n",
    "  fsdp_auto_wrap_policy: TRANSFORMER_BASED_WRAP\n",
    "  fsdp_backward_prefetch: BACKWARD_PRE\n",
    "  fsdp_cpu_ram_efficient_loading: true\n",
    "  fsdp_forward_prefetch: true\n",
    "  fsdp_offload_params: true\n",
    "  fsdp_sharding_strategy: FULL_SHARD\n",
    "  fsdp_state_dict_type: FULL_STATE_DICT\n",
    "  fsdp_sync_module_states: true\n",
    "  fsdp_transformer_layer_cls_to_wrap: MistralDecoderLayer\n",
    "  fsdp_use_orig_params: true\n",
    "machine_rank: 0\n",
    "main_training_function: main\n",
    "mixed_precision: 'no'\n",
    "num_machines: 1\n",
    "num_processes: 2\n",
    "rdzv_backend: static\n",
    "same_network: true\n",
    "tpu_env: []\n",
    "tpu_use_cluster: false\n",
    "tpu_use_sudo: false\n",
    "use_cpu: false\n",
    "```\n",
    "\n",
    "```\n",
    "compute_environment: LOCAL_MACHINE\n",
    "debug: false\n",
    "distributed_type: FSDP\n",
    "downcast_bf16: 'no'\n",
    "enable_cpu_affinity: false\n",
    "fsdp_config:\n",
    "  fsdp_auto_wrap_policy: TRANSFORMER_BASED_WRAP\n",
    "  fsdp_backward_prefetch: BACKWARD_PRE\n",
    "  fsdp_cpu_ram_efficient_loading: true\n",
    "  fsdp_forward_prefetch: true\n",
    "  fsdp_offload_params: true\n",
    "  fsdp_sharding_strategy: FULL_SHARD\n",
    "  fsdp_state_dict_type: FULL_STATE_DICT\n",
    "  fsdp_sync_module_states: true\n",
    "  fsdp_use_orig_params: true\n",
    "machine_rank: 0\n",
    "main_training_function: main\n",
    "mixed_precision: bf16\n",
    "num_machines: 1\n",
    "num_processes: 1\n",
    "rdzv_backend: static\n",
    "same_network: true\n",
    "tpu_env: []\n",
    "tpu_use_cluster: false\n",
    "tpu_use_sudo: false\n",
    "use_cpu: false\n",
    "```"
   ]
  },
  {
   "cell_type": "markdown",
   "id": "f026a244-4f30-4e1b-8018-394b922ee176",
   "metadata": {},
   "source": [
    "```\n",
    "accelerate launch \\\n",
    "    --num_processes 2 \\\n",
    "    --main_process_port 29502 \\\n",
    "    learning_rate_repro.py  \\\n",
    "      --num_train_epochs 5 \\\n",
    "      --output_dir './results' \\\n",
    "      --per_device_train_batch_size 1 \\\n",
    "      --lr_scheduler_type \"linear\" \\\n",
    "      --learning_rate 1e-6 \\\n",
    "      --logging_steps 1 \\\n",
    "      --save_strategy 'no' \\\n",
    "      --bf16\n",
    "```"
   ]
  },
  {
   "cell_type": "code",
   "execution_count": 21,
   "id": "8bcdd30f-1ded-4806-8988-b6af602f57fa",
   "metadata": {
    "execution": {
     "iopub.execute_input": "2024-07-02T14:38:02.308582Z",
     "iopub.status.busy": "2024-07-02T14:38:02.307315Z",
     "iopub.status.idle": "2024-07-02T14:38:02.316073Z",
     "shell.execute_reply": "2024-07-02T14:38:02.314841Z",
     "shell.execute_reply.started": "2024-07-02T14:38:02.308535Z"
    }
   },
   "outputs": [
    {
     "data": {
      "text/plain": [
       "2500.0"
      ]
     },
     "execution_count": 21,
     "metadata": {},
     "output_type": "execute_result"
    }
   ],
   "source": [
    "# num_train_epochs == 5\n",
    "# per_device_train_batch_size == 6\n",
    "# 一共多少 steps\n",
    "5 * 3000 / 6"
   ]
  },
  {
   "cell_type": "code",
   "execution_count": 20,
   "id": "a7498668-993b-4f85-ac9f-6e2b94344119",
   "metadata": {
    "execution": {
     "iopub.execute_input": "2024-07-02T14:37:55.901481Z",
     "iopub.status.busy": "2024-07-02T14:37:55.899981Z",
     "iopub.status.idle": "2024-07-02T14:37:55.917043Z",
     "shell.execute_reply": "2024-07-02T14:37:55.915827Z",
     "shell.execute_reply.started": "2024-07-02T14:37:55.901436Z"
    }
   },
   "outputs": [
    {
     "data": {
      "text/plain": [
       "500.0"
      ]
     },
     "execution_count": 20,
     "metadata": {},
     "output_type": "execute_result"
    }
   ],
   "source": [
    "# 一个 batch，多少 steps\n",
    "3000 / 6"
   ]
  },
  {
   "cell_type": "markdown",
   "id": "8346589a-b18e-45ed-9720-f5b19c8bc28b",
   "metadata": {},
   "source": [
    "### 参数2"
   ]
  },
  {
   "cell_type": "markdown",
   "id": "7c1993d0-8e81-4f68-a0fb-02bbc70eb3d1",
   "metadata": {},
   "source": [
    "- `accelerate config`: 走 ds 后端\n",
    "  - fsdp_transformer_layer_cls_to_wrap: `MistralDecoderLayer`\n",
    "  \n",
    "    ```\n",
    "    accelerate launch \\\n",
    "        --num_processes 2 \\\n",
    "        --main_process_port 29502 \\\n",
    "        learning_rate_repro.py  \\\n",
    "          --num_train_epochs 5 \\\n",
    "          --output_dir './results' \\\n",
    "          --per_device_train_batch_size 2 \\\n",
    "          --lr_scheduler_type \"linear\" \\\n",
    "          --learning_rate 1e-6 \\\n",
    "          --logging_steps 1 \\\n",
    "          --save_strategy 'no' \\\n",
    "          --bf16\n",
    "    ```"
   ]
  }
 ],
 "metadata": {
  "kernelspec": {
   "display_name": "Python 3 (ipykernel)",
   "language": "python",
   "name": "python3"
  },
  "language_info": {
   "codemirror_mode": {
    "name": "ipython",
    "version": 3
   },
   "file_extension": ".py",
   "mimetype": "text/x-python",
   "name": "python",
   "nbconvert_exporter": "python",
   "pygments_lexer": "ipython3",
   "version": "3.10.13"
  }
 },
 "nbformat": 4,
 "nbformat_minor": 5
}
