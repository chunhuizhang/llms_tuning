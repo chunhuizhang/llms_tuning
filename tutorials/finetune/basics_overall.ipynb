{
 "cells": [
  {
   "cell_type": "markdown",
   "id": "a4c5fca4-5ee2-49fc-b4a1-ac886ea3a37a",
   "metadata": {},
   "source": [
    "\n",
    "- https://www.youtube.com/watch?v=51RSmLOIbCI\n",
    "  \n",
    "supervised fine-tuning (SFT) tips when starting a new LLM project from the image you uploaded:\n",
    "\n",
    "1. Start with 3 epochs.\n",
    "2. Learning rate: 2e-5 with a cosine schedule & 0.1 warmup ratio.\n",
    "3. Apply Packing to combine samples up to a sequence length (e.g., 2048).\n",
    "4. Try **Global** BS of 256/512 (e.g., BS=16 per device, grad_acc=2/4 on 8xH100s).\n",
    "   - 16\\*2\\*8=256\n",
    "   - 16\\*4\\*8=512\n",
    "6. Use Flash Attention v2 with bf16 & tf32 (to speed up remaining fp32 calculations).\n",
    "7. Enable gradient checkpointing to save memory.\n",
    "8. Opt for \"adamw_torch_fused\" (10% speed up) or \"adamw_torch\" optimizer.\n",
    "9. Deepspeed & FSDP both work well for distributed training.\n",
    "10. Consider LoRA for quicker iterations with less compute.\n",
    "11. Use the SFTTrainer from Hugging Face TRL."
   ]
  }
 ],
 "metadata": {
  "kernelspec": {
   "display_name": "Python 3 (ipykernel)",
   "language": "python",
   "name": "python3"
  },
  "language_info": {
   "codemirror_mode": {
    "name": "ipython",
    "version": 3
   },
   "file_extension": ".py",
   "mimetype": "text/x-python",
   "name": "python",
   "nbconvert_exporter": "python",
   "pygments_lexer": "ipython3",
   "version": "3.10.13"
  }
 },
 "nbformat": 4,
 "nbformat_minor": 5
}
