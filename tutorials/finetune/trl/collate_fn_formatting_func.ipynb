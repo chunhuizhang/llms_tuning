{
 "cells": [
  {
   "cell_type": "code",
   "execution_count": 2,
   "id": "ccf0c352-5e11-4817-a129-d3a15e373092",
   "metadata": {
    "execution": {
     "iopub.execute_input": "2024-07-27T15:18:30.749648Z",
     "iopub.status.busy": "2024-07-27T15:18:30.749234Z",
     "iopub.status.idle": "2024-07-27T15:18:30.758961Z",
     "shell.execute_reply": "2024-07-27T15:18:30.756728Z",
     "shell.execute_reply.started": "2024-07-27T15:18:30.749617Z"
    }
   },
   "outputs": [],
   "source": [
    "import os\n",
    "os.environ['http_proxy'] = 'http://127.0.0.1:7890'\n",
    "os.environ['https_proxy'] = 'http://127.0.0.1:7890'\n",
    "os.environ['NCCL_P2P_DISABLE'] = '1'\n",
    "os.environ['NCCL_IB_DISABLE'] = '1'\n",
    "os.environ['WANDB_DISABLED'] = 'true'"
   ]
  },
  {
   "cell_type": "code",
   "execution_count": 3,
   "id": "d0fd0778-29a1-4c06-a8de-93860cf79d82",
   "metadata": {
    "execution": {
     "iopub.execute_input": "2024-07-27T15:18:31.906625Z",
     "iopub.status.busy": "2024-07-27T15:18:31.906059Z",
     "iopub.status.idle": "2024-07-27T15:18:43.810692Z",
     "shell.execute_reply": "2024-07-27T15:18:43.809269Z",
     "shell.execute_reply.started": "2024-07-27T15:18:31.906580Z"
    }
   },
   "outputs": [
    {
     "name": "stdout",
     "output_type": "stream",
     "text": [
      "[2024-07-27 23:18:43,557] [INFO] [real_accelerator.py:161:get_accelerator] Setting ds_accelerator to cuda (auto detect)\n"
     ]
    }
   ],
   "source": [
    "from transformers import AutoModelForCausalLM, AutoTokenizer\n",
    "from datasets import load_dataset\n",
    "from trl import SFTConfig, SFTTrainer, DataCollatorForCompletionOnlyLM"
   ]
  },
  {
   "cell_type": "markdown",
   "id": "43098fb9-50d6-4961-a338-274a8de030bd",
   "metadata": {},
   "source": [
    "### dataset"
   ]
  },
  {
   "cell_type": "code",
   "execution_count": 7,
   "id": "acd319fc-d425-4ed7-85d7-6cfaeb5601fe",
   "metadata": {
    "execution": {
     "iopub.execute_input": "2024-07-27T15:19:44.153483Z",
     "iopub.status.busy": "2024-07-27T15:19:44.152844Z",
     "iopub.status.idle": "2024-07-27T15:19:48.676580Z",
     "shell.execute_reply": "2024-07-27T15:19:48.674797Z",
     "shell.execute_reply.started": "2024-07-27T15:19:44.153439Z"
    }
   },
   "outputs": [],
   "source": [
    "dataset = load_dataset(\"lucasmccabe-lmi/CodeAlpaca-20k\", split=\"train\")"
   ]
  },
  {
   "cell_type": "code",
   "execution_count": 8,
   "id": "3e405a90-6532-4709-a3c3-5bf7741d3c89",
   "metadata": {
    "execution": {
     "iopub.execute_input": "2024-07-27T15:19:50.690001Z",
     "iopub.status.busy": "2024-07-27T15:19:50.689337Z",
     "iopub.status.idle": "2024-07-27T15:19:50.701990Z",
     "shell.execute_reply": "2024-07-27T15:19:50.699717Z",
     "shell.execute_reply.started": "2024-07-27T15:19:50.689954Z"
    }
   },
   "outputs": [
    {
     "data": {
      "text/plain": [
       "Dataset({\n",
       "    features: ['instruction', 'input', 'output'],\n",
       "    num_rows: 20022\n",
       "})"
      ]
     },
     "execution_count": 8,
     "metadata": {},
     "output_type": "execute_result"
    }
   ],
   "source": [
    "dataset"
   ]
  },
  {
   "cell_type": "code",
   "execution_count": 9,
   "id": "b4ee30d9-95af-4e2b-a9e8-b8afaf4c6eba",
   "metadata": {
    "execution": {
     "iopub.execute_input": "2024-07-27T15:19:56.333657Z",
     "iopub.status.busy": "2024-07-27T15:19:56.333034Z",
     "iopub.status.idle": "2024-07-27T15:19:56.346844Z",
     "shell.execute_reply": "2024-07-27T15:19:56.344698Z",
     "shell.execute_reply.started": "2024-07-27T15:19:56.333613Z"
    }
   },
   "outputs": [
    {
     "data": {
      "text/plain": [
       "{'instruction': 'Create a function that takes a specific input and produces a specific output using any mathematical operators. Write corresponding code in Python.',\n",
       " 'input': '',\n",
       " 'output': 'def f(x):\\n    \"\"\"\\n    Takes a specific input and produces a specific output using any mathematical operators\\n    \"\"\"\\n    return x**2 + 3*x'}"
      ]
     },
     "execution_count": 9,
     "metadata": {},
     "output_type": "execute_result"
    }
   ],
   "source": [
    "dataset[0]"
   ]
  },
  {
   "cell_type": "markdown",
   "id": "82aaaaf6-29e9-407f-ab0f-90c1091986ae",
   "metadata": {},
   "source": [
    "### formatting_func"
   ]
  },
  {
   "cell_type": "code",
   "execution_count": 10,
   "id": "d55af508-3faa-430d-b9f6-687f436afbd2",
   "metadata": {
    "execution": {
     "iopub.execute_input": "2024-07-27T15:20:21.816946Z",
     "iopub.status.busy": "2024-07-27T15:20:21.816308Z",
     "iopub.status.idle": "2024-07-27T15:20:21.827613Z",
     "shell.execute_reply": "2024-07-27T15:20:21.825352Z",
     "shell.execute_reply.started": "2024-07-27T15:20:21.816903Z"
    }
   },
   "outputs": [],
   "source": [
    "def formatting_prompts_func(example):\n",
    "    output_texts = []\n",
    "    for i in range(len(example['instruction'])):\n",
    "        text = f\"### Question: {example['instruction'][i]}\\n ### Answer: {example['output'][i]}\"\n",
    "        output_texts.append(text)\n",
    "    return output_texts"
   ]
  },
  {
   "cell_type": "code",
   "execution_count": 16,
   "id": "85825a12-ff46-4cc9-b8ab-601f9d53ad65",
   "metadata": {
    "execution": {
     "iopub.execute_input": "2024-07-27T15:21:08.906767Z",
     "iopub.status.busy": "2024-07-27T15:21:08.906133Z",
     "iopub.status.idle": "2024-07-27T15:21:08.917004Z",
     "shell.execute_reply": "2024-07-27T15:21:08.914853Z",
     "shell.execute_reply.started": "2024-07-27T15:21:08.906723Z"
    }
   },
   "outputs": [],
   "source": [
    "output_texts = formatting_prompts_func(dataset[:2])"
   ]
  },
  {
   "cell_type": "code",
   "execution_count": 20,
   "id": "c878161d-f2f4-43cd-b1f9-4cb06fbad2e9",
   "metadata": {
    "execution": {
     "iopub.execute_input": "2024-07-27T15:22:14.799730Z",
     "iopub.status.busy": "2024-07-27T15:22:14.799090Z",
     "iopub.status.idle": "2024-07-27T15:22:14.813992Z",
     "shell.execute_reply": "2024-07-27T15:22:14.811755Z",
     "shell.execute_reply.started": "2024-07-27T15:22:14.799685Z"
    }
   },
   "outputs": [
    {
     "data": {
      "text/plain": [
       "{'instruction': 'Create a function that takes a specific input and produces a specific output using any mathematical operators. Write corresponding code in Python.',\n",
       " 'input': '',\n",
       " 'output': 'def f(x):\\n    \"\"\"\\n    Takes a specific input and produces a specific output using any mathematical operators\\n    \"\"\"\\n    return x**2 + 3*x'}"
      ]
     },
     "execution_count": 20,
     "metadata": {},
     "output_type": "execute_result"
    }
   ],
   "source": [
    "dataset[0]"
   ]
  },
  {
   "cell_type": "code",
   "execution_count": 18,
   "id": "c37372c4-2712-4f75-bffb-89c7c667ebf0",
   "metadata": {
    "execution": {
     "iopub.execute_input": "2024-07-27T15:21:20.002857Z",
     "iopub.status.busy": "2024-07-27T15:21:20.002219Z",
     "iopub.status.idle": "2024-07-27T15:21:20.013105Z",
     "shell.execute_reply": "2024-07-27T15:21:20.010883Z",
     "shell.execute_reply.started": "2024-07-27T15:21:20.002812Z"
    }
   },
   "outputs": [
    {
     "name": "stdout",
     "output_type": "stream",
     "text": [
      "### Question: Create a function that takes a specific input and produces a specific output using any mathematical operators. Write corresponding code in Python.\n",
      " ### Answer: def f(x):\n",
      "    \"\"\"\n",
      "    Takes a specific input and produces a specific output using any mathematical operators\n",
      "    \"\"\"\n",
      "    return x**2 + 3*x\n"
     ]
    }
   ],
   "source": [
    "print(output_texts[0])"
   ]
  },
  {
   "cell_type": "code",
   "execution_count": 21,
   "id": "ceb6dbc4-ee0d-43e4-a9ea-53a4ac9f7633",
   "metadata": {
    "execution": {
     "iopub.execute_input": "2024-07-27T15:22:21.121858Z",
     "iopub.status.busy": "2024-07-27T15:22:21.121189Z",
     "iopub.status.idle": "2024-07-27T15:22:21.134403Z",
     "shell.execute_reply": "2024-07-27T15:22:21.132164Z",
     "shell.execute_reply.started": "2024-07-27T15:22:21.121811Z"
    }
   },
   "outputs": [
    {
     "data": {
      "text/plain": [
       "{'instruction': 'Generate a unique 8 character string that contains a lowercase letter, an uppercase letter, a numerical digit, and a special character. Write corresponding code in Python.',\n",
       " 'input': '',\n",
       " 'output': \"import string\\nimport random\\n\\ndef random_password_string():\\n    characters = string.ascii_letters + string.digits + string.punctuation\\n    password = ''.join(random.sample(characters, 8))\\n    return password\\n\\nif __name__ == '__main__':\\n    print(random_password_string())\"}"
      ]
     },
     "execution_count": 21,
     "metadata": {},
     "output_type": "execute_result"
    }
   ],
   "source": [
    "dataset[1]"
   ]
  },
  {
   "cell_type": "code",
   "execution_count": 19,
   "id": "8f5b01b8-b674-4fb6-b1ba-5b9e3e71b851",
   "metadata": {
    "execution": {
     "iopub.execute_input": "2024-07-27T15:22:08.805235Z",
     "iopub.status.busy": "2024-07-27T15:22:08.804585Z",
     "iopub.status.idle": "2024-07-27T15:22:08.815170Z",
     "shell.execute_reply": "2024-07-27T15:22:08.812988Z",
     "shell.execute_reply.started": "2024-07-27T15:22:08.805190Z"
    }
   },
   "outputs": [
    {
     "name": "stdout",
     "output_type": "stream",
     "text": [
      "### Question: Generate a unique 8 character string that contains a lowercase letter, an uppercase letter, a numerical digit, and a special character. Write corresponding code in Python.\n",
      " ### Answer: import string\n",
      "import random\n",
      "\n",
      "def random_password_string():\n",
      "    characters = string.ascii_letters + string.digits + string.punctuation\n",
      "    password = ''.join(random.sample(characters, 8))\n",
      "    return password\n",
      "\n",
      "if __name__ == '__main__':\n",
      "    print(random_password_string())\n"
     ]
    }
   ],
   "source": [
    "print(output_texts[1])"
   ]
  },
  {
   "cell_type": "markdown",
   "id": "7749b1c3-e29c-4b81-9978-cd17b4248f57",
   "metadata": {},
   "source": [
    "### `DataCollatorForCompletionOnlyLM`"
   ]
  },
  {
   "cell_type": "markdown",
   "id": "ea735145-11d8-4716-a5dd-1c42ff2fc226",
   "metadata": {},
   "source": [
    "找到 labels (`batch['labels']`) 中和 response_template 相同 token 的最后一个的 index 作为 response_token_ids_start_idx，然后将 labels 中的开头到responese_tempalte的最后一个token都标记为-100，这样的话就不会计算损失了。\n",
    "\n",
    "- 第一个参数是 `response_template`，第二个参数 `instruction_template`（默认为 None）"
   ]
  },
  {
   "cell_type": "code",
   "execution_count": 24,
   "id": "4e371b15-e3d5-4874-beec-8168a81ec10e",
   "metadata": {
    "execution": {
     "iopub.execute_input": "2024-07-27T15:22:57.963036Z",
     "iopub.status.busy": "2024-07-27T15:22:57.962395Z",
     "iopub.status.idle": "2024-07-27T15:22:59.630893Z",
     "shell.execute_reply": "2024-07-27T15:22:59.629575Z",
     "shell.execute_reply.started": "2024-07-27T15:22:57.962991Z"
    }
   },
   "outputs": [],
   "source": [
    "model = AutoModelForCausalLM.from_pretrained(\"facebook/opt-350m\")\n",
    "tokenizer = AutoTokenizer.from_pretrained(\"facebook/opt-350m\")"
   ]
  },
  {
   "cell_type": "code",
   "execution_count": 23,
   "id": "71d9eb91-110a-4371-b019-3a8c820dd71c",
   "metadata": {
    "execution": {
     "iopub.execute_input": "2024-07-27T15:22:41.616688Z",
     "iopub.status.busy": "2024-07-27T15:22:41.616374Z",
     "iopub.status.idle": "2024-07-27T15:22:41.625733Z",
     "shell.execute_reply": "2024-07-27T15:22:41.623900Z",
     "shell.execute_reply.started": "2024-07-27T15:22:41.616668Z"
    }
   },
   "outputs": [
    {
     "data": {
      "text/plain": [
       "GPT2TokenizerFast(name_or_path='facebook/opt-350m', vocab_size=50265, model_max_length=1000000000000000019884624838656, is_fast=True, padding_side='right', truncation_side='right', special_tokens={'bos_token': '</s>', 'eos_token': '</s>', 'unk_token': '</s>', 'pad_token': '<pad>'}, clean_up_tokenization_spaces=True),  added_tokens_decoder={\n",
       "\t1: AddedToken(\"<pad>\", rstrip=False, lstrip=False, single_word=False, normalized=True, special=True),\n",
       "\t2: AddedToken(\"</s>\", rstrip=False, lstrip=False, single_word=False, normalized=True, special=True),\n",
       "}"
      ]
     },
     "execution_count": 23,
     "metadata": {},
     "output_type": "execute_result"
    }
   ],
   "source": [
    "tokenizer"
   ]
  },
  {
   "cell_type": "code",
   "execution_count": 28,
   "id": "1f909c94-173c-4142-a813-ec8800f62968",
   "metadata": {
    "execution": {
     "iopub.execute_input": "2024-07-27T15:24:27.534634Z",
     "iopub.status.busy": "2024-07-27T15:24:27.534004Z",
     "iopub.status.idle": "2024-07-27T15:24:27.543458Z",
     "shell.execute_reply": "2024-07-27T15:24:27.541188Z",
     "shell.execute_reply.started": "2024-07-27T15:24:27.534591Z"
    }
   },
   "outputs": [],
   "source": [
    "# none\n",
    "tokenizer.chat_template"
   ]
  },
  {
   "cell_type": "code",
   "execution_count": 29,
   "id": "43cd40dd-a501-46fd-be2f-8eb864b793f4",
   "metadata": {
    "execution": {
     "iopub.execute_input": "2024-07-27T15:24:38.137727Z",
     "iopub.status.busy": "2024-07-27T15:24:38.137056Z",
     "iopub.status.idle": "2024-07-27T15:24:38.154295Z",
     "shell.execute_reply": "2024-07-27T15:24:38.152773Z",
     "shell.execute_reply.started": "2024-07-27T15:24:38.137646Z"
    }
   },
   "outputs": [],
   "source": [
    "response_template = \" ### Answer:\"\n",
    "collator = DataCollatorForCompletionOnlyLM(response_template, tokenizer=tokenizer)"
   ]
  },
  {
   "cell_type": "markdown",
   "id": "43aa34ee-e0d3-40fb-8902-ea6180e178d9",
   "metadata": {},
   "source": [
    "### SFTTrainer"
   ]
  },
  {
   "cell_type": "code",
   "execution_count": null,
   "id": "1147923c-7113-4a51-be15-5aff9897dd51",
   "metadata": {},
   "outputs": [],
   "source": [
    "trainer = SFTTrainer(\n",
    "    model,\n",
    "    train_dataset=dataset,\n",
    "    args=SFTConfig(output_dir=\"/tmp\"),\n",
    "    formatting_func=formatting_prompts_func,\n",
    "    data_collator=collator,\n",
    ")\n",
    "\n",
    "trainer.train()"
   ]
  }
 ],
 "metadata": {
  "kernelspec": {
   "display_name": "Python 3 (ipykernel)",
   "language": "python",
   "name": "python3"
  },
  "language_info": {
   "codemirror_mode": {
    "name": "ipython",
    "version": 3
   },
   "file_extension": ".py",
   "mimetype": "text/x-python",
   "name": "python",
   "nbconvert_exporter": "python",
   "pygments_lexer": "ipython3",
   "version": "3.10.13"
  }
 },
 "nbformat": 4,
 "nbformat_minor": 5
}
