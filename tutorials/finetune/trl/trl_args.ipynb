{
 "cells": [
  {
   "cell_type": "markdown",
   "id": "3d72bd45-7664-47d3-85df-ee0ec1c25b72",
   "metadata": {},
   "source": [
    "### wandb"
   ]
  },
  {
   "cell_type": "markdown",
   "id": "0db5e4db-b892-4dbf-bffc-e27936b24865",
   "metadata": {},
   "source": [
    "```\n",
    "os.environ['WANDB_DISABLED'] = 'true'\n",
    "```\n",
    "\n",
    "- 关闭 wandb 服务\n"
   ]
  }
 ],
 "metadata": {
  "kernelspec": {
   "display_name": "Python 3 (ipykernel)",
   "language": "python",
   "name": "python3"
  },
  "language_info": {
   "codemirror_mode": {
    "name": "ipython",
    "version": 3
   },
   "file_extension": ".py",
   "mimetype": "text/x-python",
   "name": "python",
   "nbconvert_exporter": "python",
   "pygments_lexer": "ipython3",
   "version": "3.10.13"
  }
 },
 "nbformat": 4,
 "nbformat_minor": 5
}
