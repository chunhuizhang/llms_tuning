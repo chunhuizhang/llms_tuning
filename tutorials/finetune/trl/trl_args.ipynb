{
 "cells": [
  {
   "cell_type": "code",
   "execution_count": 1,
   "id": "72d2a0dd-05c1-493c-8be7-b1294af2099b",
   "metadata": {
    "execution": {
     "iopub.execute_input": "2024-07-28T03:06:34.239720Z",
     "iopub.status.busy": "2024-07-28T03:06:34.239316Z",
     "iopub.status.idle": "2024-07-28T03:06:34.248864Z",
     "shell.execute_reply": "2024-07-28T03:06:34.246780Z",
     "shell.execute_reply.started": "2024-07-28T03:06:34.239690Z"
    }
   },
   "outputs": [],
   "source": [
    "import os\n",
    "os.environ['http_proxy'] = 'http://127.0.0.1:7890'\n",
    "os.environ['https_proxy'] = 'http://127.0.0.1:7890'"
   ]
  },
  {
   "cell_type": "code",
   "execution_count": 2,
   "id": "9c2833b9-6b41-49c8-972a-e061149c6e86",
   "metadata": {
    "execution": {
     "iopub.execute_input": "2024-07-28T03:06:44.386609Z",
     "iopub.status.busy": "2024-07-28T03:06:44.385993Z",
     "iopub.status.idle": "2024-07-28T03:06:55.413018Z",
     "shell.execute_reply": "2024-07-28T03:06:55.412123Z",
     "shell.execute_reply.started": "2024-07-28T03:06:44.386561Z"
    }
   },
   "outputs": [
    {
     "name": "stdout",
     "output_type": "stream",
     "text": [
      "[2024-07-28 11:06:55,085] [INFO] [real_accelerator.py:161:get_accelerator] Setting ds_accelerator to cuda (auto detect)\n"
     ]
    }
   ],
   "source": [
    "from datasets import load_dataset\n",
    "from trl import SFTConfig, SFTTrainer"
   ]
  },
  {
   "cell_type": "markdown",
   "id": "3d72bd45-7664-47d3-85df-ee0ec1c25b72",
   "metadata": {},
   "source": [
    "### wandb"
   ]
  },
  {
   "cell_type": "markdown",
   "id": "0db5e4db-b892-4dbf-bffc-e27936b24865",
   "metadata": {},
   "source": [
    "```\n",
    "os.environ['WANDB_DISABLED'] = 'true'\n",
    "```\n",
    "\n",
    "- 关闭 wandb 服务\n"
   ]
  },
  {
   "cell_type": "markdown",
   "id": "b71648fc-2b80-4014-81d7-3bf8ce17e9ba",
   "metadata": {},
   "source": [
    "### SFTConfig"
   ]
  },
  {
   "cell_type": "markdown",
   "id": "01af0543-782e-43c4-b960-251b540409f6",
   "metadata": {},
   "source": [
    "- `class SFTConfig(TrainingArguments):`\n",
    "    - 继承了 TrainingArguments 类，\n",
    "        - `num_train_epochs`: default 3\n",
    "        - `per_device_train_batch_size`: default 8\n",
    "        - `per_device_eval_batch_size`: default 8\n",
    "        - `gradient_accumulation_steps`: default 1\n",
    "        - `dataloader_drop_last`: default false\n",
    "        - `report_to`:\n",
    "            - none\n",
    "            - tensorboard\n",
    "            - wandb\n",
    "- `dataset_text_field`: 跟 dataset 的成员对齐\n",
    "- `max_seq_length`\n",
    "- `output_dir='/tmp'`\n",
    "- **packing=True**,\n",
    "    - example packing, where multiple short examples are packed in the same input sequence to increase training efficiency. \n",
    "    - `# allows multiple shorter sequences to be packed into a single training example, maximizing the use of the model's context window.`"
   ]
  },
  {
   "cell_type": "code",
   "execution_count": 3,
   "id": "8d184560-e86c-428f-911a-52621813923f",
   "metadata": {
    "execution": {
     "iopub.execute_input": "2024-07-28T03:07:05.787563Z",
     "iopub.status.busy": "2024-07-28T03:07:05.786145Z",
     "iopub.status.idle": "2024-07-28T03:07:20.085390Z",
     "shell.execute_reply": "2024-07-28T03:07:20.083636Z",
     "shell.execute_reply.started": "2024-07-28T03:07:05.787510Z"
    }
   },
   "outputs": [
    {
     "data": {
      "application/vnd.jupyter.widget-view+json": {
       "model_id": "c934177576da45cab4d2302ff66ae291",
       "version_major": 2,
       "version_minor": 0
      },
      "text/plain": [
       "Generating train split:   0%|          | 0/25000 [00:00<?, ? examples/s]"
      ]
     },
     "metadata": {},
     "output_type": "display_data"
    },
    {
     "data": {
      "application/vnd.jupyter.widget-view+json": {
       "model_id": "8f41eb1cad8947329dafa3880d0847cc",
       "version_major": 2,
       "version_minor": 0
      },
      "text/plain": [
       "Generating test split:   0%|          | 0/25000 [00:00<?, ? examples/s]"
      ]
     },
     "metadata": {},
     "output_type": "display_data"
    },
    {
     "data": {
      "application/vnd.jupyter.widget-view+json": {
       "model_id": "0b4226710866486aa99119410ad31260",
       "version_major": 2,
       "version_minor": 0
      },
      "text/plain": [
       "Generating unsupervised split:   0%|          | 0/50000 [00:00<?, ? examples/s]"
      ]
     },
     "metadata": {},
     "output_type": "display_data"
    },
    {
     "data": {
      "text/plain": [
       "Dataset({\n",
       "    features: ['text', 'label'],\n",
       "    num_rows: 25000\n",
       "})"
      ]
     },
     "execution_count": 3,
     "metadata": {},
     "output_type": "execute_result"
    }
   ],
   "source": [
    "imdb = load_dataset('imdb', split='train')\n",
    "imdb"
   ]
  },
  {
   "cell_type": "markdown",
   "id": "4a165680-c1e6-4416-ac70-88011665ca20",
   "metadata": {},
   "source": [
    "```\n",
    "sft_config = SFTConfig(\n",
    "    dataset_text_field=\"text\",\n",
    "    max_seq_length=512,\n",
    "    output_dir=\"/tmp\",\n",
    ")\n",
    "```"
   ]
  },
  {
   "cell_type": "markdown",
   "id": "8a4becad-14d2-4c5a-8450-e70343ace63a",
   "metadata": {},
   "source": [
    "### training steps"
   ]
  },
  {
   "cell_type": "markdown",
   "id": "8e996776-7759-4d02-bff8-814724a66bae",
   "metadata": {},
   "source": [
    "```\n",
    "# 20022\n",
    "dataset = load_dataset(\"lucasmccabe-lmi/CodeAlpaca-20k\", split=\"train\")\n",
    "\n",
    "args = SFTConfig(output_dir=\"/tmp\", \n",
    "                 max_seq_length=512, \n",
    "                 num_train_epochs=2, \n",
    "                 per_device_train_batch_size=4, \n",
    "                 gradient_accumulation_steps=4,\n",
    "                 gradient_checkpointing=True,\n",
    "                 )\n",
    "\n",
    "trainer = SFTTrainer(\n",
    "    model,\n",
    "    train_dataset=dataset,\n",
    "    args=args,\n",
    "    formatting_func=formatting_prompts_func,\n",
    "    data_collator=collator,\n",
    ")\n",
    "```"
   ]
  },
  {
   "cell_type": "markdown",
   "id": "9e9b429a-4d75-4e3d-8db5-5061834848c9",
   "metadata": {},
   "source": [
    "- training_epochs * len(dataset) / (_train_batch_size * args.gradient_accumulation_steps * args.world_size)\n",
    "    - `20022 * 2 / (4*4*2)`"
   ]
  },
  {
   "cell_type": "code",
   "execution_count": 5,
   "id": "5f086a2a-a15e-4dee-9000-7e7241122cc3",
   "metadata": {
    "execution": {
     "iopub.execute_input": "2024-07-28T05:16:46.942858Z",
     "iopub.status.busy": "2024-07-28T05:16:46.941246Z",
     "iopub.status.idle": "2024-07-28T05:16:46.950277Z",
     "shell.execute_reply": "2024-07-28T05:16:46.949041Z",
     "shell.execute_reply.started": "2024-07-28T05:16:46.942806Z"
    }
   },
   "outputs": [
    {
     "data": {
      "text/plain": [
       "1251.375"
      ]
     },
     "execution_count": 5,
     "metadata": {},
     "output_type": "execute_result"
    }
   ],
   "source": [
    "20022 * 2 / (4*4*2)"
   ]
  }
 ],
 "metadata": {
  "kernelspec": {
   "display_name": "Python 3 (ipykernel)",
   "language": "python",
   "name": "python3"
  },
  "language_info": {
   "codemirror_mode": {
    "name": "ipython",
    "version": 3
   },
   "file_extension": ".py",
   "mimetype": "text/x-python",
   "name": "python",
   "nbconvert_exporter": "python",
   "pygments_lexer": "ipython3",
   "version": "3.10.13"
  }
 },
 "nbformat": 4,
 "nbformat_minor": 5
}
