{
 "cells": [
  {
   "cell_type": "markdown",
   "id": "4e576faa-04c6-4be6-83be-056fd8087190",
   "metadata": {},
   "source": [
    "- references\n",
    "    - https://medium.com/@dzmitrybahdanau/the-flops-calculus-of-language-model-training-3b19c1f025e4\n",
    "    - https://www.cs.princeton.edu/courses/archive/fall22/cos597G/lectures/lec12.pdf"
   ]
  },
  {
   "cell_type": "markdown",
   "id": "6e5353da-f8bf-48d1-971e-8d7b7b8c1a0f",
   "metadata": {},
   "source": [
    "## $C=6ND$"
   ]
  },
  {
   "cell_type": "markdown",
   "id": "f2a0c1da-969f-400a-84f4-09c63882f621",
   "metadata": {},
   "source": [
    "- $N$: attention + ffn = $12\\ell d^2$\n",
    "    - attention: $Wq + Wk + Wv + Wo = 4d^2$\n",
    "    - ffn: $2\\cdot 4d^2=8d^2$\n",
    "- 前向+后向: $6N$\n",
    "    - 前向：$Wx=b$ => 对于 weights $W$，一个参数对应2次运算，1次乘法，1次加法 => $2N$\n",
    "    - 反向：$dx,dW$ => 2倍的前向 => $4N$\n",
    "        - Backward pass needs to calculate the derivative of loss with respect to each hidden state and for each parameter FLOPs for backward pass is roughly twice of forward pass\n",
    "      $$\n",
    "      \\frac{\\partial L}{\\partial \\theta_i}=\\frac{\\partial L}{\\partial h_i}\\frac{\\partial h_i}{\\partial \\theta_i}\n",
    "      $$\n",
    "\n",
    "      - note 其中\n",
    "     \n",
    "      $$\n",
    "      \\frac{\\partial L}{\\partial h_i}=\\frac{\\partial L}{\\partial h_{i+1}}\\frac{\\partial h_{i+1}}{\\partial h_i}\n",
    "      $$"
   ]
  },
  {
   "cell_type": "markdown",
   "id": "0caab8c6-7152-4efd-bb8f-4c309665735e",
   "metadata": {},
   "source": [
    "- An **82B** parameter Korean variant of GPT-3 called HyperCLOVA was trained on **150B** tokens using a cluster of **1024 Nvidia A100 GPUs**. How long could that take?\n",
    "    - https://www.nvidia.com/content/dam/en-zz/Solutions/Data-Center/a100/pdf/nvidia-a100-datasheet.pdf\n",
    "        - fp16 flops: 312 teraFLOPs = 3.12e14 FLOPs\n",
    "    - C = 6 ∙ 8.2e10 ∙ 1.5e11 = 7.38e22."
   ]
  },
  {
   "cell_type": "code",
   "execution_count": 3,
   "id": "b4c80285-27dd-4d21-80b2-d1c237728aa2",
   "metadata": {
    "execution": {
     "iopub.execute_input": "2024-07-09T14:32:51.594423Z",
     "iopub.status.busy": "2024-07-09T14:32:51.593859Z",
     "iopub.status.idle": "2024-07-09T14:32:51.611496Z",
     "shell.execute_reply": "2024-07-09T14:32:51.609361Z",
     "shell.execute_reply.started": "2024-07-09T14:32:51.594381Z"
    }
   },
   "outputs": [
    {
     "data": {
      "text/plain": [
       "7.38e+22"
      ]
     },
     "execution_count": 3,
     "metadata": {},
     "output_type": "execute_result"
    }
   ],
   "source": [
    "C = 6 * 8.2e10 * 1.5e11\n",
    "C"
   ]
  },
  {
   "cell_type": "code",
   "execution_count": 5,
   "id": "a12b35d6-f1e2-4a1b-9baa-f49aa488fb3f",
   "metadata": {
    "execution": {
     "iopub.execute_input": "2024-07-09T14:33:41.966818Z",
     "iopub.status.busy": "2024-07-09T14:33:41.966254Z",
     "iopub.status.idle": "2024-07-09T14:33:41.978064Z",
     "shell.execute_reply": "2024-07-09T14:33:41.975973Z",
     "shell.execute_reply.started": "2024-07-09T14:33:41.966775Z"
    }
   },
   "outputs": [
    {
     "data": {
      "text/plain": [
       "2.6735485109508548"
      ]
     },
     "execution_count": 5,
     "metadata": {},
     "output_type": "execute_result"
    }
   ],
   "source": [
    "T = C/ (1024 * 3.12e14) / (24*60*60)\n",
    "T"
   ]
  },
  {
   "cell_type": "code",
   "execution_count": null,
   "id": "dcf44ccb-b615-43c9-8edf-63ae0bb60c66",
   "metadata": {},
   "outputs": [],
   "source": []
  }
 ],
 "metadata": {
  "kernelspec": {
   "display_name": "Python 3 (ipykernel)",
   "language": "python",
   "name": "python3"
  },
  "language_info": {
   "codemirror_mode": {
    "name": "ipython",
    "version": 3
   },
   "file_extension": ".py",
   "mimetype": "text/x-python",
   "name": "python",
   "nbconvert_exporter": "python",
   "pygments_lexer": "ipython3",
   "version": "3.10.13"
  }
 },
 "nbformat": 4,
 "nbformat_minor": 5
}
