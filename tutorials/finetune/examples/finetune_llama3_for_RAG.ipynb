{
 "cells": [
  {
   "cell_type": "code",
   "execution_count": 1,
   "id": "4df3a1dd-4631-49a9-9927-2799bac2533a",
   "metadata": {
    "execution": {
     "iopub.execute_input": "2024-07-22T15:26:33.522198Z",
     "iopub.status.busy": "2024-07-22T15:26:33.521881Z",
     "iopub.status.idle": "2024-07-22T15:26:33.536392Z",
     "shell.execute_reply": "2024-07-22T15:26:33.534900Z",
     "shell.execute_reply.started": "2024-07-22T15:26:33.522171Z"
    }
   },
   "outputs": [],
   "source": [
    "import os\n",
    "os.environ['http_proxy'] = 'http://127.0.0.1:7890'\n",
    "os.environ['https_proxy'] = 'http://127.0.0.1:7890'\n",
    "from IPython.display import Image"
   ]
  },
  {
   "cell_type": "code",
   "execution_count": 2,
   "id": "f9838163-65ae-4ac3-a08c-82ea82e69f16",
   "metadata": {
    "execution": {
     "iopub.execute_input": "2024-07-22T15:26:33.537596Z",
     "iopub.status.busy": "2024-07-22T15:26:33.537285Z",
     "iopub.status.idle": "2024-07-22T15:26:33.547830Z",
     "shell.execute_reply": "2024-07-22T15:26:33.546091Z",
     "shell.execute_reply.started": "2024-07-22T15:26:33.537570Z"
    }
   },
   "outputs": [],
   "source": [
    "# !pip install --upgrade trl\n",
    "# !pip install --upgrade bitsandbytes"
   ]
  },
  {
   "cell_type": "code",
   "execution_count": 3,
   "id": "e1bd26ad-c9e4-4198-8117-bc2640a84aab",
   "metadata": {
    "execution": {
     "iopub.execute_input": "2024-07-22T15:26:33.549161Z",
     "iopub.status.busy": "2024-07-22T15:26:33.548846Z",
     "iopub.status.idle": "2024-07-22T15:26:44.782605Z",
     "shell.execute_reply": "2024-07-22T15:26:44.781728Z",
     "shell.execute_reply.started": "2024-07-22T15:26:33.549135Z"
    }
   },
   "outputs": [
    {
     "name": "stdout",
     "output_type": "stream",
     "text": [
      "[2024-07-22 23:26:44,621] [INFO] [real_accelerator.py:161:get_accelerator] Setting ds_accelerator to cuda (auto detect)\n"
     ]
    }
   ],
   "source": [
    "import random\n",
    "from typing import Dict, List\n",
    "from tqdm import tqdm\n",
    "import numpy as np\n",
    "import pandas as pd\n",
    "import matplotlib.pyplot as plt\n",
    "from matplotlib.ticker import PercentFormatter\n",
    "import seaborn as sns\n",
    "from sklearn.model_selection import train_test_split\n",
    "import torch\n",
    "from torch.utils.data import DataLoader\n",
    "from datasets import Dataset, load_dataset\n",
    "from transformers import (\n",
    "    AutoModelForCausalLM,\n",
    "    AutoTokenizer,\n",
    "    BitsAndBytesConfig,\n",
    "    pipeline,\n",
    ")\n",
    "from peft import (\n",
    "    LoraConfig,\n",
    "    PeftModel,\n",
    "    TaskType,\n",
    "    get_peft_model,\n",
    "    prepare_model_for_kbit_training,\n",
    ")\n",
    "from trl import DataCollatorForCompletionOnlyLM, SFTConfig, SFTTrainer"
   ]
  },
  {
   "cell_type": "code",
   "execution_count": 4,
   "id": "76e091e0-b0b3-49e9-ba3a-e9ef1dfef0c8",
   "metadata": {
    "execution": {
     "iopub.execute_input": "2024-07-22T15:26:44.783788Z",
     "iopub.status.busy": "2024-07-22T15:26:44.783511Z",
     "iopub.status.idle": "2024-07-22T15:26:44.789122Z",
     "shell.execute_reply": "2024-07-22T15:26:44.788361Z",
     "shell.execute_reply.started": "2024-07-22T15:26:44.783773Z"
    }
   },
   "outputs": [],
   "source": [
    "SEED = 42\n",
    "\n",
    "def seed_everything(seed: int):\n",
    "    random.seed(seed)\n",
    "    np.random.seed(seed)\n",
    "    torch.manual_seed(seed)\n",
    "    \n",
    "seed_everything(SEED)"
   ]
  },
  {
   "cell_type": "markdown",
   "id": "df9229bb-a47a-432b-91f9-5c7077af987a",
   "metadata": {},
   "source": [
    "## overall"
   ]
  },
  {
   "cell_type": "code",
   "execution_count": 5,
   "id": "fc8f7e95-3a13-4d91-8b6b-cb3b7b4320c2",
   "metadata": {
    "execution": {
     "iopub.execute_input": "2024-07-22T15:26:44.789788Z",
     "iopub.status.busy": "2024-07-22T15:26:44.789646Z",
     "iopub.status.idle": "2024-07-22T15:26:44.808537Z",
     "shell.execute_reply": "2024-07-22T15:26:44.807793Z",
     "shell.execute_reply.started": "2024-07-22T15:26:44.789777Z"
    }
   },
   "outputs": [
    {
     "data": {
      "text/html": [
       "<img src=\"https://www.mlexpert.io/_next/image?url=%2F_next%2Fstatic%2Fmedia%2Fbanner.2336875a.png&w=3840&q=75\" width=\"500\"/>"
      ],
      "text/plain": [
       "<IPython.core.display.Image object>"
      ]
     },
     "execution_count": 5,
     "metadata": {},
     "output_type": "execute_result"
    }
   ],
   "source": [
    "Image(url='https://www.mlexpert.io/_next/image?url=%2F_next%2Fstatic%2Fmedia%2Fbanner.2336875a.png&w=3840&q=75', width=500)"
   ]
  },
  {
   "cell_type": "markdown",
   "id": "ac9a1b13-45ac-407a-a2ff-71df851f6361",
   "metadata": {},
   "source": [
    "## constants"
   ]
  },
  {
   "cell_type": "code",
   "execution_count": 6,
   "id": "54e7d77a-635d-4a06-bd96-16537289417a",
   "metadata": {
    "execution": {
     "iopub.execute_input": "2024-07-22T15:26:44.810413Z",
     "iopub.status.busy": "2024-07-22T15:26:44.810217Z",
     "iopub.status.idle": "2024-07-22T15:26:44.816071Z",
     "shell.execute_reply": "2024-07-22T15:26:44.815339Z",
     "shell.execute_reply.started": "2024-07-22T15:26:44.810402Z"
    }
   },
   "outputs": [],
   "source": [
    "pad_token = \"<|pad|>\"\n",
    "model_id = \"meta-llama/Meta-Llama-3-8B-Instruct\"\n",
    "new_model = \"Llama-3-8B-Instruct-Finance-RAG\""
   ]
  },
  {
   "cell_type": "markdown",
   "id": "613b39e2-8b4e-47fb-8f14-3f12d447e10b",
   "metadata": {},
   "source": [
    "## model & tokenizer"
   ]
  },
  {
   "cell_type": "code",
   "execution_count": 7,
   "id": "b270cc26-e26a-44d2-bd3c-2ffb15ca2b06",
   "metadata": {
    "execution": {
     "iopub.execute_input": "2024-07-22T15:26:44.816709Z",
     "iopub.status.busy": "2024-07-22T15:26:44.816580Z",
     "iopub.status.idle": "2024-07-22T15:26:45.653308Z",
     "shell.execute_reply": "2024-07-22T15:26:45.652510Z",
     "shell.execute_reply.started": "2024-07-22T15:26:44.816699Z"
    }
   },
   "outputs": [
    {
     "name": "stderr",
     "output_type": "stream",
     "text": [
      "Special tokens have been added in the vocabulary, make sure the associated word embeddings are fine-tuned or trained.\n"
     ]
    }
   ],
   "source": [
    "quantization_config = BitsAndBytesConfig(\n",
    "    load_in_4bit=True, bnb_4bit_quant_type=\"nf4\", bnb_4bit_compute_dtype=torch.bfloat16\n",
    ")\n",
    "tokenizer = AutoTokenizer.from_pretrained(model_id, use_fast=True)\n",
    "# tokenizer"
   ]
  },
  {
   "cell_type": "code",
   "execution_count": 8,
   "id": "0228da24-a453-42d2-9ff4-1fa573f9a5d0",
   "metadata": {
    "execution": {
     "iopub.execute_input": "2024-07-22T15:26:45.654140Z",
     "iopub.status.busy": "2024-07-22T15:26:45.653996Z",
     "iopub.status.idle": "2024-07-22T15:26:45.659122Z",
     "shell.execute_reply": "2024-07-22T15:26:45.658397Z",
     "shell.execute_reply.started": "2024-07-22T15:26:45.654128Z"
    }
   },
   "outputs": [
    {
     "data": {
      "text/plain": [
       "({'bos_token': '<|begin_of_text|>', 'eos_token': '<|end_of_text|>'}, None)"
      ]
     },
     "execution_count": 8,
     "metadata": {},
     "output_type": "execute_result"
    }
   ],
   "source": [
    "tokenizer.special_tokens_map, tokenizer.pad_token"
   ]
  },
  {
   "cell_type": "code",
   "execution_count": 9,
   "id": "9b83ef88-a801-4b3f-b7e7-5168104952b4",
   "metadata": {
    "execution": {
     "iopub.execute_input": "2024-07-22T15:26:45.659774Z",
     "iopub.status.busy": "2024-07-22T15:26:45.659650Z",
     "iopub.status.idle": "2024-07-22T15:26:45.678331Z",
     "shell.execute_reply": "2024-07-22T15:26:45.677451Z",
     "shell.execute_reply.started": "2024-07-22T15:26:45.659763Z"
    }
   },
   "outputs": [],
   "source": [
    "tokenizer.add_special_tokens({\"pad_token\": pad_token})\n",
    "tokenizer.padding_side = \"right\""
   ]
  },
  {
   "cell_type": "code",
   "execution_count": 10,
   "id": "02428daa-e2cc-41d1-9195-677b06e4451e",
   "metadata": {
    "execution": {
     "iopub.execute_input": "2024-07-22T15:26:45.679284Z",
     "iopub.status.busy": "2024-07-22T15:26:45.679078Z",
     "iopub.status.idle": "2024-07-22T15:26:51.556532Z",
     "shell.execute_reply": "2024-07-22T15:26:51.555670Z",
     "shell.execute_reply.started": "2024-07-22T15:26:45.679267Z"
    }
   },
   "outputs": [
    {
     "data": {
      "application/vnd.jupyter.widget-view+json": {
       "model_id": "4ab4ec61ac2f4ee09ca2b26039db2370",
       "version_major": 2,
       "version_minor": 0
      },
      "text/plain": [
       "Loading checkpoint shards:   0%|          | 0/4 [00:00<?, ?it/s]"
      ]
     },
     "metadata": {},
     "output_type": "display_data"
    },
    {
     "name": "stderr",
     "output_type": "stream",
     "text": [
      "We've detected an older driver with an RTX 4000 series GPU. These drivers have issues with P2P. This can affect the multi-gpu inference when using accelerate device_map.Please make sure to update your driver to the latest version which resolves this.\n"
     ]
    }
   ],
   "source": [
    "model = AutoModelForCausalLM.from_pretrained(\n",
    "    model_id,\n",
    "    quantization_config=quantization_config,\n",
    "    #     attn_implementation=\"flash_attention_2\",\n",
    "    #     attn_implementation=\"sdpa\",\n",
    "    device_map=\"auto\",\n",
    ")"
   ]
  },
  {
   "cell_type": "code",
   "execution_count": 11,
   "id": "ffc7aea2-c662-4b8f-b060-22ae454650c8",
   "metadata": {
    "execution": {
     "iopub.execute_input": "2024-07-22T15:26:51.557495Z",
     "iopub.status.busy": "2024-07-22T15:26:51.557315Z",
     "iopub.status.idle": "2024-07-22T15:26:51.563011Z",
     "shell.execute_reply": "2024-07-22T15:26:51.562219Z",
     "shell.execute_reply.started": "2024-07-22T15:26:51.557479Z"
    }
   },
   "outputs": [
    {
     "data": {
      "text/plain": [
       "257"
      ]
     },
     "execution_count": 11,
     "metadata": {},
     "output_type": "execute_result"
    }
   ],
   "source": [
    "len(tokenizer.added_tokens_decoder)"
   ]
  },
  {
   "cell_type": "code",
   "execution_count": 12,
   "id": "7aa0e0ed-b4ea-4d70-ac40-7887f73c6dae",
   "metadata": {
    "execution": {
     "iopub.execute_input": "2024-07-22T15:26:51.563789Z",
     "iopub.status.busy": "2024-07-22T15:26:51.563619Z",
     "iopub.status.idle": "2024-07-22T15:26:51.600333Z",
     "shell.execute_reply": "2024-07-22T15:26:51.599558Z",
     "shell.execute_reply.started": "2024-07-22T15:26:51.563775Z"
    }
   },
   "outputs": [
    {
     "data": {
      "text/plain": [
       "(Embedding(128256, 4096), 128000, 128257)"
      ]
     },
     "execution_count": 12,
     "metadata": {},
     "output_type": "execute_result"
    }
   ],
   "source": [
    "model.model.embed_tokens, tokenizer.vocab_size, len(tokenizer)"
   ]
  },
  {
   "cell_type": "code",
   "execution_count": 13,
   "id": "2914e036-7bee-4117-a1e6-b91dc5ac3f00",
   "metadata": {
    "execution": {
     "iopub.execute_input": "2024-07-22T15:26:51.601096Z",
     "iopub.status.busy": "2024-07-22T15:26:51.600936Z",
     "iopub.status.idle": "2024-07-22T15:26:51.623426Z",
     "shell.execute_reply": "2024-07-22T15:26:51.622642Z",
     "shell.execute_reply.started": "2024-07-22T15:26:51.601082Z"
    }
   },
   "outputs": [
    {
     "data": {
      "text/plain": [
       "Embedding(128264, 4096)"
      ]
     },
     "execution_count": 13,
     "metadata": {},
     "output_type": "execute_result"
    }
   ],
   "source": [
    "model.resize_token_embeddings(len(tokenizer), pad_to_multiple_of=8)"
   ]
  },
  {
   "cell_type": "code",
   "execution_count": 14,
   "id": "d07a1a3d-3511-4403-98ac-71353be9d22f",
   "metadata": {
    "execution": {
     "iopub.execute_input": "2024-07-22T15:26:51.624192Z",
     "iopub.status.busy": "2024-07-22T15:26:51.624034Z",
     "iopub.status.idle": "2024-07-22T15:26:51.629129Z",
     "shell.execute_reply": "2024-07-22T15:26:51.628353Z",
     "shell.execute_reply.started": "2024-07-22T15:26:51.624179Z"
    }
   },
   "outputs": [
    {
     "data": {
      "text/plain": [
       "(16032.125, 16033.0)"
      ]
     },
     "execution_count": 14,
     "metadata": {},
     "output_type": "execute_result"
    }
   ],
   "source": [
    "128257/8, 128264/8"
   ]
  },
  {
   "cell_type": "code",
   "execution_count": 15,
   "id": "8573baa3-017a-4871-8898-7ab5e7b88334",
   "metadata": {
    "execution": {
     "iopub.execute_input": "2024-07-22T15:26:51.629981Z",
     "iopub.status.busy": "2024-07-22T15:26:51.629818Z",
     "iopub.status.idle": "2024-07-22T15:26:51.637663Z",
     "shell.execute_reply": "2024-07-22T15:26:51.636877Z",
     "shell.execute_reply.started": "2024-07-22T15:26:51.629967Z"
    }
   },
   "outputs": [
    {
     "data": {
      "text/plain": [
       "LlamaConfig {\n",
       "  \"_name_or_path\": \"meta-llama/Meta-Llama-3-8B-Instruct\",\n",
       "  \"architectures\": [\n",
       "    \"LlamaForCausalLM\"\n",
       "  ],\n",
       "  \"attention_bias\": false,\n",
       "  \"attention_dropout\": 0.0,\n",
       "  \"bos_token_id\": 128000,\n",
       "  \"eos_token_id\": 128001,\n",
       "  \"hidden_act\": \"silu\",\n",
       "  \"hidden_size\": 4096,\n",
       "  \"initializer_range\": 0.02,\n",
       "  \"intermediate_size\": 14336,\n",
       "  \"max_position_embeddings\": 8192,\n",
       "  \"mlp_bias\": false,\n",
       "  \"model_type\": \"llama\",\n",
       "  \"num_attention_heads\": 32,\n",
       "  \"num_hidden_layers\": 32,\n",
       "  \"num_key_value_heads\": 8,\n",
       "  \"pretraining_tp\": 1,\n",
       "  \"quantization_config\": {\n",
       "    \"_load_in_4bit\": true,\n",
       "    \"_load_in_8bit\": false,\n",
       "    \"bnb_4bit_compute_dtype\": \"bfloat16\",\n",
       "    \"bnb_4bit_quant_storage\": \"uint8\",\n",
       "    \"bnb_4bit_quant_type\": \"nf4\",\n",
       "    \"bnb_4bit_use_double_quant\": false,\n",
       "    \"llm_int8_enable_fp32_cpu_offload\": false,\n",
       "    \"llm_int8_has_fp16_weight\": false,\n",
       "    \"llm_int8_skip_modules\": null,\n",
       "    \"llm_int8_threshold\": 6.0,\n",
       "    \"load_in_4bit\": true,\n",
       "    \"load_in_8bit\": false,\n",
       "    \"quant_method\": \"bitsandbytes\"\n",
       "  },\n",
       "  \"rms_norm_eps\": 1e-05,\n",
       "  \"rope_scaling\": null,\n",
       "  \"rope_theta\": 500000.0,\n",
       "  \"tie_word_embeddings\": false,\n",
       "  \"torch_dtype\": \"bfloat16\",\n",
       "  \"transformers_version\": \"4.42.4\",\n",
       "  \"use_cache\": true,\n",
       "  \"vocab_size\": 128264\n",
       "}"
      ]
     },
     "execution_count": 15,
     "metadata": {},
     "output_type": "execute_result"
    }
   ],
   "source": [
    "model.config"
   ]
  },
  {
   "cell_type": "code",
   "execution_count": 16,
   "id": "5028c28e-da27-4d22-901b-97d2a37a860a",
   "metadata": {
    "execution": {
     "iopub.execute_input": "2024-07-22T15:26:51.638448Z",
     "iopub.status.busy": "2024-07-22T15:26:51.638280Z",
     "iopub.status.idle": "2024-07-22T15:26:51.646088Z",
     "shell.execute_reply": "2024-07-22T15:26:51.645262Z",
     "shell.execute_reply.started": "2024-07-22T15:26:51.638434Z"
    }
   },
   "outputs": [
    {
     "name": "stdout",
     "output_type": "stream",
     "text": [
      "<|begin_of_text|> 128000\n",
      "<|end_of_text|> 128001\n",
      "<|pad|> 128256\n"
     ]
    }
   ],
   "source": [
    "print(tokenizer.bos_token, tokenizer.bos_token_id)\n",
    "print(tokenizer.eos_token, tokenizer.eos_token_id)\n",
    "print(tokenizer.pad_token, tokenizer.pad_token_id)"
   ]
  },
  {
   "cell_type": "markdown",
   "id": "8cdb2679-ed71-490d-95cb-7d5e9555064c",
   "metadata": {},
   "source": [
    "## dataset"
   ]
  },
  {
   "cell_type": "code",
   "execution_count": 17,
   "id": "a3e41b83-f3cb-4c09-8d69-9e79b63a55c6",
   "metadata": {
    "execution": {
     "iopub.execute_input": "2024-07-22T15:26:51.647069Z",
     "iopub.status.busy": "2024-07-22T15:26:51.646809Z",
     "iopub.status.idle": "2024-07-22T15:26:57.313621Z",
     "shell.execute_reply": "2024-07-22T15:26:57.312358Z",
     "shell.execute_reply.started": "2024-07-22T15:26:51.647047Z"
    }
   },
   "outputs": [],
   "source": [
    "dataset = load_dataset(\"virattt/financial-qa-10K\")"
   ]
  },
  {
   "cell_type": "code",
   "execution_count": 18,
   "id": "c7859555-ba34-4929-8743-6f417ecdfe6b",
   "metadata": {
    "execution": {
     "iopub.execute_input": "2024-07-22T15:26:57.315676Z",
     "iopub.status.busy": "2024-07-22T15:26:57.315243Z",
     "iopub.status.idle": "2024-07-22T15:26:57.323040Z",
     "shell.execute_reply": "2024-07-22T15:26:57.321943Z",
     "shell.execute_reply.started": "2024-07-22T15:26:57.315641Z"
    }
   },
   "outputs": [
    {
     "data": {
      "text/plain": [
       "DatasetDict({\n",
       "    train: Dataset({\n",
       "        features: ['question', 'answer', 'context', 'ticker', 'filing'],\n",
       "        num_rows: 7000\n",
       "    })\n",
       "})"
      ]
     },
     "execution_count": 18,
     "metadata": {},
     "output_type": "execute_result"
    }
   ],
   "source": [
    "dataset"
   ]
  },
  {
   "cell_type": "code",
   "execution_count": 19,
   "id": "69c9be43-716d-4f89-876e-6aa6da6d3638",
   "metadata": {
    "execution": {
     "iopub.execute_input": "2024-07-22T15:26:57.325333Z",
     "iopub.status.busy": "2024-07-22T15:26:57.324464Z",
     "iopub.status.idle": "2024-07-22T15:26:57.343865Z",
     "shell.execute_reply": "2024-07-22T15:26:57.342607Z",
     "shell.execute_reply.started": "2024-07-22T15:26:57.325298Z"
    }
   },
   "outputs": [
    {
     "data": {
      "text/plain": [
       "{'question': ['What area did NVIDIA initially focus on before expanding to other computationally intensive fields?',\n",
       "  'What are some of the recent applications of GPU-powered deep learning as mentioned by NVIDIA?',\n",
       "  'What significant invention did NVIDIA create in 1999?'],\n",
       " 'answer': ['NVIDIA initially focused on PC graphics.',\n",
       "  'Recent applications of GPU-powered deep learning include recommendation systems, large language models, and generative AI.',\n",
       "  'NVIDIA invented the GPU in 1999.'],\n",
       " 'context': ['Since our original focus on PC graphics, we have expanded to several other large and important computationally intensive fields.',\n",
       "  'Some of the most recent applications of GPU-powered deep learning include recommendation systems, which are AI algorithms trained to understand the preferences, previous decisions, and characteristics of people and products using data gathered about their interactions, large language models, which can recognize, summarize, translate, predict and generate text and other content based on knowledge gained from massive datasets, and generative AI, which uses algorithms that create new content, including audio, code, images, text, simulations, and videos, based on the data they have been trained on.',\n",
       "  'Our invention of the GPU in 1999 defined modern computer graphics and established NVIDIA as the leader in computer graphics.'],\n",
       " 'ticker': ['NVDA', 'NVDA', 'NVDA'],\n",
       " 'filing': ['2023_10K', '2023_10K', '2023_10K']}"
      ]
     },
     "execution_count": 19,
     "metadata": {},
     "output_type": "execute_result"
    }
   ],
   "source": [
    "dataset['train'][:3]"
   ]
  },
  {
   "cell_type": "code",
   "execution_count": 20,
   "id": "56291769-66b2-48e2-9ea3-60fbdb71cd0b",
   "metadata": {
    "execution": {
     "iopub.execute_input": "2024-07-22T15:26:57.346031Z",
     "iopub.status.busy": "2024-07-22T15:26:57.345510Z",
     "iopub.status.idle": "2024-07-22T15:26:57.408044Z",
     "shell.execute_reply": "2024-07-22T15:26:57.406917Z",
     "shell.execute_reply.started": "2024-07-22T15:26:57.345988Z"
    }
   },
   "outputs": [
    {
     "data": {
      "text/plain": [
       "DatasetDict({\n",
       "    train: Dataset({\n",
       "        features: ['question', 'answer', 'context'],\n",
       "        num_rows: 7000\n",
       "    })\n",
       "})"
      ]
     },
     "execution_count": 20,
     "metadata": {},
     "output_type": "execute_result"
    }
   ],
   "source": [
    "def process(row):\n",
    "    return {\n",
    "        \"question\": row[\"question\"],\n",
    "        \"context\": row[\"context\"],\n",
    "        \"answer\": row[\"answer\"]\n",
    "    }\n",
    "new_dataset = dataset.map(process, num_proc=8, \n",
    "                          remove_columns=dataset[\"train\"].column_names)\n",
    "new_dataset"
   ]
  },
  {
   "cell_type": "code",
   "execution_count": 21,
   "id": "d267eb99-2041-4cea-bd9d-3e55219aff12",
   "metadata": {
    "execution": {
     "iopub.execute_input": "2024-07-22T15:26:57.417426Z",
     "iopub.status.busy": "2024-07-22T15:26:57.417003Z",
     "iopub.status.idle": "2024-07-22T15:26:57.456108Z",
     "shell.execute_reply": "2024-07-22T15:26:57.454971Z",
     "shell.execute_reply.started": "2024-07-22T15:26:57.417393Z"
    }
   },
   "outputs": [
    {
     "data": {
      "text/html": [
       "<div>\n",
       "<style scoped>\n",
       "    .dataframe tbody tr th:only-of-type {\n",
       "        vertical-align: middle;\n",
       "    }\n",
       "\n",
       "    .dataframe tbody tr th {\n",
       "        vertical-align: top;\n",
       "    }\n",
       "\n",
       "    .dataframe thead th {\n",
       "        text-align: right;\n",
       "    }\n",
       "</style>\n",
       "<table border=\"1\" class=\"dataframe\">\n",
       "  <thead>\n",
       "    <tr style=\"text-align: right;\">\n",
       "      <th></th>\n",
       "      <th>question</th>\n",
       "      <th>answer</th>\n",
       "      <th>context</th>\n",
       "    </tr>\n",
       "  </thead>\n",
       "  <tbody>\n",
       "    <tr>\n",
       "      <th>0</th>\n",
       "      <td>What area did NVIDIA initially focus on before...</td>\n",
       "      <td>NVIDIA initially focused on PC graphics.</td>\n",
       "      <td>Since our original focus on PC graphics, we ha...</td>\n",
       "    </tr>\n",
       "    <tr>\n",
       "      <th>1</th>\n",
       "      <td>What are some of the recent applications of GP...</td>\n",
       "      <td>Recent applications of GPU-powered deep learni...</td>\n",
       "      <td>Some of the most recent applications of GPU-po...</td>\n",
       "    </tr>\n",
       "    <tr>\n",
       "      <th>2</th>\n",
       "      <td>What significant invention did NVIDIA create i...</td>\n",
       "      <td>NVIDIA invented the GPU in 1999.</td>\n",
       "      <td>Our invention of the GPU in 1999 defined moder...</td>\n",
       "    </tr>\n",
       "    <tr>\n",
       "      <th>3</th>\n",
       "      <td>How does NVIDIA's platform strategy contribute...</td>\n",
       "      <td>NVIDIA's platform strategy brings together har...</td>\n",
       "      <td>NVIDIA has a platform strategy, bringing toget...</td>\n",
       "    </tr>\n",
       "    <tr>\n",
       "      <th>4</th>\n",
       "      <td>What does NVIDIA's CUDA programming model enable?</td>\n",
       "      <td>NVIDIA's CUDA programming model opened the par...</td>\n",
       "      <td>With our introduction of the CUDA programming ...</td>\n",
       "    </tr>\n",
       "  </tbody>\n",
       "</table>\n",
       "</div>"
      ],
      "text/plain": [
       "                                            question  \\\n",
       "0  What area did NVIDIA initially focus on before...   \n",
       "1  What are some of the recent applications of GP...   \n",
       "2  What significant invention did NVIDIA create i...   \n",
       "3  How does NVIDIA's platform strategy contribute...   \n",
       "4  What does NVIDIA's CUDA programming model enable?   \n",
       "\n",
       "                                              answer  \\\n",
       "0           NVIDIA initially focused on PC graphics.   \n",
       "1  Recent applications of GPU-powered deep learni...   \n",
       "2                   NVIDIA invented the GPU in 1999.   \n",
       "3  NVIDIA's platform strategy brings together har...   \n",
       "4  NVIDIA's CUDA programming model opened the par...   \n",
       "\n",
       "                                             context  \n",
       "0  Since our original focus on PC graphics, we ha...  \n",
       "1  Some of the most recent applications of GPU-po...  \n",
       "2  Our invention of the GPU in 1999 defined moder...  \n",
       "3  NVIDIA has a platform strategy, bringing toget...  \n",
       "4  With our introduction of the CUDA programming ...  "
      ]
     },
     "execution_count": 21,
     "metadata": {},
     "output_type": "execute_result"
    }
   ],
   "source": [
    "df = new_dataset['train'].to_pandas()\n",
    "df.head()"
   ]
  },
  {
   "cell_type": "code",
   "execution_count": 22,
   "id": "41510e61-34a3-4ec8-b7bc-4fc074ebbcfd",
   "metadata": {
    "execution": {
     "iopub.execute_input": "2024-07-22T15:26:57.457926Z",
     "iopub.status.busy": "2024-07-22T15:26:57.457532Z",
     "iopub.status.idle": "2024-07-22T15:26:57.473499Z",
     "shell.execute_reply": "2024-07-22T15:26:57.472301Z",
     "shell.execute_reply.started": "2024-07-22T15:26:57.457896Z"
    }
   },
   "outputs": [
    {
     "data": {
      "text/plain": [
       "question  answer  context\n",
       "False     False   False      7000\n",
       "Name: count, dtype: int64"
      ]
     },
     "execution_count": 22,
     "metadata": {},
     "output_type": "execute_result"
    }
   ],
   "source": [
    "df.isnull().value_counts()"
   ]
  },
  {
   "cell_type": "markdown",
   "id": "e44ee50f-e226-4512-8b20-fc1ac3aad4d3",
   "metadata": {},
   "source": [
    "### to chat dataset"
   ]
  },
  {
   "cell_type": "code",
   "execution_count": 23,
   "id": "63c0a661-8620-444f-842b-cf1686c93e1d",
   "metadata": {
    "execution": {
     "iopub.execute_input": "2024-07-22T15:26:57.475427Z",
     "iopub.status.busy": "2024-07-22T15:26:57.474912Z",
     "iopub.status.idle": "2024-07-22T15:26:57.480186Z",
     "shell.execute_reply": "2024-07-22T15:26:57.479090Z",
     "shell.execute_reply.started": "2024-07-22T15:26:57.475398Z"
    }
   },
   "outputs": [],
   "source": [
    "from textwrap import dedent"
   ]
  },
  {
   "cell_type": "code",
   "execution_count": 24,
   "id": "2404347b-103d-4ae6-b433-9c038a9598e0",
   "metadata": {
    "execution": {
     "iopub.execute_input": "2024-07-22T15:26:57.482327Z",
     "iopub.status.busy": "2024-07-22T15:26:57.481495Z",
     "iopub.status.idle": "2024-07-22T15:26:57.493077Z",
     "shell.execute_reply": "2024-07-22T15:26:57.491935Z",
     "shell.execute_reply.started": "2024-07-22T15:26:57.482297Z"
    }
   },
   "outputs": [],
   "source": [
    "row = df.iloc[0]"
   ]
  },
  {
   "cell_type": "code",
   "execution_count": 25,
   "id": "23028cfe-fda9-477c-8924-cdfb49857ea0",
   "metadata": {
    "execution": {
     "iopub.execute_input": "2024-07-22T15:26:57.495177Z",
     "iopub.status.busy": "2024-07-22T15:26:57.494599Z",
     "iopub.status.idle": "2024-07-22T15:26:57.502783Z",
     "shell.execute_reply": "2024-07-22T15:26:57.501530Z",
     "shell.execute_reply.started": "2024-07-22T15:26:57.495141Z"
    }
   },
   "outputs": [
    {
     "name": "stdout",
     "output_type": "stream",
     "text": [
      "\n",
      "What area did NVIDIA initially focus on before expanding to other computationally intensive fields?\n",
      "\n",
      "Information:\n",
      "\n",
      "```\n",
      "Since our original focus on PC graphics, we have expanded to several other large and important computationally intensive fields.\n",
      "```\n",
      "\n"
     ]
    }
   ],
   "source": [
    "print(dedent(\n",
    "    f\"\"\"\n",
    "{row[\"question\"]}\n",
    "\n",
    "Information:\n",
    "\n",
    "```\n",
    "{row[\"context\"]}\n",
    "```\n",
    "\"\"\"\n",
    "))"
   ]
  },
  {
   "cell_type": "code",
   "execution_count": 26,
   "id": "097bb1d4-9ccc-4131-8018-b4a69d87bd95",
   "metadata": {
    "execution": {
     "iopub.execute_input": "2024-07-22T15:26:57.505306Z",
     "iopub.status.busy": "2024-07-22T15:26:57.504392Z",
     "iopub.status.idle": "2024-07-22T15:26:57.512825Z",
     "shell.execute_reply": "2024-07-22T15:26:57.511608Z",
     "shell.execute_reply.started": "2024-07-22T15:26:57.505267Z"
    }
   },
   "outputs": [],
   "source": [
    "def format_example(row: dict):\n",
    "    prompt = dedent(\n",
    "        f\"\"\"\n",
    "    {row[\"question\"]}\n",
    "\n",
    "    Information:\n",
    "\n",
    "    ```\n",
    "    {row[\"context\"]}\n",
    "    ```\n",
    "    \"\"\"\n",
    "    )\n",
    "    messages = [\n",
    "        {\n",
    "            \"role\": \"system\",\n",
    "            \"content\": \"Use only the information to answer the question\",\n",
    "        },\n",
    "        {\"role\": \"user\", \"content\": prompt},\n",
    "        {\"role\": \"assistant\", \"content\": row[\"answer\"]},\n",
    "    ]\n",
    "    return tokenizer.apply_chat_template(messages, tokenize=False)"
   ]
  },
  {
   "cell_type": "code",
   "execution_count": 27,
   "id": "bd85944b-b296-4209-a6d6-34872782e52d",
   "metadata": {
    "execution": {
     "iopub.execute_input": "2024-07-22T15:26:57.515130Z",
     "iopub.status.busy": "2024-07-22T15:26:57.514431Z",
     "iopub.status.idle": "2024-07-22T15:26:58.126272Z",
     "shell.execute_reply": "2024-07-22T15:26:58.124577Z",
     "shell.execute_reply.started": "2024-07-22T15:26:57.515090Z"
    }
   },
   "outputs": [],
   "source": [
    "df[\"text\"] = df.apply(format_example, axis=1)"
   ]
  },
  {
   "cell_type": "code",
   "execution_count": 28,
   "id": "f8faea26-d4cc-4294-a70d-07a0ad52103d",
   "metadata": {
    "execution": {
     "iopub.execute_input": "2024-07-22T15:26:58.127727Z",
     "iopub.status.busy": "2024-07-22T15:26:58.127510Z",
     "iopub.status.idle": "2024-07-22T15:26:58.133104Z",
     "shell.execute_reply": "2024-07-22T15:26:58.132134Z",
     "shell.execute_reply.started": "2024-07-22T15:26:58.127710Z"
    }
   },
   "outputs": [
    {
     "name": "stdout",
     "output_type": "stream",
     "text": [
      "<|begin_of_text|><|start_header_id|>system<|end_header_id|>\n",
      "\n",
      "Use only the information to answer the question<|eot_id|><|start_header_id|>user<|end_header_id|>\n",
      "\n",
      "What area did NVIDIA initially focus on before expanding to other computationally intensive fields?\n",
      "\n",
      "Information:\n",
      "\n",
      "```\n",
      "Since our original focus on PC graphics, we have expanded to several other large and important computationally intensive fields.\n",
      "```<|eot_id|><|start_header_id|>assistant<|end_header_id|>\n",
      "\n",
      "NVIDIA initially focused on PC graphics.<|eot_id|>\n"
     ]
    }
   ],
   "source": [
    "print(df.iloc[0]['text'])"
   ]
  },
  {
   "cell_type": "code",
   "execution_count": 29,
   "id": "d6f1da6a-ede6-416c-ac0b-b155568efd1a",
   "metadata": {
    "execution": {
     "iopub.execute_input": "2024-07-22T15:26:58.134252Z",
     "iopub.status.busy": "2024-07-22T15:26:58.134042Z",
     "iopub.status.idle": "2024-07-22T15:26:58.150812Z",
     "shell.execute_reply": "2024-07-22T15:26:58.149908Z",
     "shell.execute_reply.started": "2024-07-22T15:26:58.134235Z"
    }
   },
   "outputs": [],
   "source": [
    "def count_tokens(row: Dict) -> int:\n",
    "    return len(\n",
    "        tokenizer(\n",
    "            row[\"text\"],\n",
    "            add_special_tokens=True,\n",
    "            return_attention_mask=False,\n",
    "        )[\"input_ids\"]\n",
    "    )"
   ]
  },
  {
   "cell_type": "code",
   "execution_count": 30,
   "id": "9edde096-b702-4b10-9ff0-c024213a16c7",
   "metadata": {
    "execution": {
     "iopub.execute_input": "2024-07-22T15:26:58.151720Z",
     "iopub.status.busy": "2024-07-22T15:26:58.151527Z",
     "iopub.status.idle": "2024-07-22T15:27:00.322065Z",
     "shell.execute_reply": "2024-07-22T15:27:00.321050Z",
     "shell.execute_reply.started": "2024-07-22T15:26:58.151705Z"
    }
   },
   "outputs": [],
   "source": [
    "df[\"token_count\"] = df.apply(count_tokens, axis=1)"
   ]
  },
  {
   "cell_type": "code",
   "execution_count": 31,
   "id": "9e9283f7-1246-4ca4-8c20-894cf775431a",
   "metadata": {
    "execution": {
     "iopub.execute_input": "2024-07-22T15:27:00.323100Z",
     "iopub.status.busy": "2024-07-22T15:27:00.322884Z",
     "iopub.status.idle": "2024-07-22T15:27:00.334589Z",
     "shell.execute_reply": "2024-07-22T15:27:00.333676Z",
     "shell.execute_reply.started": "2024-07-22T15:27:00.323082Z"
    }
   },
   "outputs": [
    {
     "data": {
      "text/html": [
       "<div>\n",
       "<style scoped>\n",
       "    .dataframe tbody tr th:only-of-type {\n",
       "        vertical-align: middle;\n",
       "    }\n",
       "\n",
       "    .dataframe tbody tr th {\n",
       "        vertical-align: top;\n",
       "    }\n",
       "\n",
       "    .dataframe thead th {\n",
       "        text-align: right;\n",
       "    }\n",
       "</style>\n",
       "<table border=\"1\" class=\"dataframe\">\n",
       "  <thead>\n",
       "    <tr style=\"text-align: right;\">\n",
       "      <th></th>\n",
       "      <th>question</th>\n",
       "      <th>answer</th>\n",
       "      <th>context</th>\n",
       "      <th>text</th>\n",
       "      <th>token_count</th>\n",
       "    </tr>\n",
       "  </thead>\n",
       "  <tbody>\n",
       "    <tr>\n",
       "      <th>0</th>\n",
       "      <td>What area did NVIDIA initially focus on before...</td>\n",
       "      <td>NVIDIA initially focused on PC graphics.</td>\n",
       "      <td>Since our original focus on PC graphics, we ha...</td>\n",
       "      <td>&lt;|begin_of_text|&gt;&lt;|start_header_id|&gt;system&lt;|en...</td>\n",
       "      <td>75</td>\n",
       "    </tr>\n",
       "    <tr>\n",
       "      <th>1</th>\n",
       "      <td>What are some of the recent applications of GP...</td>\n",
       "      <td>Recent applications of GPU-powered deep learni...</td>\n",
       "      <td>Some of the most recent applications of GPU-po...</td>\n",
       "      <td>&lt;|begin_of_text|&gt;&lt;|start_header_id|&gt;system&lt;|en...</td>\n",
       "      <td>171</td>\n",
       "    </tr>\n",
       "    <tr>\n",
       "      <th>2</th>\n",
       "      <td>What significant invention did NVIDIA create i...</td>\n",
       "      <td>NVIDIA invented the GPU in 1999.</td>\n",
       "      <td>Our invention of the GPU in 1999 defined moder...</td>\n",
       "      <td>&lt;|begin_of_text|&gt;&lt;|start_header_id|&gt;system&lt;|en...</td>\n",
       "      <td>73</td>\n",
       "    </tr>\n",
       "    <tr>\n",
       "      <th>3</th>\n",
       "      <td>How does NVIDIA's platform strategy contribute...</td>\n",
       "      <td>NVIDIA's platform strategy brings together har...</td>\n",
       "      <td>NVIDIA has a platform strategy, bringing toget...</td>\n",
       "      <td>&lt;|begin_of_text|&gt;&lt;|start_header_id|&gt;system&lt;|en...</td>\n",
       "      <td>97</td>\n",
       "    </tr>\n",
       "    <tr>\n",
       "      <th>4</th>\n",
       "      <td>What does NVIDIA's CUDA programming model enable?</td>\n",
       "      <td>NVIDIA's CUDA programming model opened the par...</td>\n",
       "      <td>With our introduction of the CUDA programming ...</td>\n",
       "      <td>&lt;|begin_of_text|&gt;&lt;|start_header_id|&gt;system&lt;|en...</td>\n",
       "      <td>83</td>\n",
       "    </tr>\n",
       "  </tbody>\n",
       "</table>\n",
       "</div>"
      ],
      "text/plain": [
       "                                            question  \\\n",
       "0  What area did NVIDIA initially focus on before...   \n",
       "1  What are some of the recent applications of GP...   \n",
       "2  What significant invention did NVIDIA create i...   \n",
       "3  How does NVIDIA's platform strategy contribute...   \n",
       "4  What does NVIDIA's CUDA programming model enable?   \n",
       "\n",
       "                                              answer  \\\n",
       "0           NVIDIA initially focused on PC graphics.   \n",
       "1  Recent applications of GPU-powered deep learni...   \n",
       "2                   NVIDIA invented the GPU in 1999.   \n",
       "3  NVIDIA's platform strategy brings together har...   \n",
       "4  NVIDIA's CUDA programming model opened the par...   \n",
       "\n",
       "                                             context  \\\n",
       "0  Since our original focus on PC graphics, we ha...   \n",
       "1  Some of the most recent applications of GPU-po...   \n",
       "2  Our invention of the GPU in 1999 defined moder...   \n",
       "3  NVIDIA has a platform strategy, bringing toget...   \n",
       "4  With our introduction of the CUDA programming ...   \n",
       "\n",
       "                                                text  token_count  \n",
       "0  <|begin_of_text|><|start_header_id|>system<|en...           75  \n",
       "1  <|begin_of_text|><|start_header_id|>system<|en...          171  \n",
       "2  <|begin_of_text|><|start_header_id|>system<|en...           73  \n",
       "3  <|begin_of_text|><|start_header_id|>system<|en...           97  \n",
       "4  <|begin_of_text|><|start_header_id|>system<|en...           83  "
      ]
     },
     "execution_count": 31,
     "metadata": {},
     "output_type": "execute_result"
    }
   ],
   "source": [
    "df.head()"
   ]
  },
  {
   "cell_type": "code",
   "execution_count": 32,
   "id": "7dbe266b-9e43-4868-b874-c96c4c02ee38",
   "metadata": {
    "execution": {
     "iopub.execute_input": "2024-07-22T15:27:00.336005Z",
     "iopub.status.busy": "2024-07-22T15:27:00.335524Z",
     "iopub.status.idle": "2024-07-22T15:27:00.350842Z",
     "shell.execute_reply": "2024-07-22T15:27:00.349621Z",
     "shell.execute_reply.started": "2024-07-22T15:27:00.335987Z"
    }
   },
   "outputs": [],
   "source": [
    "# plt.hist(df.token_count, weights=np.ones(len(df.token_count)) / len(df.token_count))\n",
    "# plt.gca().yaxis.set_major_formatter(PercentFormatter(1))\n",
    "# plt.xlabel(\"Tokens\")\n",
    "# plt.ylabel(\"Percentage\")\n",
    "# plt.show()"
   ]
  },
  {
   "cell_type": "code",
   "execution_count": 33,
   "id": "aa729957-fdce-4ab5-a01d-39e058f76be0",
   "metadata": {
    "execution": {
     "iopub.execute_input": "2024-07-22T15:27:00.351947Z",
     "iopub.status.busy": "2024-07-22T15:27:00.351736Z",
     "iopub.status.idle": "2024-07-22T15:27:00.544736Z",
     "shell.execute_reply": "2024-07-22T15:27:00.543815Z",
     "shell.execute_reply.started": "2024-07-22T15:27:00.351930Z"
    }
   },
   "outputs": [
    {
     "data": {
      "image/png": "[encoded data removed]",
      "text/plain": [
       "<Figure size 640x480 with 1 Axes>"
      ]
     },
     "metadata": {},
     "output_type": "display_data"
    }
   ],
   "source": [
    "sns.histplot(df.token_count, stat='probability', bins=30)\n",
    "\n",
    "# 设置 y 轴格式为百分比\n",
    "plt.gca().yaxis.set_major_formatter(PercentFormatter(1))\n",
    "\n",
    "# 添加标签\n",
    "plt.xlabel(\"Tokens\")\n",
    "plt.ylabel(\"Percentage\")\n",
    "\n",
    "# 显示图表\n",
    "plt.show()"
   ]
  },
  {
   "cell_type": "code",
   "execution_count": 34,
   "id": "d2eff5c0-7013-4bbd-a201-e1e18ce30116",
   "metadata": {
    "execution": {
     "iopub.execute_input": "2024-07-22T15:27:00.545766Z",
     "iopub.status.busy": "2024-07-22T15:27:00.545541Z",
     "iopub.status.idle": "2024-07-22T15:27:00.554915Z",
     "shell.execute_reply": "2024-07-22T15:27:00.554001Z",
     "shell.execute_reply.started": "2024-07-22T15:27:00.545749Z"
    }
   },
   "outputs": [
    {
     "data": {
      "text/plain": [
       "(6997, 7000, 0.9995714285714286)"
      ]
     },
     "execution_count": 34,
     "metadata": {},
     "output_type": "execute_result"
    }
   ],
   "source": [
    "len(df[df.token_count < 512]), len(df), len(df[df.token_count < 512]) / len(df)"
   ]
  },
  {
   "cell_type": "code",
   "execution_count": 35,
   "id": "a71b9721-744b-4bdf-9e7e-343d8a76c08b",
   "metadata": {
    "execution": {
     "iopub.execute_input": "2024-07-22T15:27:00.556460Z",
     "iopub.status.busy": "2024-07-22T15:27:00.555941Z",
     "iopub.status.idle": "2024-07-22T15:27:00.569235Z",
     "shell.execute_reply": "2024-07-22T15:27:00.568281Z",
     "shell.execute_reply.started": "2024-07-22T15:27:00.556438Z"
    }
   },
   "outputs": [],
   "source": [
    "# df = df[df.token_count < 512]\n",
    "# df = df.sample(6000)\n",
    "# df.shape"
   ]
  },
  {
   "cell_type": "code",
   "execution_count": 36,
   "id": "ada232d2-ee1d-4549-b200-bb0f5042fa30",
   "metadata": {
    "execution": {
     "iopub.execute_input": "2024-07-22T15:27:00.570535Z",
     "iopub.status.busy": "2024-07-22T15:27:00.570282Z",
     "iopub.status.idle": "2024-07-22T15:27:00.582301Z",
     "shell.execute_reply": "2024-07-22T15:27:00.581247Z",
     "shell.execute_reply.started": "2024-07-22T15:27:00.570514Z"
    }
   },
   "outputs": [],
   "source": [
    "train, temp = train_test_split(df, test_size=0.2)\n",
    "val, test = train_test_split(temp, test_size=0.2)"
   ]
  },
  {
   "cell_type": "code",
   "execution_count": 37,
   "id": "f7e66712-ea1c-4e8d-b09b-af13bc959514",
   "metadata": {
    "execution": {
     "iopub.execute_input": "2024-07-22T15:27:00.584273Z",
     "iopub.status.busy": "2024-07-22T15:27:00.583492Z",
     "iopub.status.idle": "2024-07-22T15:27:00.590544Z",
     "shell.execute_reply": "2024-07-22T15:27:00.589562Z",
     "shell.execute_reply.started": "2024-07-22T15:27:00.584248Z"
    }
   },
   "outputs": [
    {
     "data": {
      "text/plain": [
       "(5600, 1120, 280)"
      ]
     },
     "execution_count": 37,
     "metadata": {},
     "output_type": "execute_result"
    }
   ],
   "source": [
    "len(train), len(val), len(test)"
   ]
  },
  {
   "cell_type": "code",
   "execution_count": 38,
   "id": "a3f2be7b-fece-4d47-accc-e19f70c05178",
   "metadata": {
    "execution": {
     "iopub.execute_input": "2024-07-22T15:27:00.591953Z",
     "iopub.status.busy": "2024-07-22T15:27:00.591662Z",
     "iopub.status.idle": "2024-07-22T15:27:00.599517Z",
     "shell.execute_reply": "2024-07-22T15:27:00.598534Z",
     "shell.execute_reply.started": "2024-07-22T15:27:00.591930Z"
    }
   },
   "outputs": [
    {
     "data": {
      "text/plain": [
       "(0.8, 0.16, 0.04)"
      ]
     },
     "execution_count": 38,
     "metadata": {},
     "output_type": "execute_result"
    }
   ],
   "source": [
    "len(train) / len(df), len(val) / len(df), len(test) / len(df)"
   ]
  },
  {
   "cell_type": "code",
   "execution_count": 39,
   "id": "025247a8-ad71-4fc3-bc51-c6665eba267b",
   "metadata": {
    "execution": {
     "iopub.execute_input": "2024-07-22T15:27:00.601496Z",
     "iopub.status.busy": "2024-07-22T15:27:00.600711Z",
     "iopub.status.idle": "2024-07-22T15:27:00.675600Z",
     "shell.execute_reply": "2024-07-22T15:27:00.674613Z",
     "shell.execute_reply.started": "2024-07-22T15:27:00.601470Z"
    }
   },
   "outputs": [],
   "source": [
    "train.sample(n=5000).to_json(\"./data/train.json\", orient=\"records\", lines=True)\n",
    "val.sample(n=1000).to_json(\"./data/val.json\", orient=\"records\", lines=True)\n",
    "test.sample(n=250).to_json(\"./data/test.json\", orient=\"records\", lines=True)"
   ]
  },
  {
   "cell_type": "code",
   "execution_count": 40,
   "id": "c855dc93-e0b7-4c5f-9c91-3fde2d159d41",
   "metadata": {
    "execution": {
     "iopub.execute_input": "2024-07-22T15:27:00.676724Z",
     "iopub.status.busy": "2024-07-22T15:27:00.676506Z",
     "iopub.status.idle": "2024-07-22T15:27:01.876853Z",
     "shell.execute_reply": "2024-07-22T15:27:01.875500Z",
     "shell.execute_reply.started": "2024-07-22T15:27:00.676706Z"
    }
   },
   "outputs": [
    {
     "data": {
      "application/vnd.jupyter.widget-view+json": {
       "model_id": "1a0fd551364a46d79949a02f3048cf75",
       "version_major": 2,
       "version_minor": 0
      },
      "text/plain": [
       "Downloading data files:   0%|          | 0/3 [00:00<?, ?it/s]"
      ]
     },
     "metadata": {},
     "output_type": "display_data"
    },
    {
     "data": {
      "application/vnd.jupyter.widget-view+json": {
       "model_id": "90565feff1e7455c94be096b497e1815",
       "version_major": 2,
       "version_minor": 0
      },
      "text/plain": [
       "Extracting data files:   0%|          | 0/3 [00:00<?, ?it/s]"
      ]
     },
     "metadata": {},
     "output_type": "display_data"
    },
    {
     "data": {
      "application/vnd.jupyter.widget-view+json": {
       "model_id": "c2140e401a4943cb916b16790912d548",
       "version_major": 2,
       "version_minor": 0
      },
      "text/plain": [
       "Generating train split: 0 examples [00:00, ? examples/s]"
      ]
     },
     "metadata": {},
     "output_type": "display_data"
    },
    {
     "data": {
      "application/vnd.jupyter.widget-view+json": {
       "model_id": "539d452dfbaa4a4194a9528269c6ddcc",
       "version_major": 2,
       "version_minor": 0
      },
      "text/plain": [
       "Generating validation split: 0 examples [00:00, ? examples/s]"
      ]
     },
     "metadata": {},
     "output_type": "display_data"
    },
    {
     "data": {
      "application/vnd.jupyter.widget-view+json": {
       "model_id": "2ced4456eacd45a1858e8c08c5efbf7d",
       "version_major": 2,
       "version_minor": 0
      },
      "text/plain": [
       "Generating test split: 0 examples [00:00, ? examples/s]"
      ]
     },
     "metadata": {},
     "output_type": "display_data"
    },
    {
     "data": {
      "text/plain": [
       "DatasetDict({\n",
       "    train: Dataset({\n",
       "        features: ['question', 'answer', 'context', 'text', 'token_count'],\n",
       "        num_rows: 5000\n",
       "    })\n",
       "    validation: Dataset({\n",
       "        features: ['question', 'answer', 'context', 'text', 'token_count'],\n",
       "        num_rows: 1000\n",
       "    })\n",
       "    test: Dataset({\n",
       "        features: ['question', 'answer', 'context', 'text', 'token_count'],\n",
       "        num_rows: 250\n",
       "    })\n",
       "})"
      ]
     },
     "execution_count": 40,
     "metadata": {},
     "output_type": "execute_result"
    }
   ],
   "source": [
    "dataset = load_dataset(\n",
    "    \"json\",\n",
    "    data_files={\"train\": \"./data/train.json\", \n",
    "                \"validation\": \"./data/val.json\", \n",
    "                \"test\": \"./data/test.json\"},\n",
    ")\n",
    "dataset"
   ]
  },
  {
   "cell_type": "markdown",
   "id": "893c57ea-10ff-4d5a-8057-19d04c4a6ddd",
   "metadata": {},
   "source": [
    "## sft"
   ]
  },
  {
   "cell_type": "markdown",
   "id": "ae58b4d1-daa9-47cf-8925-a5f03b62833e",
   "metadata": {},
   "source": [
    "### test on llama3-8b"
   ]
  },
  {
   "cell_type": "code",
   "execution_count": 41,
   "id": "2b03a729-a0bd-481e-b61a-9e3179d2f5e9",
   "metadata": {
    "execution": {
     "iopub.execute_input": "2024-07-22T15:27:01.879718Z",
     "iopub.status.busy": "2024-07-22T15:27:01.878789Z",
     "iopub.status.idle": "2024-07-22T15:27:01.886631Z",
     "shell.execute_reply": "2024-07-22T15:27:01.885261Z",
     "shell.execute_reply.started": "2024-07-22T15:27:01.879673Z"
    }
   },
   "outputs": [],
   "source": [
    "pipe = pipeline(\n",
    "    task=\"text-generation\",\n",
    "    model=model,\n",
    "    tokenizer=tokenizer,\n",
    "    max_new_tokens=128,\n",
    "    return_full_text=False,\n",
    ")"
   ]
  },
  {
   "cell_type": "code",
   "execution_count": 42,
   "id": "df72d931-7e78-4b7f-8d26-874d3c3c64fa",
   "metadata": {
    "execution": {
     "iopub.execute_input": "2024-07-22T15:27:01.889420Z",
     "iopub.status.busy": "2024-07-22T15:27:01.888470Z",
     "iopub.status.idle": "2024-07-22T15:27:01.898706Z",
     "shell.execute_reply": "2024-07-22T15:27:01.896941Z",
     "shell.execute_reply.started": "2024-07-22T15:27:01.889376Z"
    }
   },
   "outputs": [],
   "source": [
    "def create_test_prompt(data_row):\n",
    "    prompt = dedent(\n",
    "        f\"\"\"\n",
    "    {data_row[\"question\"]}\n",
    "\n",
    "    Information:\n",
    "\n",
    "    ```\n",
    "    {data_row[\"context\"]}\n",
    "    ```\n",
    "    \"\"\"\n",
    "    )\n",
    "    messages = [\n",
    "        {\n",
    "            \"role\": \"system\",\n",
    "            \"content\": \"Use only the information to answer the question\",\n",
    "        },\n",
    "        {\"role\": \"user\", \"content\": prompt},\n",
    "    ]\n",
    "    return tokenizer.apply_chat_template(\n",
    "        messages, tokenize=False, add_generation_prompt=True\n",
    "    )"
   ]
  },
  {
   "cell_type": "code",
   "execution_count": 43,
   "id": "4cd12b41-dcdc-47bf-97cd-9d5db7add682",
   "metadata": {
    "execution": {
     "iopub.execute_input": "2024-07-22T15:27:01.901720Z",
     "iopub.status.busy": "2024-07-22T15:27:01.900643Z",
     "iopub.status.idle": "2024-07-22T15:27:01.910731Z",
     "shell.execute_reply": "2024-07-22T15:27:01.909350Z",
     "shell.execute_reply.started": "2024-07-22T15:27:01.901655Z"
    }
   },
   "outputs": [
    {
     "name": "stdout",
     "output_type": "stream",
     "text": [
      "<|begin_of_text|><|start_header_id|>system<|end_header_id|>\n",
      "\n",
      "Use only the information to answer the question<|eot_id|><|start_header_id|>user<|end_header_id|>\n",
      "\n",
      "How does Amazon fulfill customer orders?\n",
      "\n",
      "Information:\n",
      "\n",
      "```\n",
      "Amazon fulfills customer orders using its North America and International fulfillment networks, co-sourced and outsourced arrangements in certain countries, digital delivery, and physical stores.\n",
      "```<|eot_id|><|start_header_id|>assistant<|end_header_id|>\n",
      "\n",
      "\n"
     ]
    }
   ],
   "source": [
    "row = dataset[\"test\"][0]\n",
    "prompt = create_test_prompt(row)\n",
    "print(prompt)"
   ]
  },
  {
   "cell_type": "code",
   "execution_count": 44,
   "id": "5143a708-5db4-48f5-b946-8120bb7a965b",
   "metadata": {
    "execution": {
     "iopub.execute_input": "2024-07-22T15:27:01.913450Z",
     "iopub.status.busy": "2024-07-22T15:27:01.912481Z",
     "iopub.status.idle": "2024-07-22T15:27:05.150683Z",
     "shell.execute_reply": "2024-07-22T15:27:05.149755Z",
     "shell.execute_reply.started": "2024-07-22T15:27:01.913406Z"
    }
   },
   "outputs": [
    {
     "name": "stdout",
     "output_type": "stream",
     "text": [
      "\n",
      "answer:     Amazon fulfills customer orders through a combination of North America and International fulfillment networks operated by the company, co-sourced and outsourced arrangements in some countries, digital delivery, and through its physical stores.\n",
      "prediction: According to the information, Amazon fulfills customer orders using:\n",
      "\n",
      "1. North America and International fulfillment networks\n",
      "2. Co-sourced and outsourced arrangements in certain countries\n",
      "3. Digital delivery\n",
      "4. Physical stores\n",
      "\n"
     ]
    }
   ],
   "source": [
    "outputs = pipe(prompt)\n",
    "response = f\"\"\"\n",
    "answer:     {row[\"answer\"]}\n",
    "prediction: {outputs[0][\"generated_text\"]}\n",
    "\"\"\"\n",
    "print(response)"
   ]
  },
  {
   "cell_type": "code",
   "execution_count": 45,
   "id": "6f8cb284-fe81-4a51-b99e-ebb86d7c7c40",
   "metadata": {
    "execution": {
     "iopub.execute_input": "2024-07-22T15:27:05.151692Z",
     "iopub.status.busy": "2024-07-22T15:27:05.151499Z",
     "iopub.status.idle": "2024-07-22T15:27:05.156808Z",
     "shell.execute_reply": "2024-07-22T15:27:05.155998Z",
     "shell.execute_reply.started": "2024-07-22T15:27:05.151677Z"
    }
   },
   "outputs": [
    {
     "name": "stdout",
     "output_type": "stream",
     "text": [
      "<|begin_of_text|><|start_header_id|>system<|end_header_id|>\n",
      "\n",
      "Use only the information to answer the question<|eot_id|><|start_header_id|>user<|end_header_id|>\n",
      "\n",
      "Who holds the patents for the active pharmaceutical ingredients of some of the company's products?\n",
      "\n",
      "Information:\n",
      "\n",
      "```\n",
      "Patents covering certain of the active pharmaceutical ingredients (\"API\") of some of our products are held by third parties. We acquired exclusive rights to these patents in the agreements we have with these parties.\n",
      "```<|eot_id|><|start_header_id|>assistant<|end_header_id|>\n",
      "\n",
      "\n"
     ]
    }
   ],
   "source": [
    "row = dataset[\"test\"][1]\n",
    "prompt = create_test_prompt(row)\n",
    "print(prompt)"
   ]
  },
  {
   "cell_type": "code",
   "execution_count": 46,
   "id": "b95a2962-398c-4534-be2a-94092e49cb68",
   "metadata": {
    "execution": {
     "iopub.execute_input": "2024-07-22T15:27:05.157510Z",
     "iopub.status.busy": "2024-07-22T15:27:05.157340Z",
     "iopub.status.idle": "2024-07-22T15:27:06.461384Z",
     "shell.execute_reply": "2024-07-22T15:27:06.460527Z",
     "shell.execute_reply.started": "2024-07-22T15:27:05.157495Z"
    }
   },
   "outputs": [
    {
     "name": "stdout",
     "output_type": "stream",
     "text": [
      "\n",
      "answer:     The patents for the active pharmaceutical ingredients of some of the company's products are held by third parties, from whom the company has acquired exclusive rights through agreements.\n",
      "prediction: Third parties hold the patents for the active pharmaceutical ingredients of some of the company's products.\n",
      "\n"
     ]
    }
   ],
   "source": [
    "outputs = pipe(prompt)\n",
    "response = f\"\"\"\n",
    "answer:     {row[\"answer\"]}\n",
    "prediction: {outputs[0][\"generated_text\"]}\n",
    "\"\"\"\n",
    "print(response)"
   ]
  },
  {
   "cell_type": "code",
   "execution_count": 47,
   "id": "9f455bef-c521-4dea-bf2b-fae4745772bc",
   "metadata": {
    "execution": {
     "iopub.execute_input": "2024-07-22T15:27:06.462147Z",
     "iopub.status.busy": "2024-07-22T15:27:06.462001Z",
     "iopub.status.idle": "2024-07-22T15:27:06.465889Z",
     "shell.execute_reply": "2024-07-22T15:27:06.465099Z",
     "shell.execute_reply.started": "2024-07-22T15:27:06.462136Z"
    }
   },
   "outputs": [],
   "source": [
    "# rows = []\n",
    "# for row in tqdm(dataset[\"test\"]):\n",
    "#     prompt = create_test_prompt(row)\n",
    "#     outputs = pipe(prompt)\n",
    "#     rows.append(\n",
    "#         {\n",
    "#             \"question\": row[\"question\"],\n",
    "#             \"context\": row[\"context\"],\n",
    "#             \"prompt\": prompt,\n",
    "#             \"answer\": row[\"answer\"],\n",
    "#             \"untrained_prediction\": outputs[0][\"generated_text\"],\n",
    "#         }\n",
    "#     )\n",
    "\n",
    "# predictions_df = pd.DataFrame(rows)"
   ]
  },
  {
   "cell_type": "code",
   "execution_count": 48,
   "id": "8a448e4f-b9ef-4d6a-90b7-d74f9a3f7428",
   "metadata": {
    "execution": {
     "iopub.execute_input": "2024-07-22T15:27:06.466591Z",
     "iopub.status.busy": "2024-07-22T15:27:06.466452Z",
     "iopub.status.idle": "2024-07-22T15:27:06.483710Z",
     "shell.execute_reply": "2024-07-22T15:27:06.482587Z",
     "shell.execute_reply.started": "2024-07-22T15:27:06.466580Z"
    }
   },
   "outputs": [],
   "source": [
    "# np.arange(len(dataset[\"test\"])) // 16"
   ]
  },
  {
   "cell_type": "code",
   "execution_count": 49,
   "id": "8b22c2e8-aaa3-4c00-94c6-98e8711a9a93",
   "metadata": {
    "execution": {
     "iopub.execute_input": "2024-07-22T15:27:06.484394Z",
     "iopub.status.busy": "2024-07-22T15:27:06.484259Z",
     "iopub.status.idle": "2024-07-22T15:27:06.492658Z",
     "shell.execute_reply": "2024-07-22T15:27:06.491870Z",
     "shell.execute_reply.started": "2024-07-22T15:27:06.484383Z"
    }
   },
   "outputs": [],
   "source": [
    "# batch_size = 64  # Adjust the batch size according to your GPU memory\n",
    "# for batch in tqdm(dataset[\"test\"].to_pandas().groupby(np.arange(len(dataset[\"test\"])) // batch_size)):\n",
    "#     batch_df = batch[1]\n",
    "#     prompts = batch_df.apply(create_test_prompt, axis=1).tolist()\n",
    "#     outputs = pipe(prompts)\n",
    "\n",
    "#     for i, output in enumerate(outputs):\n",
    "#         # print(output)\n",
    "#         rows.append(\n",
    "#             {\n",
    "#                 \"question\": batch_df.iloc[i][\"question\"],\n",
    "#                 \"context\": batch_df.iloc[i][\"context\"],\n",
    "#                 \"prompt\": prompts[i],\n",
    "#                 \"answer\": batch_df.iloc[i][\"answer\"],\n",
    "#                 \"untrained_prediction\": output[0][\"generated_text\"],\n",
    "#             }\n",
    "#         )\n",
    "\n",
    "# predictions_df = pd.DataFrame(rows)"
   ]
  },
  {
   "cell_type": "markdown",
   "id": "4aef6216-ee05-469e-94a2-60dacae5e7dc",
   "metadata": {},
   "source": [
    "### Train on Completions"
   ]
  },
  {
   "cell_type": "markdown",
   "id": "8c3cf458-6cea-4c97-8302-c5ffa67c162b",
   "metadata": {},
   "source": [
    "- collate_fn\n",
    "    - DataCollatorForCompletionOnlyLM"
   ]
  },
  {
   "cell_type": "code",
   "execution_count": 50,
   "id": "371f3df3-11a2-4b35-88f3-c441c6df9265",
   "metadata": {
    "execution": {
     "iopub.execute_input": "2024-07-22T15:27:06.493225Z",
     "iopub.status.busy": "2024-07-22T15:27:06.493089Z",
     "iopub.status.idle": "2024-07-22T15:27:06.503148Z",
     "shell.execute_reply": "2024-07-22T15:27:06.502016Z",
     "shell.execute_reply.started": "2024-07-22T15:27:06.493214Z"
    }
   },
   "outputs": [
    {
     "name": "stdout",
     "output_type": "stream",
     "text": [
      "<|begin_of_text|><|start_header_id|>system<|end_header_id|>\n",
      "\n",
      "Use only the information to answer the question<|eot_id|><|start_header_id|>user<|end_header_id|>\n",
      "\n",
      "Who is the Chief Financial Officer and since when?\n",
      "\n",
      "Information:\n",
      "\n",
      "```\n",
      "Richard A. Galanti | Executive Vice President and Chief Financial Officer. Mr. Galanti has been a director since January 1995.\n",
      "```<|eot_id|><|start_header_id|>assistant<|end_header_id|>\n",
      "\n",
      "Richard A. Galanti is the Executive Vice President and Chief Financial Officer, and he has been in this role since 1993.<|eot_id|>\n"
     ]
    }
   ],
   "source": [
    "examples = [dataset[\"train\"][0][\"text\"]]\n",
    "print(examples[0])"
   ]
  },
  {
   "cell_type": "code",
   "execution_count": 51,
   "id": "93337f0a-a567-43c7-bd0e-c571ea316e6f",
   "metadata": {
    "execution": {
     "iopub.execute_input": "2024-07-22T15:27:06.504055Z",
     "iopub.status.busy": "2024-07-22T15:27:06.503885Z",
     "iopub.status.idle": "2024-07-22T15:27:06.511343Z",
     "shell.execute_reply": "2024-07-22T15:27:06.510490Z",
     "shell.execute_reply.started": "2024-07-22T15:27:06.504041Z"
    }
   },
   "outputs": [],
   "source": [
    "response_template = \"<|end_header_id|>\"\n",
    "collator = DataCollatorForCompletionOnlyLM(response_template, tokenizer=tokenizer)\n",
    "# collator"
   ]
  },
  {
   "cell_type": "code",
   "execution_count": 52,
   "id": "bc76b73f-ada4-496c-9c55-3735727cc90f",
   "metadata": {
    "execution": {
     "iopub.execute_input": "2024-07-22T15:27:06.512356Z",
     "iopub.status.busy": "2024-07-22T15:27:06.512166Z",
     "iopub.status.idle": "2024-07-22T15:27:06.521343Z",
     "shell.execute_reply": "2024-07-22T15:27:06.520452Z",
     "shell.execute_reply.started": "2024-07-22T15:27:06.512341Z"
    }
   },
   "outputs": [],
   "source": [
    "encodings = [tokenizer(e) for e in examples]\n",
    "dataloader = DataLoader(encodings, collate_fn=collator, batch_size=1)"
   ]
  },
  {
   "cell_type": "code",
   "execution_count": 53,
   "id": "6789d4c2-9124-4fac-9242-8f05382e0f73",
   "metadata": {
    "execution": {
     "iopub.execute_input": "2024-07-22T15:27:06.522353Z",
     "iopub.status.busy": "2024-07-22T15:27:06.522133Z",
     "iopub.status.idle": "2024-07-22T15:27:06.530886Z",
     "shell.execute_reply": "2024-07-22T15:27:06.530009Z",
     "shell.execute_reply.started": "2024-07-22T15:27:06.522335Z"
    }
   },
   "outputs": [
    {
     "data": {
      "text/plain": [
       "dict_keys(['input_ids', 'attention_mask', 'labels'])"
      ]
     },
     "execution_count": 53,
     "metadata": {},
     "output_type": "execute_result"
    }
   ],
   "source": [
    "batch = next(iter(dataloader))\n",
    "batch.keys()"
   ]
  },
  {
   "cell_type": "code",
   "execution_count": 54,
   "id": "a79ec3ab-8b2c-4614-844c-addb6abd90b2",
   "metadata": {
    "execution": {
     "iopub.execute_input": "2024-07-22T15:27:06.532418Z",
     "iopub.status.busy": "2024-07-22T15:27:06.531862Z",
     "iopub.status.idle": "2024-07-22T15:27:06.538744Z",
     "shell.execute_reply": "2024-07-22T15:27:06.537805Z",
     "shell.execute_reply.started": "2024-07-22T15:27:06.532398Z"
    }
   },
   "outputs": [
    {
     "data": {
      "text/plain": [
       "tensor([[128000, 128006,   9125, 128007,    271,  10464,   1193,    279,   2038,\n",
       "            311,   4320,    279,   3488, 128009, 128006,    882, 128007,    271,\n",
       "          15546,    374,    279,  14681,  17961,  20148,    323,   2533,    994,\n",
       "           1980,  15218,   1473,  14196,   4077,  42315,    362,     13,  10845,\n",
       "          15719,    765,  18362,  23270,   4900,    323,  14681,  17961,  20148,\n",
       "             13,   4491,     13,  10845,  15719,    706,   1027,    264,   7690,\n",
       "           2533,   6186,    220,   2550,     20,    627,  74694, 128009, 128006,\n",
       "          78191, 128007,    271,  42315,    362,     13,  10845,  15719,    374,\n",
       "            279,  18362,  23270,   4900,    323,  14681,  17961,  20148,     11,\n",
       "            323,    568,    706,   1027,    304,    420,   3560,   2533,    220,\n",
       "           2550,     18,     13, 128009]])"
      ]
     },
     "execution_count": 54,
     "metadata": {},
     "output_type": "execute_result"
    }
   ],
   "source": [
    "batch[\"input_ids\"]"
   ]
  },
  {
   "cell_type": "code",
   "execution_count": 55,
   "id": "d1f876bc-6a6c-41cb-ac40-720c3b51bc59",
   "metadata": {
    "execution": {
     "iopub.execute_input": "2024-07-22T15:27:06.539982Z",
     "iopub.status.busy": "2024-07-22T15:27:06.539734Z",
     "iopub.status.idle": "2024-07-22T15:27:06.547081Z",
     "shell.execute_reply": "2024-07-22T15:27:06.546152Z",
     "shell.execute_reply.started": "2024-07-22T15:27:06.539963Z"
    }
   },
   "outputs": [
    {
     "data": {
      "text/plain": [
       "tensor([[  -100,   -100,   -100,   -100,   -100,   -100,   -100,   -100,   -100,\n",
       "           -100,   -100,   -100,   -100,   -100,   -100,   -100,   -100,   -100,\n",
       "           -100,   -100,   -100,   -100,   -100,   -100,   -100,   -100,   -100,\n",
       "           -100,   -100,   -100,   -100,   -100,   -100,   -100,   -100,   -100,\n",
       "           -100,   -100,   -100,   -100,   -100,   -100,   -100,   -100,   -100,\n",
       "           -100,   -100,   -100,   -100,   -100,   -100,   -100,   -100,   -100,\n",
       "           -100,   -100,   -100,   -100,   -100,   -100,   -100,   -100,   -100,\n",
       "           -100,   -100,    271,  42315,    362,     13,  10845,  15719,    374,\n",
       "            279,  18362,  23270,   4900,    323,  14681,  17961,  20148,     11,\n",
       "            323,    568,    706,   1027,    304,    420,   3560,   2533,    220,\n",
       "           2550,     18,     13, 128009]])"
      ]
     },
     "execution_count": 55,
     "metadata": {},
     "output_type": "execute_result"
    }
   ],
   "source": [
    "batch[\"labels\"]"
   ]
  },
  {
   "cell_type": "code",
   "execution_count": 56,
   "id": "f0c72e76-3a42-4295-a471-7357af8c3edc",
   "metadata": {
    "execution": {
     "iopub.execute_input": "2024-07-22T15:27:06.548640Z",
     "iopub.status.busy": "2024-07-22T15:27:06.548133Z",
     "iopub.status.idle": "2024-07-22T15:27:06.555031Z",
     "shell.execute_reply": "2024-07-22T15:27:06.554079Z",
     "shell.execute_reply.started": "2024-07-22T15:27:06.548620Z"
    }
   },
   "outputs": [
    {
     "data": {
      "text/plain": [
       "'\\n\\n126 countries and territories<|eot_id|>'"
      ]
     },
     "execution_count": 56,
     "metadata": {},
     "output_type": "execute_result"
    }
   ],
   "source": [
    "tokenizer.decode([271,   9390,   5961,    323,  39543, 128009])"
   ]
  },
  {
   "cell_type": "markdown",
   "id": "b963fa2a-db32-445b-a230-d99fc3585ea9",
   "metadata": {},
   "source": [
    "### lora setup"
   ]
  },
  {
   "cell_type": "code",
   "execution_count": 57,
   "id": "6aa06fb1-eabb-48f5-b8b7-e365ec25f510",
   "metadata": {
    "execution": {
     "iopub.execute_input": "2024-07-22T15:27:06.556361Z",
     "iopub.status.busy": "2024-07-22T15:27:06.556095Z",
     "iopub.status.idle": "2024-07-22T15:27:06.566905Z",
     "shell.execute_reply": "2024-07-22T15:27:06.565952Z",
     "shell.execute_reply.started": "2024-07-22T15:27:06.556340Z"
    }
   },
   "outputs": [
    {
     "data": {
      "text/plain": [
       "LlamaForCausalLM(\n",
       "  (model): LlamaModel(\n",
       "    (embed_tokens): Embedding(128264, 4096)\n",
       "    (layers): ModuleList(\n",
       "      (0-31): 32 x LlamaDecoderLayer(\n",
       "        (self_attn): LlamaSdpaAttention(\n",
       "          (q_proj): Linear4bit(in_features=4096, out_features=4096, bias=False)\n",
       "          (k_proj): Linear4bit(in_features=4096, out_features=1024, bias=False)\n",
       "          (v_proj): Linear4bit(in_features=4096, out_features=1024, bias=False)\n",
       "          (o_proj): Linear4bit(in_features=4096, out_features=4096, bias=False)\n",
       "          (rotary_emb): LlamaRotaryEmbedding()\n",
       "        )\n",
       "        (mlp): LlamaMLP(\n",
       "          (gate_proj): Linear4bit(in_features=4096, out_features=14336, bias=False)\n",
       "          (up_proj): Linear4bit(in_features=4096, out_features=14336, bias=False)\n",
       "          (down_proj): Linear4bit(in_features=14336, out_features=4096, bias=False)\n",
       "          (act_fn): SiLU()\n",
       "        )\n",
       "        (input_layernorm): LlamaRMSNorm()\n",
       "        (post_attention_layernorm): LlamaRMSNorm()\n",
       "      )\n",
       "    )\n",
       "    (norm): LlamaRMSNorm()\n",
       "  )\n",
       "  (lm_head): Linear(in_features=4096, out_features=128264, bias=False)\n",
       ")"
      ]
     },
     "execution_count": 57,
     "metadata": {},
     "output_type": "execute_result"
    }
   ],
   "source": [
    "model"
   ]
  },
  {
   "cell_type": "code",
   "execution_count": 58,
   "id": "486f1889-d34d-41b3-ade6-11eac09c6c78",
   "metadata": {
    "execution": {
     "iopub.execute_input": "2024-07-22T15:27:06.568540Z",
     "iopub.status.busy": "2024-07-22T15:27:06.567992Z",
     "iopub.status.idle": "2024-07-22T15:27:07.445430Z",
     "shell.execute_reply": "2024-07-22T15:27:07.444923Z",
     "shell.execute_reply.started": "2024-07-22T15:27:06.568517Z"
    }
   },
   "outputs": [],
   "source": [
    "lora_config = LoraConfig(\n",
    "    r=32,\n",
    "    lora_alpha=16,\n",
    "    target_modules=[\n",
    "        \"self_attn.q_proj\",\n",
    "        \"self_attn.k_proj\",\n",
    "        \"self_attn.v_proj\",\n",
    "        \"self_attn.o_proj\",\n",
    "        \"mlp.gate_proj\",\n",
    "        \"mlp.up_proj\",\n",
    "        \"mlp.down_proj\",\n",
    "    ],\n",
    "    lora_dropout=0.05,\n",
    "    bias=\"none\",\n",
    "    task_type=TaskType.CAUSAL_LM,\n",
    ")\n",
    "model = prepare_model_for_kbit_training(model)\n",
    "model = get_peft_model(model, lora_config)"
   ]
  },
  {
   "cell_type": "code",
   "execution_count": 59,
   "id": "ca025777-4626-4459-921c-a95dfe011d6c",
   "metadata": {
    "execution": {
     "iopub.execute_input": "2024-07-22T15:27:07.446693Z",
     "iopub.status.busy": "2024-07-22T15:27:07.446216Z",
     "iopub.status.idle": "2024-07-22T15:27:07.455640Z",
     "shell.execute_reply": "2024-07-22T15:27:07.455148Z",
     "shell.execute_reply.started": "2024-07-22T15:27:07.446676Z"
    }
   },
   "outputs": [
    {
     "name": "stdout",
     "output_type": "stream",
     "text": [
      "trainable params: 83,886,080 || all params: 8,114,212,864 || trainable%: 1.0338166055782685\n"
     ]
    }
   ],
   "source": [
    "model.print_trainable_parameters()"
   ]
  },
  {
   "cell_type": "markdown",
   "id": "b4a3875d-8d85-4251-82bb-36fa55a20f3f",
   "metadata": {},
   "source": [
    "### sft train"
   ]
  },
  {
   "cell_type": "code",
   "execution_count": 60,
   "id": "0a99ce81-ed11-4f7a-9dc3-70b4dbded16c",
   "metadata": {
    "execution": {
     "iopub.execute_input": "2024-07-22T15:27:07.456440Z",
     "iopub.status.busy": "2024-07-22T15:27:07.456270Z",
     "iopub.status.idle": "2024-07-22T15:27:08.488154Z",
     "shell.execute_reply": "2024-07-22T15:27:08.487379Z",
     "shell.execute_reply.started": "2024-07-22T15:27:07.456425Z"
    }
   },
   "outputs": [
    {
     "data": {
      "text/html": [
       "\n",
       "      <iframe id=\"tensorboard-frame-1c80317fa3b1799d\" width=\"100%\" height=\"800\" frameborder=\"0\">\n",
       "      </iframe>\n",
       "      <script>\n",
       "        (function() {\n",
       "          const frame = document.getElementById(\"tensorboard-frame-1c80317fa3b1799d\");\n",
       "          const url = new URL(\"/\", window.location);\n",
       "          const port = 6006;\n",
       "          if (port) {\n",
       "            url.port = port;\n",
       "          }\n",
       "          frame.src = url;\n",
       "        })();\n",
       "      </script>\n",
       "    "
      ],
      "text/plain": [
       "<IPython.core.display.HTML object>"
      ]
     },
     "metadata": {},
     "output_type": "display_data"
    }
   ],
   "source": [
    "output_dir = \"experiments\"\n",
    "\n",
    "# ssh -L 6006:localhost:6006 user@remote_server\n",
    "# localhost:6006\n",
    "%load_ext tensorboard\n",
    "%tensorboard --logdir \"experiments/runs\""
   ]
  },
  {
   "cell_type": "code",
   "execution_count": 61,
   "id": "597f6dd4-3515-4651-884a-7a7bb5933f29",
   "metadata": {
    "execution": {
     "iopub.execute_input": "2024-07-22T15:27:08.488954Z",
     "iopub.status.busy": "2024-07-22T15:27:08.488793Z",
     "iopub.status.idle": "2024-07-22T15:27:08.492884Z",
     "shell.execute_reply": "2024-07-22T15:27:08.492126Z",
     "shell.execute_reply.started": "2024-07-22T15:27:08.488941Z"
    }
   },
   "outputs": [],
   "source": [
    "os.environ[\"NCCL_P2P_DISABLE\"] = \"1\"\n",
    "os.environ[\"NCCL_IB_DISABLE\"] = \"1\""
   ]
  },
  {
   "cell_type": "code",
   "execution_count": 62,
   "id": "7b25050a-42fa-4b91-baf5-539aa3c6bf7a",
   "metadata": {
    "execution": {
     "iopub.execute_input": "2024-07-22T15:27:08.493689Z",
     "iopub.status.busy": "2024-07-22T15:27:08.493535Z",
     "iopub.status.idle": "2024-07-22T15:27:08.611770Z",
     "shell.execute_reply": "2024-07-22T15:27:08.610567Z",
     "shell.execute_reply.started": "2024-07-22T15:27:08.493676Z"
    }
   },
   "outputs": [
    {
     "data": {
      "text/plain": [
       "Dataset({\n",
       "    features: ['question', 'answer', 'context', 'text', 'token_count'],\n",
       "    num_rows: 5000\n",
       "})"
      ]
     },
     "execution_count": 62,
     "metadata": {},
     "output_type": "execute_result"
    }
   ],
   "source": [
    "dataset[\"train\"]"
   ]
  },
  {
   "cell_type": "code",
   "execution_count": 63,
   "id": "a4aae8be-d911-4558-8987-4fb6a162731f",
   "metadata": {
    "execution": {
     "iopub.execute_input": "2024-07-22T15:27:08.614563Z",
     "iopub.status.busy": "2024-07-22T15:27:08.613429Z",
     "iopub.status.idle": "2024-07-22T15:27:08.696796Z",
     "shell.execute_reply": "2024-07-22T15:27:08.695598Z",
     "shell.execute_reply.started": "2024-07-22T15:27:08.614520Z"
    }
   },
   "outputs": [
    {
     "data": {
      "text/plain": [
       "156.25"
      ]
     },
     "execution_count": 63,
     "metadata": {},
     "output_type": "execute_result"
    }
   ],
   "source": [
    "# global_step=156\n",
    "5000/32"
   ]
  },
  {
   "cell_type": "code",
   "execution_count": 64,
   "id": "88ace1fb-5ce4-48bf-a866-1a1b5d71be04",
   "metadata": {
    "execution": {
     "iopub.execute_input": "2024-07-22T15:27:08.699499Z",
     "iopub.status.busy": "2024-07-22T15:27:08.698589Z",
     "iopub.status.idle": "2024-07-22T15:27:08.785582Z",
     "shell.execute_reply": "2024-07-22T15:27:08.784381Z",
     "shell.execute_reply.started": "2024-07-22T15:27:08.699457Z"
    }
   },
   "outputs": [
    {
     "data": {
      "text/plain": [
       "(31.25,)"
      ]
     },
     "execution_count": 64,
     "metadata": {},
     "output_type": "execute_result"
    }
   ],
   "source": [
    "# eval_steps=0.2,\n",
    "len(dataset['train']) / (8*4) * .2, len(dataset['validation']) / 8,\n",
    "# save_steps=0.2, save_total_limit=2,\n",
    "# checkpoint-32-64-96-128-256"
   ]
  },
  {
   "cell_type": "code",
   "execution_count": 66,
   "id": "0fbabb35-c10f-4c24-af80-e5b8222e0f4e",
   "metadata": {
    "execution": {
     "iopub.execute_input": "2024-07-22T15:27:33.621764Z",
     "iopub.status.busy": "2024-07-22T15:27:33.621084Z",
     "iopub.status.idle": "2024-07-22T15:27:35.942786Z",
     "shell.execute_reply": "2024-07-22T15:27:35.941459Z",
     "shell.execute_reply.started": "2024-07-22T15:27:33.621714Z"
    }
   },
   "outputs": [
    {
     "data": {
      "application/vnd.jupyter.widget-view+json": {
       "model_id": "d1c0e153050f4bff8f5ce96725c33bc1",
       "version_major": 2,
       "version_minor": 0
      },
      "text/plain": [
       "Map:   0%|          | 0/5000 [00:00<?, ? examples/s]"
      ]
     },
     "metadata": {},
     "output_type": "display_data"
    },
    {
     "data": {
      "application/vnd.jupyter.widget-view+json": {
       "model_id": "34d4fef99e57441a959cc0708f0b56e0",
       "version_major": 2,
       "version_minor": 0
      },
      "text/plain": [
       "Map:   0%|          | 0/1000 [00:00<?, ? examples/s]"
      ]
     },
     "metadata": {},
     "output_type": "display_data"
    }
   ],
   "source": [
    "sft_config = SFTConfig(\n",
    "    output_dir=output_dir,\n",
    "    dataset_text_field=\"text\",\n",
    "    max_seq_length=512,\n",
    "    num_train_epochs=1,\n",
    "    per_device_train_batch_size=8,\n",
    "    per_device_eval_batch_size=8,\n",
    "    gradient_accumulation_steps=4,\n",
    "    gradient_checkpointing=True,\n",
    "    gradient_checkpointing_kwargs={\"use_reentrant\": False},\n",
    "    optim=\"paged_adamw_8bit\",\n",
    "    eval_strategy=\"steps\",\n",
    "    eval_steps=0.2,\n",
    "    save_steps=0.2,\n",
    "    logging_steps=10,\n",
    "    learning_rate=1e-4,\n",
    "    fp16=True,  # or bf16=True,\n",
    "    save_strategy=\"steps\",\n",
    "    warmup_ratio=0.1,\n",
    "    save_total_limit=2,\n",
    "    lr_scheduler_type=\"constant\",\n",
    "    report_to=\"tensorboard\",\n",
    "    save_safetensors=True,\n",
    "    dataset_kwargs={\n",
    "        \"add_special_tokens\": False,  # We template with special tokens\n",
    "        \"append_concat_token\": False,  # No need to add additional separator token\n",
    "    },\n",
    "    seed=SEED,\n",
    ")\n",
    "\n",
    "trainer = SFTTrainer(\n",
    "    model=model,\n",
    "    args=sft_config,\n",
    "    train_dataset=dataset[\"train\"],\n",
    "    eval_dataset=dataset[\"validation\"],\n",
    "    tokenizer=tokenizer,\n",
    "    data_collator=collator,\n",
    ")"
   ]
  },
  {
   "cell_type": "code",
   "execution_count": 67,
   "id": "42844415-b683-42e6-9c42-20032d500067",
   "metadata": {
    "execution": {
     "iopub.execute_input": "2024-07-22T15:27:37.315221Z",
     "iopub.status.busy": "2024-07-22T15:27:37.314704Z",
     "iopub.status.idle": "2024-07-22T15:43:09.979873Z",
     "shell.execute_reply": "2024-07-22T15:43:09.979063Z",
     "shell.execute_reply.started": "2024-07-22T15:27:37.315197Z"
    }
   },
   "outputs": [
    {
     "name": "stderr",
     "output_type": "stream",
     "text": [
      "`use_cache=True` is incompatible with gradient checkpointing. Setting `use_cache=False`.\n",
      "/home/whaow/anaconda3/lib/python3.10/site-packages/torch/utils/checkpoint.py:464: UserWarning: torch.utils.checkpoint: the use_reentrant parameter should be passed explicitly. In version 2.4 we will raise an exception if use_reentrant is not passed. use_reentrant=False is recommended, but if you need to preserve the current default behavior, you can pass use_reentrant=True. Refer to docs for more details on the differences between the two variants.\n",
      "  warnings.warn(\n"
     ]
    },
    {
     "data": {
      "text/html": [
       "\n",
       "    <div>\n",
       "      \n",
       "      <progress value='156' max='156' style='width:300px; height:20px; vertical-align: middle;'></progress>\n",
       "      [156/156 15:26, Epoch 0/1]\n",
       "    </div>\n",
       "    <table border=\"1\" class=\"dataframe\">\n",
       "  <thead>\n",
       " <tr style=\"text-align: left;\">\n",
       "      <th>Step</th>\n",
       "      <th>Training Loss</th>\n",
       "      <th>Validation Loss</th>\n",
       "    </tr>\n",
       "  </thead>\n",
       "  <tbody>\n",
       "    <tr>\n",
       "      <td>32</td>\n",
       "      <td>0.512600</td>\n",
       "      <td>0.512450</td>\n",
       "    </tr>\n",
       "    <tr>\n",
       "      <td>64</td>\n",
       "      <td>0.444700</td>\n",
       "      <td>0.498785</td>\n",
       "    </tr>\n",
       "    <tr>\n",
       "      <td>96</td>\n",
       "      <td>0.430900</td>\n",
       "      <td>0.492569</td>\n",
       "    </tr>\n",
       "    <tr>\n",
       "      <td>128</td>\n",
       "      <td>0.472300</td>\n",
       "      <td>0.485446</td>\n",
       "    </tr>\n",
       "  </tbody>\n",
       "</table><p>"
      ],
      "text/plain": [
       "<IPython.core.display.HTML object>"
      ]
     },
     "metadata": {},
     "output_type": "display_data"
    },
    {
     "name": "stderr",
     "output_type": "stream",
     "text": [
      "We detected that you are passing `past_key_values` as a tuple and this is deprecated and will be removed in v4.43. Please use an appropriate `Cache` class (https://huggingface.co/docs/transformers/v4.41.3/en/internal/generation_utils#transformers.Cache)\n",
      "/home/whaow/anaconda3/lib/python3.10/site-packages/peft/utils/other.py:581: UserWarning: Unable to fetch remote file due to the following error 401 Client Error. (Request ID: Root=1-669e7b35-27a2c8f44da566482a12bf90;e2617a9b-85a5-40ae-a456-cf9a99a3be54)\n",
      "\n",
      "Cannot access gated repo for url https://huggingface.co/meta-llama/Meta-Llama-3-8B-Instruct/resolve/main/config.json.\n",
      "Access to model meta-llama/Meta-Llama-3-8B-Instruct is restricted. You must be authenticated to access it. - silently ignoring the lookup for the file config.json in meta-llama/Meta-Llama-3-8B-Instruct.\n",
      "  warnings.warn(\n",
      "/home/whaow/anaconda3/lib/python3.10/site-packages/peft/utils/save_and_load.py:154: UserWarning: Could not find a config file in meta-llama/Meta-Llama-3-8B-Instruct - will assume that the vocabulary was not modified.\n",
      "  warnings.warn(\n",
      "/home/whaow/anaconda3/lib/python3.10/site-packages/torch/utils/checkpoint.py:464: UserWarning: torch.utils.checkpoint: the use_reentrant parameter should be passed explicitly. In version 2.4 we will raise an exception if use_reentrant is not passed. use_reentrant=False is recommended, but if you need to preserve the current default behavior, you can pass use_reentrant=True. Refer to docs for more details on the differences between the two variants.\n",
      "  warnings.warn(\n",
      "/home/whaow/anaconda3/lib/python3.10/site-packages/peft/utils/other.py:581: UserWarning: Unable to fetch remote file due to the following error 401 Client Error. (Request ID: Root=1-669e7bfc-1123cdf448cdbb9335f08262;dd5d4927-1d88-4f6c-81d4-32e0dfd0791b)\n",
      "\n",
      "Cannot access gated repo for url https://huggingface.co/meta-llama/Meta-Llama-3-8B-Instruct/resolve/main/config.json.\n",
      "Access to model meta-llama/Meta-Llama-3-8B-Instruct is restricted. You must be authenticated to access it. - silently ignoring the lookup for the file config.json in meta-llama/Meta-Llama-3-8B-Instruct.\n",
      "  warnings.warn(\n",
      "/home/whaow/anaconda3/lib/python3.10/site-packages/peft/utils/save_and_load.py:154: UserWarning: Could not find a config file in meta-llama/Meta-Llama-3-8B-Instruct - will assume that the vocabulary was not modified.\n",
      "  warnings.warn(\n",
      "/home/whaow/anaconda3/lib/python3.10/site-packages/torch/utils/checkpoint.py:464: UserWarning: torch.utils.checkpoint: the use_reentrant parameter should be passed explicitly. In version 2.4 we will raise an exception if use_reentrant is not passed. use_reentrant=False is recommended, but if you need to preserve the current default behavior, you can pass use_reentrant=True. Refer to docs for more details on the differences between the two variants.\n",
      "  warnings.warn(\n",
      "/home/whaow/anaconda3/lib/python3.10/site-packages/peft/utils/other.py:581: UserWarning: Unable to fetch remote file due to the following error 401 Client Error. (Request ID: Root=1-669e7cc4-3b3afc8d47b75ba80ecccd43;e6cbc831-445e-472e-8392-e0b92deb11d9)\n",
      "\n",
      "Cannot access gated repo for url https://huggingface.co/meta-llama/Meta-Llama-3-8B-Instruct/resolve/main/config.json.\n",
      "Access to model meta-llama/Meta-Llama-3-8B-Instruct is restricted. You must be authenticated to access it. - silently ignoring the lookup for the file config.json in meta-llama/Meta-Llama-3-8B-Instruct.\n",
      "  warnings.warn(\n",
      "/home/whaow/anaconda3/lib/python3.10/site-packages/peft/utils/save_and_load.py:154: UserWarning: Could not find a config file in meta-llama/Meta-Llama-3-8B-Instruct - will assume that the vocabulary was not modified.\n",
      "  warnings.warn(\n",
      "/home/whaow/anaconda3/lib/python3.10/site-packages/torch/utils/checkpoint.py:464: UserWarning: torch.utils.checkpoint: the use_reentrant parameter should be passed explicitly. In version 2.4 we will raise an exception if use_reentrant is not passed. use_reentrant=False is recommended, but if you need to preserve the current default behavior, you can pass use_reentrant=True. Refer to docs for more details on the differences between the two variants.\n",
      "  warnings.warn(\n",
      "/home/whaow/anaconda3/lib/python3.10/site-packages/peft/utils/other.py:581: UserWarning: Unable to fetch remote file due to the following error 401 Client Error. (Request ID: Root=1-669e7d90-20c4843120e273a7207e0a0b;1e66b5a4-bcd3-43f0-9a15-969717c62044)\n",
      "\n",
      "Cannot access gated repo for url https://huggingface.co/meta-llama/Meta-Llama-3-8B-Instruct/resolve/main/config.json.\n",
      "Access to model meta-llama/Meta-Llama-3-8B-Instruct is restricted. You must be authenticated to access it. - silently ignoring the lookup for the file config.json in meta-llama/Meta-Llama-3-8B-Instruct.\n",
      "  warnings.warn(\n",
      "/home/whaow/anaconda3/lib/python3.10/site-packages/peft/utils/save_and_load.py:154: UserWarning: Could not find a config file in meta-llama/Meta-Llama-3-8B-Instruct - will assume that the vocabulary was not modified.\n",
      "  warnings.warn(\n",
      "/home/whaow/anaconda3/lib/python3.10/site-packages/torch/utils/checkpoint.py:464: UserWarning: torch.utils.checkpoint: the use_reentrant parameter should be passed explicitly. In version 2.4 we will raise an exception if use_reentrant is not passed. use_reentrant=False is recommended, but if you need to preserve the current default behavior, you can pass use_reentrant=True. Refer to docs for more details on the differences between the two variants.\n",
      "  warnings.warn(\n",
      "/home/whaow/anaconda3/lib/python3.10/site-packages/peft/utils/other.py:581: UserWarning: Unable to fetch remote file due to the following error 401 Client Error. (Request ID: Root=1-669e7e0d-74412a60115bb41049c7cbbb;d8226048-0eab-4bb3-9fe6-cde1aea12a8c)\n",
      "\n",
      "Cannot access gated repo for url https://huggingface.co/meta-llama/Meta-Llama-3-8B-Instruct/resolve/main/config.json.\n",
      "Access to model meta-llama/Meta-Llama-3-8B-Instruct is restricted. You must be authenticated to access it. - silently ignoring the lookup for the file config.json in meta-llama/Meta-Llama-3-8B-Instruct.\n",
      "  warnings.warn(\n",
      "/home/whaow/anaconda3/lib/python3.10/site-packages/peft/utils/save_and_load.py:154: UserWarning: Could not find a config file in meta-llama/Meta-Llama-3-8B-Instruct - will assume that the vocabulary was not modified.\n",
      "  warnings.warn(\n"
     ]
    },
    {
     "data": {
      "text/plain": [
       "TrainOutput(global_step=156, training_loss=0.48717997929988766, metrics={'train_runtime': 932.358, 'train_samples_per_second': 5.363, 'train_steps_per_second': 0.167, 'total_flos': 4.268560560979968e+16, 'train_loss': 0.48717997929988766, 'epoch': 0.9984})"
      ]
     },
     "execution_count": 67,
     "metadata": {},
     "output_type": "execute_result"
    }
   ],
   "source": [
    "trainer.train()"
   ]
  },
  {
   "cell_type": "code",
   "execution_count": null,
   "id": "9cbbdd5f-8755-4eb1-a022-8efa0be77c0c",
   "metadata": {
    "execution": {
     "iopub.status.busy": "2024-07-22T15:27:08.874458Z",
     "iopub.status.idle": "2024-07-22T15:27:08.875481Z",
     "shell.execute_reply": "2024-07-22T15:27:08.875187Z",
     "shell.execute_reply.started": "2024-07-22T15:27:08.875159Z"
    }
   },
   "outputs": [],
   "source": [
    "trainer.save_model(new_model)"
   ]
  },
  {
   "cell_type": "code",
   "execution_count": null,
   "id": "f2e1c53f-4ec3-4cb9-aa31-c8c2f28b3396",
   "metadata": {},
   "outputs": [],
   "source": []
  }
 ],
 "metadata": {
  "kernelspec": {
   "display_name": "Python 3 (ipykernel)",
   "language": "python",
   "name": "python3"
  },
  "language_info": {
   "codemirror_mode": {
    "name": "ipython",
    "version": 3
   },
   "file_extension": ".py",
   "mimetype": "text/x-python",
   "name": "python",
   "nbconvert_exporter": "python",
   "pygments_lexer": "ipython3",
   "version": "3.10.13"
  }
 },
 "nbformat": 4,
 "nbformat_minor": 5
}
