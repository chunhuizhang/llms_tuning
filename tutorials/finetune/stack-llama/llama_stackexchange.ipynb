{
 "cells": [
  {
   "cell_type": "markdown",
   "id": "e0d50f00-e299-4651-af11-2d6b3869bc4e",
   "metadata": {},
   "source": [
    "- https://huggingface.co/blog/stackllama\n",
    "- https://github.com/huggingface/trl/tree/main/examples/research_projects/stack_llama_2/scripts"
   ]
  },
  {
   "cell_type": "markdown",
   "id": "a0e6cd32-0afa-4611-a8fa-28289d2d7a57",
   "metadata": {},
   "source": [
    "\n",
    "```\n",
    "git clone git@github.com:huggingface/trl.git\n",
    "cd trl\n",
    "```\n",
    "\n",
    "- run the scripts\n",
    "    - `huggingface-cli login`\n",
    "- TRL\n",
    "    - 三个 research projects（https://github.com/huggingface/trl/tree/main/examples/research_projects）\n",
    "        - stack_llama_2/scripts\n",
    "        - tools\n",
    "        - toxicity"
   ]
  },
  {
   "cell_type": "markdown",
   "id": "5f440f58-87a4-45d8-b2d9-2ebe952523c9",
   "metadata": {},
   "source": [
    "## model & dataset"
   ]
  },
  {
   "cell_type": "markdown",
   "id": "177b7217-de1f-4272-91e5-d1825b25fa62",
   "metadata": {},
   "source": [
    "- stack exchange\n",
    "    - 数据收集及标注\n",
    "        - `score = log2 (1 + upvotes)` rounded to the nearest integer, plus 1 if the questioner accepted the answer (we assign a score of −1 if the number of upvotes is negative)."
   ]
  },
  {
   "cell_type": "markdown",
   "id": "173ecde7-522b-4403-9ddf-09388baefd84",
   "metadata": {},
   "source": [
    "### accelerate"
   ]
  },
  {
   "cell_type": "markdown",
   "id": "67f34f3a-4f94-49d1-aa33-3b4b7f5ff78d",
   "metadata": {},
   "source": [
    "- accelerate config yaml\n",
    "    - https://github.com/huggingface/trl/tree/main/examples/accelerate_configs\n",
    "\n",
    "```\n",
    "from accelerate import Accelerator\n",
    "...\n",
    "\n",
    "base_model = AutoModelForCausalLM.from_pretrained(\n",
    "    ...\n",
    "    device_map={\"\": Accelerator().local_process_index},\n",
    "    ...\n",
    ")\n",
    "```"
   ]
  },
  {
   "cell_type": "markdown",
   "id": "f9243a82-0fa5-43d4-9555-0e9a6a8893ca",
   "metadata": {},
   "source": [
    "### zero3"
   ]
  },
  {
   "cell_type": "markdown",
   "id": "e068ed11-ff4e-4500-9458-a146906f6fbb",
   "metadata": {},
   "source": [
    "\n",
    "```\n",
    "accelerate launch --config-file examples/accelerate_configs/deepspeed_zero3.yaml examples/research_projects/stack_llama_2/scripts/sft_llama2.py \\\n",
    "    --output_dir=\"./sft\" \\\n",
    "    --max_steps=500 \\\n",
    "    --logging_steps=10 \\\n",
    "    --save_steps=0.2 \\\n",
    "    --save_total_limit=2 \\\n",
    "    --per_device_train_batch_size=2 \\\n",
    "    --per_device_eval_batch_size=1 \\\n",
    "    --gradient_accumulation_steps=4 \\\n",
    "    --gradient_checkpointing=False \\\n",
    "    --group_by_length=False \\\n",
    "    --learning_rate=1e-4 \\\n",
    "    --lr_scheduler_type=\"cosine\" \\\n",
    "    --warmup_steps=100 \\\n",
    "    --weight_decay=0.05 \\\n",
    "    --optim=\"paged_adamw_32bit\" \\\n",
    "    --bf16=True \\\n",
    "    --remove_unused_columns=False \\\n",
    "    --run_name=\"sft_llama2\" \\\n",
    "    --report_to=\"wandb\"\n",
    "```"
   ]
  },
  {
   "cell_type": "markdown",
   "id": "b3a736d9-3c1c-432b-85c3-07fea159fd6f",
   "metadata": {},
   "source": [
    "https://wandb.ai/loveresearch/huggingface/runs/jsn4syqr\n",
    "\n",
    "- trl 中的 SFTTrainer 继承自 huggingface transformers 的 Trainer\n",
    "- max_steps=500\n",
    "    - 设置较小的 max_steps 可以用来做简单的 bug 测试；\n",
    "    - steps 称之为 optimization steps，优化步；执行多少次优化；即反向传播，梯度计算与权重参数更新；\n",
    "- learning_rate=1e-4 && lr_scheduler_type=\"cosine\" && warmup_steps=100\n",
    "    - warmup_steps 达到 100 steps 时达到 learning_rate=1e-4\n",
    "    - warmup_steps 之前初始是 1e-5, 通过 100 步，线性到达 1e-4\n",
    "    - 指定的 learning_rate 其实是 $\\eta_{\\text{max}}$，warmup 到达后，逐渐衰减；\n",
    "- grad_norm\n",
    "\n",
    "$$\n",
    "\\text{grad\\_norm} = \\sqrt{\\sum_{i=1}^n \\left(\\frac{\\partial L}{\\partial w_i}\\right)^2}\n",
    "$$"
   ]
  }
 ],
 "metadata": {
  "kernelspec": {
   "display_name": "Python 3 (ipykernel)",
   "language": "python",
   "name": "python3"
  },
  "language_info": {
   "codemirror_mode": {
    "name": "ipython",
    "version": 3
   },
   "file_extension": ".py",
   "mimetype": "text/x-python",
   "name": "python",
   "nbconvert_exporter": "python",
   "pygments_lexer": "ipython3",
   "version": "3.10.13"
  }
 },
 "nbformat": 4,
 "nbformat_minor": 5
}
