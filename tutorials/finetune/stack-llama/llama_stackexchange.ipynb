{
 "cells": [
  {
   "cell_type": "markdown",
   "id": "e0d50f00-e299-4651-af11-2d6b3869bc4e",
   "metadata": {},
   "source": [
    "- https://huggingface.co/blog/stackllama\n",
    "- https://github.com/huggingface/trl/tree/main/examples/research_projects/stack_llama_2/scripts"
   ]
  },
  {
   "cell_type": "markdown",
   "id": "5f440f58-87a4-45d8-b2d9-2ebe952523c9",
   "metadata": {},
   "source": [
    "## model & dataset"
   ]
  },
  {
   "cell_type": "markdown",
   "id": "177b7217-de1f-4272-91e5-d1825b25fa62",
   "metadata": {},
   "source": [
    "- stack exchange\n",
    "    - 数据收集及标注\n",
    "        - `score = log2 (1 + upvotes)` rounded to the nearest integer, plus 1 if the questioner accepted the answer (we assign a score of −1 if the number of upvotes is negative)."
   ]
  },
  {
   "cell_type": "markdown",
   "id": "173ecde7-522b-4403-9ddf-09388baefd84",
   "metadata": {},
   "source": [
    "### accelerate"
   ]
  },
  {
   "cell_type": "markdown",
   "id": "67f34f3a-4f94-49d1-aa33-3b4b7f5ff78d",
   "metadata": {},
   "source": [
    "- accelerate config yaml\n",
    "    - https://github.com/huggingface/trl/tree/main/examples/accelerate_configs"
   ]
  }
 ],
 "metadata": {
  "kernelspec": {
   "display_name": "Python 3 (ipykernel)",
   "language": "python",
   "name": "python3"
  },
  "language_info": {
   "codemirror_mode": {
    "name": "ipython",
    "version": 3
   },
   "file_extension": ".py",
   "mimetype": "text/x-python",
   "name": "python",
   "nbconvert_exporter": "python",
   "pygments_lexer": "ipython3",
   "version": "3.10.13"
  }
 },
 "nbformat": 4,
 "nbformat_minor": 5
}
