{
 "cells": [
  {
   "cell_type": "code",
   "execution_count": 4,
   "id": "bd9649f8-194a-48b8-a00a-8a01b7bfb5aa",
   "metadata": {
    "execution": {
     "iopub.execute_input": "2024-07-27T15:30:23.538664Z",
     "iopub.status.busy": "2024-07-27T15:30:23.538132Z",
     "iopub.status.idle": "2024-07-27T15:30:23.548264Z",
     "shell.execute_reply": "2024-07-27T15:30:23.546090Z",
     "shell.execute_reply.started": "2024-07-27T15:30:23.538627Z"
    }
   },
   "outputs": [],
   "source": [
    "import os\n",
    "os.environ['http_proxy'] = 'http://127.0.0.1:7890'\n",
    "os.environ['https_proxy'] = 'http://127.0.0.1:7890'\n",
    "from datasets import load_dataset"
   ]
  },
  {
   "cell_type": "markdown",
   "id": "9a20b56d-052b-4b0a-9298-6f99a60506c2",
   "metadata": {},
   "source": [
    "### code"
   ]
  },
  {
   "cell_type": "markdown",
   "id": "d472f3b7-ede5-4155-be54-4829b02f0c84",
   "metadata": {},
   "source": [
    "- `lucasmccabe-lmi/CodeAlpaca-20k`"
   ]
  },
  {
   "cell_type": "code",
   "execution_count": 8,
   "id": "f3e9845e-8ca0-4d82-8e39-2139f3f5bf06",
   "metadata": {
    "execution": {
     "iopub.execute_input": "2024-07-27T15:31:29.182717Z",
     "iopub.status.busy": "2024-07-27T15:31:29.182072Z",
     "iopub.status.idle": "2024-07-27T15:31:33.688785Z",
     "shell.execute_reply": "2024-07-27T15:31:33.687024Z",
     "shell.execute_reply.started": "2024-07-27T15:31:29.182671Z"
    }
   },
   "outputs": [],
   "source": [
    "ds = load_dataset('lucasmccabe-lmi/CodeAlpaca-20k')"
   ]
  },
  {
   "cell_type": "code",
   "execution_count": 9,
   "id": "2da2b305-5235-4bf0-8c77-92fc91cc40c1",
   "metadata": {
    "execution": {
     "iopub.execute_input": "2024-07-27T15:31:33.691858Z",
     "iopub.status.busy": "2024-07-27T15:31:33.691323Z",
     "iopub.status.idle": "2024-07-27T15:31:33.702448Z",
     "shell.execute_reply": "2024-07-27T15:31:33.700483Z",
     "shell.execute_reply.started": "2024-07-27T15:31:33.691816Z"
    }
   },
   "outputs": [
    {
     "data": {
      "text/plain": [
       "DatasetDict({\n",
       "    train: Dataset({\n",
       "        features: ['instruction', 'input', 'output'],\n",
       "        num_rows: 20022\n",
       "    })\n",
       "})"
      ]
     },
     "execution_count": 9,
     "metadata": {},
     "output_type": "execute_result"
    }
   ],
   "source": [
    "ds"
   ]
  },
  {
   "cell_type": "code",
   "execution_count": 11,
   "id": "29832694-c6ca-45f5-b56f-ced37a99bde5",
   "metadata": {
    "execution": {
     "iopub.execute_input": "2024-07-27T15:31:42.872545Z",
     "iopub.status.busy": "2024-07-27T15:31:42.872216Z",
     "iopub.status.idle": "2024-07-27T15:31:42.883538Z",
     "shell.execute_reply": "2024-07-27T15:31:42.881381Z",
     "shell.execute_reply.started": "2024-07-27T15:31:42.872524Z"
    }
   },
   "outputs": [
    {
     "data": {
      "text/plain": [
       "{'instruction': 'Create a function that takes a specific input and produces a specific output using any mathematical operators. Write corresponding code in Python.',\n",
       " 'input': '',\n",
       " 'output': 'def f(x):\\n    \"\"\"\\n    Takes a specific input and produces a specific output using any mathematical operators\\n    \"\"\"\\n    return x**2 + 3*x'}"
      ]
     },
     "execution_count": 11,
     "metadata": {},
     "output_type": "execute_result"
    }
   ],
   "source": [
    "ds['train'][0]"
   ]
  },
  {
   "cell_type": "markdown",
   "id": "d505f84f-4169-46cf-85dd-b91b7b7c2e84",
   "metadata": {},
   "source": [
    "### finance"
   ]
  },
  {
   "cell_type": "markdown",
   "id": "187ccfea-197a-42c5-9630-8217de6cec22",
   "metadata": {},
   "source": [
    "- `virattt/financial-qa-10K`\n",
    "    - with context or say RAG"
   ]
  },
  {
   "cell_type": "code",
   "execution_count": 12,
   "id": "ea83d863-ad70-4090-9384-d6caae0773d2",
   "metadata": {
    "execution": {
     "iopub.execute_input": "2024-07-27T15:31:46.008624Z",
     "iopub.status.busy": "2024-07-27T15:31:46.007914Z",
     "iopub.status.idle": "2024-07-27T15:31:50.106684Z",
     "shell.execute_reply": "2024-07-27T15:31:50.104885Z",
     "shell.execute_reply.started": "2024-07-27T15:31:46.008551Z"
    }
   },
   "outputs": [],
   "source": [
    "ds = load_dataset(\"virattt/financial-qa-10K\")"
   ]
  },
  {
   "cell_type": "code",
   "execution_count": 13,
   "id": "0b98010b-0543-4a0b-85b1-132f86b6ffb2",
   "metadata": {
    "execution": {
     "iopub.execute_input": "2024-07-27T15:31:51.366381Z",
     "iopub.status.busy": "2024-07-27T15:31:51.365756Z",
     "iopub.status.idle": "2024-07-27T15:31:51.378267Z",
     "shell.execute_reply": "2024-07-27T15:31:51.376277Z",
     "shell.execute_reply.started": "2024-07-27T15:31:51.366334Z"
    }
   },
   "outputs": [
    {
     "data": {
      "text/plain": [
       "DatasetDict({\n",
       "    train: Dataset({\n",
       "        features: ['question', 'answer', 'context', 'ticker', 'filing'],\n",
       "        num_rows: 7000\n",
       "    })\n",
       "})"
      ]
     },
     "execution_count": 13,
     "metadata": {},
     "output_type": "execute_result"
    }
   ],
   "source": [
    "ds"
   ]
  },
  {
   "cell_type": "code",
   "execution_count": 14,
   "id": "184c6787-a93f-4538-86d5-8c4f5dad8af7",
   "metadata": {
    "execution": {
     "iopub.execute_input": "2024-07-27T15:32:02.166446Z",
     "iopub.status.busy": "2024-07-27T15:32:02.165796Z",
     "iopub.status.idle": "2024-07-27T15:32:02.182711Z",
     "shell.execute_reply": "2024-07-27T15:32:02.180433Z",
     "shell.execute_reply.started": "2024-07-27T15:32:02.166400Z"
    }
   },
   "outputs": [
    {
     "data": {
      "text/plain": [
       "{'question': 'What area did NVIDIA initially focus on before expanding to other computationally intensive fields?',\n",
       " 'answer': 'NVIDIA initially focused on PC graphics.',\n",
       " 'context': 'Since our original focus on PC graphics, we have expanded to several other large and important computationally intensive fields.',\n",
       " 'ticker': 'NVDA',\n",
       " 'filing': '2023_10K'}"
      ]
     },
     "execution_count": 14,
     "metadata": {},
     "output_type": "execute_result"
    }
   ],
   "source": [
    "ds['train'][0]"
   ]
  }
 ],
 "metadata": {
  "kernelspec": {
   "display_name": "Python 3 (ipykernel)",
   "language": "python",
   "name": "python3"
  },
  "language_info": {
   "codemirror_mode": {
    "name": "ipython",
    "version": 3
   },
   "file_extension": ".py",
   "mimetype": "text/x-python",
   "name": "python",
   "nbconvert_exporter": "python",
   "pygments_lexer": "ipython3",
   "version": "3.10.13"
  }
 },
 "nbformat": 4,
 "nbformat_minor": 5
}
