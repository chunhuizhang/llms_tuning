{
 "cells": [
  {
   "cell_type": "markdown",
   "id": "32297124-3044-4b7d-b196-40368688438e",
   "metadata": {},
   "source": [
    "- https://colab.research.google.com/drive/1PEQyJO1-f6j0S_XJ8DV50NkpzasXkrzd?usp=sharing#scrollTo=OSHlAbqzDFDq\n",
    "- https://github.com/Sentdex/LLM-Finetuning?tab=readme-ov-file\n",
    "- qlora\n",
    "    - https://colab.research.google.com/drive/1Vvju5kOyBsDr7RX_YAvp6ZsSOoSMjhKD?usp=sharing\n",
    "- sft on base vs. sft on chat：https://www.wehelpwin.com/article/4718\n",
    "    - 仅用SFT做领域模型时，资源有限就用在Chat模型基础上训练，资源充足就在Base模型上训练。（资源=数据+显卡）\n",
    "    - 在Chat模型上进行SFT时，请一定遵循Chat模型原有的系统指令&数据输入格式。"
   ]
  }
 ],
 "metadata": {
  "kernelspec": {
   "display_name": "Python 3 (ipykernel)",
   "language": "python",
   "name": "python3"
  },
  "language_info": {
   "codemirror_mode": {
    "name": "ipython",
    "version": 3
   },
   "file_extension": ".py",
   "mimetype": "text/x-python",
   "name": "python",
   "nbconvert_exporter": "python",
   "pygments_lexer": "ipython3",
   "version": "3.10.13"
  }
 },
 "nbformat": 4,
 "nbformat_minor": 5
}
