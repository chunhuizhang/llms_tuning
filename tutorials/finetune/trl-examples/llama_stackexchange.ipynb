{
 "cells": [
  {
   "cell_type": "markdown",
   "id": "e0d50f00-e299-4651-af11-2d6b3869bc4e",
   "metadata": {},
   "source": [
    "- https://huggingface.co/blog/stackllama\n",
    "- https://github.com/huggingface/trl/tree/main/examples/research_projects/stack_llama_2/scripts"
   ]
  },
  {
   "cell_type": "code",
   "execution_count": 24,
   "id": "5c907b48-e41e-4515-ba65-e4873ed3969d",
   "metadata": {
    "execution": {
     "iopub.execute_input": "2024-08-15T14:43:55.471510Z",
     "iopub.status.busy": "2024-08-15T14:43:55.470876Z",
     "iopub.status.idle": "2024-08-15T14:43:55.478816Z",
     "shell.execute_reply": "2024-08-15T14:43:55.477479Z",
     "shell.execute_reply.started": "2024-08-15T14:43:55.471462Z"
    }
   },
   "outputs": [],
   "source": [
    "import os\n",
    "os.environ['http_proxy'] = 'http://127.0.0.1:7890'\n",
    "os.environ['https_proxy'] = 'http://127.0.0.1:7890'\n",
    "from tqdm import tqdm"
   ]
  },
  {
   "cell_type": "markdown",
   "id": "a0e6cd32-0afa-4611-a8fa-28289d2d7a57",
   "metadata": {},
   "source": [
    "\n",
    "```\n",
    "git clone git@github.com:huggingface/trl.git\n",
    "cd trl\n",
    "```\n",
    "\n",
    "- run the scripts\n",
    "    - `huggingface-cli login`\n",
    "- TRL\n",
    "    - 三个 research projects（https://github.com/huggingface/trl/tree/main/examples/research_projects）\n",
    "        - stack_llama_2/scripts\n",
    "        - tools\n",
    "        - toxicity\n",
    "    - 学习代码组织\n",
    "        - 超参的组织\n",
    "        - 超参的默认值；\n",
    "        - 学习 pipeline；\n",
    "    - accelerate config\n",
    "        - https://github.com/huggingface/trl/tree/main/examples/accelerate_configs"
   ]
  },
  {
   "cell_type": "markdown",
   "id": "5f440f58-87a4-45d8-b2d9-2ebe952523c9",
   "metadata": {},
   "source": [
    "## model & dataset"
   ]
  },
  {
   "cell_type": "markdown",
   "id": "177b7217-de1f-4272-91e5-d1825b25fa62",
   "metadata": {},
   "source": [
    "- stack exchange：\n",
    "    - 数据收集及标注\n",
    "        - `score = log2 (1 + upvotes)` rounded to the nearest integer, plus 1 if the questioner accepted the answer\n",
    "            - (we assign a score of −1 if the number of upvotes is negative).\n",
    "    - pairs (response_j, response_k) where j was rated better than k\n",
    "- `lvwerra/stack-exchange-paired`：千万级别，26.3 GB\n",
    "    - split：31,284,837\n",
    "        - train：26.8m rows\n",
    "        - test：4.48m rows\n",
    "    - data_dir:\n",
    "        - data/finetune: **SFT**\n",
    "            - question + response_j\n",
    "            - `f\"Question: {example['question']}\\n\\nAnswer: {example['response_j']}\"`\n",
    "        - data/rl: **DPO**\n",
    "            ```\n",
    "            def return_prompt_and_responses(samples) -> Dict[str, str]:\n",
    "                return {\n",
    "                    \"prompt\": [\"Question: \" + question + \"\\n\\nAnswer: \" for question in samples[\"question\"]],\n",
    "                    \"chosen\": samples[\"response_j\"],\n",
    "                    \"rejected\": samples[\"response_k\"],\n",
    "                }\n",
    "            ```\n",
    "        - data/evaluation: **evaluation of DPO**\n",
    "        - data/reward: 第一版 stack-llama 训练 reward modeling 用到的数据集"
   ]
  },
  {
   "cell_type": "code",
   "execution_count": 22,
   "id": "5eeb334b-f186-4644-995d-43c11c74e389",
   "metadata": {
    "execution": {
     "iopub.execute_input": "2024-08-15T14:14:56.620620Z",
     "iopub.status.busy": "2024-08-15T14:14:56.620235Z",
     "iopub.status.idle": "2024-08-15T14:14:56.728048Z",
     "shell.execute_reply": "2024-08-15T14:14:56.726549Z",
     "shell.execute_reply.started": "2024-08-15T14:14:56.620593Z"
    }
   },
   "outputs": [],
   "source": [
    "from transformers import AutoTokenizer"
   ]
  },
  {
   "cell_type": "code",
   "execution_count": 23,
   "id": "422d896f-dfce-432c-a80b-cc967b86792d",
   "metadata": {
    "execution": {
     "iopub.execute_input": "2024-08-15T14:42:48.173646Z",
     "iopub.status.busy": "2024-08-15T14:42:48.172311Z",
     "iopub.status.idle": "2024-08-15T14:42:48.976495Z",
     "shell.execute_reply": "2024-08-15T14:42:48.975502Z",
     "shell.execute_reply.started": "2024-08-15T14:42:48.173592Z"
    }
   },
   "outputs": [],
   "source": [
    "tokenizer = AutoTokenizer.from_pretrained(\"meta-llama/Llama-2-7b-hf\")"
   ]
  },
  {
   "cell_type": "code",
   "execution_count": 31,
   "id": "b339e5d0-da09-4d7d-9495-eabd658bb771",
   "metadata": {
    "execution": {
     "iopub.execute_input": "2024-08-15T14:45:23.192525Z",
     "iopub.status.busy": "2024-08-15T14:45:23.192084Z",
     "iopub.status.idle": "2024-08-15T14:45:23.198797Z",
     "shell.execute_reply": "2024-08-15T14:45:23.197540Z",
     "shell.execute_reply.started": "2024-08-15T14:45:23.192502Z"
    }
   },
   "outputs": [
    {
     "data": {
      "text/plain": [
       "True"
      ]
     },
     "execution_count": 31,
     "metadata": {},
     "output_type": "execute_result"
    }
   ],
   "source": [
    "tokenizer.is_fast"
   ]
  },
  {
   "cell_type": "markdown",
   "id": "c7ed9f77-f2d2-475f-b98d-06023a6356f2",
   "metadata": {},
   "source": [
    "### arguments"
   ]
  },
  {
   "cell_type": "code",
   "execution_count": 2,
   "id": "fd8e686d-fcc8-4c10-92e2-a180d332befd",
   "metadata": {
    "execution": {
     "iopub.execute_input": "2024-08-14T15:35:16.876205Z",
     "iopub.status.busy": "2024-08-14T15:35:16.875874Z",
     "iopub.status.idle": "2024-08-14T15:35:25.963586Z",
     "shell.execute_reply": "2024-08-14T15:35:25.962553Z",
     "shell.execute_reply.started": "2024-08-14T15:35:16.876183Z"
    }
   },
   "outputs": [],
   "source": [
    "from transformers import HfArgumentParser\n",
    "from trl import SFTConfig"
   ]
  },
  {
   "cell_type": "code",
   "execution_count": 5,
   "id": "c323e2d8-439c-4eae-b44c-32d16acbbfb4",
   "metadata": {
    "execution": {
     "iopub.execute_input": "2024-08-14T15:59:05.110953Z",
     "iopub.status.busy": "2024-08-14T15:59:05.110293Z",
     "iopub.status.idle": "2024-08-14T15:59:05.121230Z",
     "shell.execute_reply": "2024-08-14T15:59:05.118990Z",
     "shell.execute_reply.started": "2024-08-14T15:59:05.110904Z"
    }
   },
   "outputs": [],
   "source": [
    "# 封装 dataclass 类\n",
    "# parser = HfArgumentParser((ScriptArguments, SFTConfig))\n",
    "# 接收命令行参数，且将其转换为对应类的实例\n",
    "# script_args, training_args = parser.parse_args_into_dataclasses()"
   ]
  },
  {
   "cell_type": "code",
   "execution_count": 1,
   "id": "d188a27d-04fb-4e6d-beed-e59652c03b60",
   "metadata": {
    "execution": {
     "iopub.execute_input": "2024-08-15T14:01:19.071144Z",
     "iopub.status.busy": "2024-08-15T14:01:19.070529Z",
     "iopub.status.idle": "2024-08-15T14:01:19.088932Z",
     "shell.execute_reply": "2024-08-15T14:01:19.087146Z",
     "shell.execute_reply.started": "2024-08-15T14:01:19.071094Z"
    }
   },
   "outputs": [],
   "source": [
    "from dataclasses import dataclass, field\n",
    "from typing import Optional"
   ]
  },
  {
   "cell_type": "code",
   "execution_count": 2,
   "id": "9fbdd5ba-1448-4acc-8230-432513d45364",
   "metadata": {
    "execution": {
     "iopub.execute_input": "2024-08-15T14:01:33.880616Z",
     "iopub.status.busy": "2024-08-15T14:01:33.879999Z",
     "iopub.status.idle": "2024-08-15T14:01:33.901388Z",
     "shell.execute_reply": "2024-08-15T14:01:33.899614Z",
     "shell.execute_reply.started": "2024-08-15T14:01:33.880567Z"
    }
   },
   "outputs": [],
   "source": [
    "@dataclass\n",
    "class ScriptArguments:\n",
    "    model_name: Optional[str] = field(default=\"meta-llama/Llama-2-7b-hf\", metadata={\"help\": \"the model name\"})\n",
    "    dataset_name: Optional[str] = field(default=\"lvwerra/stack-exchange-paired\", metadata={\"help\": \"the dataset name\"})\n",
    "    subset: Optional[str] = field(default=\"data/finetune\", metadata={\"help\": \"the subset to use\"})\n",
    "    split: Optional[str] = field(default=\"train\", metadata={\"help\": \"the split to use\"})\n",
    "    size_valid_set: Optional[int] = field(default=4000, metadata={\"help\": \"the size of the validation set\"})\n",
    "    streaming: Optional[bool] = field(default=True, metadata={\"help\": \"whether to stream the dataset\"})\n",
    "    shuffle_buffer: Optional[int] = field(default=5000, metadata={\"help\": \"the shuffle buffer size\"})\n",
    "    seq_length: Optional[int] = field(default=1024, metadata={\"help\": \"the sequence length\"})\n",
    "    num_workers: Optional[int] = field(default=4, metadata={\"help\": \"the number of workers\"})\n",
    "    use_bnb: Optional[bool] = field(default=True, metadata={\"help\": \"whether to use BitsAndBytes\"})\n",
    "\n",
    "    # LoraConfig\n",
    "    lora_alpha: Optional[float] = field(default=16, metadata={\"help\": \"the lora alpha parameter\"})\n",
    "    lora_dropout: Optional[float] = field(default=0.05, metadata={\"help\": \"the lora dropout parameter\"})\n",
    "    lora_r: Optional[int] = field(default=8, metadata={\"help\": \"the lora r parameter\"})"
   ]
  },
  {
   "cell_type": "code",
   "execution_count": 3,
   "id": "0a34b976-39d7-4af4-8f3f-55ef0f7796e7",
   "metadata": {
    "execution": {
     "iopub.execute_input": "2024-08-15T14:01:48.539168Z",
     "iopub.status.busy": "2024-08-15T14:01:48.538561Z",
     "iopub.status.idle": "2024-08-15T14:01:48.547626Z",
     "shell.execute_reply": "2024-08-15T14:01:48.545724Z",
     "shell.execute_reply.started": "2024-08-15T14:01:48.539119Z"
    }
   },
   "outputs": [],
   "source": [
    "script_args = ScriptArguments()"
   ]
  },
  {
   "cell_type": "code",
   "execution_count": 4,
   "id": "4955022a-bdaa-4b3d-ab2f-8130b6049816",
   "metadata": {
    "execution": {
     "iopub.execute_input": "2024-08-15T14:01:57.705246Z",
     "iopub.status.busy": "2024-08-15T14:01:57.704631Z",
     "iopub.status.idle": "2024-08-15T14:01:57.723298Z",
     "shell.execute_reply": "2024-08-15T14:01:57.721052Z",
     "shell.execute_reply.started": "2024-08-15T14:01:57.705199Z"
    }
   },
   "outputs": [
    {
     "data": {
      "text/plain": [
       "'meta-llama/Llama-2-7b-hf'"
      ]
     },
     "execution_count": 4,
     "metadata": {},
     "output_type": "execute_result"
    }
   ],
   "source": [
    "script_args.model_name"
   ]
  },
  {
   "cell_type": "markdown",
   "id": "65afe58b-8c2a-437b-a417-a05f99ac6a71",
   "metadata": {},
   "source": [
    "```\n",
    "if training_args.group_by_length and training_args.packing:\n",
    "    raise ValueError(\"Cannot use both packing and group by length\")\n",
    "```"
   ]
  },
  {
   "cell_type": "markdown",
   "id": "a9a83541-5399-4f6f-97f2-3bcfd382df73",
   "metadata": {},
   "source": [
    "### datasets"
   ]
  },
  {
   "cell_type": "markdown",
   "id": "27a5ed5a-255e-4483-bf26-7d6adadf1d33",
   "metadata": {},
   "source": [
    "- dataset.filter/dataset.map: 要充分利用cpu的线程资源\n",
    "    - num_proc\n",
    "- 注意 dataset.map 的过程中会在 $HF_HOME/datasets 下创建大量的缓存文件\n",
    "    - `dataset.cleanup_cache_files()`：来释放缓存文件"
   ]
  },
  {
   "cell_type": "code",
   "execution_count": 5,
   "id": "5ff80d7c-f6a4-455b-935e-5d3a032eca95",
   "metadata": {
    "execution": {
     "iopub.execute_input": "2024-08-15T14:02:29.249521Z",
     "iopub.status.busy": "2024-08-15T14:02:29.248910Z",
     "iopub.status.idle": "2024-08-15T14:02:30.339947Z",
     "shell.execute_reply": "2024-08-15T14:02:30.338239Z",
     "shell.execute_reply.started": "2024-08-15T14:02:29.249475Z"
    }
   },
   "outputs": [],
   "source": [
    "from datasets import load_dataset"
   ]
  },
  {
   "cell_type": "code",
   "execution_count": 14,
   "id": "774c5238-4f40-4a76-9207-652aaa329a85",
   "metadata": {
    "execution": {
     "iopub.execute_input": "2024-08-15T14:09:14.092503Z",
     "iopub.status.busy": "2024-08-15T14:09:14.092072Z",
     "iopub.status.idle": "2024-08-15T14:09:14.100385Z",
     "shell.execute_reply": "2024-08-15T14:09:14.098076Z",
     "shell.execute_reply.started": "2024-08-15T14:09:14.092473Z"
    }
   },
   "outputs": [],
   "source": [
    "#  887094/0 [00:44<00:00, 18883.94 examples/s]\n",
    "# dataset = load_dataset(\n",
    "#     script_args.dataset_name,\n",
    "#     data_dir=script_args.subset,\n",
    "#     split=script_args.split,\n",
    "#     use_auth_token=True,\n",
    "#     num_proc=script_args.num_workers if not script_args.streaming else None,\n",
    "#     # streaming=script_args.streaming,\n",
    "#     streaming=False\n",
    "# )"
   ]
  },
  {
   "cell_type": "code",
   "execution_count": 15,
   "id": "e79b1210-d373-42fc-95aa-cf8652f4cffe",
   "metadata": {
    "execution": {
     "iopub.execute_input": "2024-08-15T14:09:16.493335Z",
     "iopub.status.busy": "2024-08-15T14:09:16.492680Z",
     "iopub.status.idle": "2024-08-15T14:09:21.878424Z",
     "shell.execute_reply": "2024-08-15T14:09:21.877197Z",
     "shell.execute_reply.started": "2024-08-15T14:09:16.493285Z"
    }
   },
   "outputs": [
    {
     "data": {
      "application/vnd.jupyter.widget-view+json": {
       "model_id": "d60e6666009442629471975e9ec9ff63",
       "version_major": 2,
       "version_minor": 0
      },
      "text/plain": [
       "Resolving data files:   0%|          | 0/20 [00:00<?, ?it/s]"
      ]
     },
     "metadata": {},
     "output_type": "display_data"
    },
    {
     "data": {
      "application/vnd.jupyter.widget-view+json": {
       "model_id": "8542fd5b59664848ae49c7800b3b86f7",
       "version_major": 2,
       "version_minor": 0
      },
      "text/plain": [
       "Loading dataset shards:   0%|          | 0/60 [00:00<?, ?it/s]"
      ]
     },
     "metadata": {},
     "output_type": "display_data"
    }
   ],
   "source": [
    "# Setting num_proc from 24 to 20 for the train split as it only contains 20 shards.\n",
    "#  7440923/0 [01:17<00:00, 117936.98 examples/s]\n",
    "dataset = load_dataset(\n",
    "    script_args.dataset_name,\n",
    "    data_dir=script_args.subset,\n",
    "    split=script_args.split,\n",
    "    use_auth_token=True,\n",
    "    num_proc=24,\n",
    "    # streaming=script_args.streaming,\n",
    "    streaming=False\n",
    ")"
   ]
  },
  {
   "cell_type": "code",
   "execution_count": 16,
   "id": "a895ae05-2d70-4146-bbc4-17c06e6eb11b",
   "metadata": {
    "execution": {
     "iopub.execute_input": "2024-08-15T14:09:42.122761Z",
     "iopub.status.busy": "2024-08-15T14:09:42.122384Z",
     "iopub.status.idle": "2024-08-15T14:09:42.134838Z",
     "shell.execute_reply": "2024-08-15T14:09:42.132681Z",
     "shell.execute_reply.started": "2024-08-15T14:09:42.122735Z"
    }
   },
   "outputs": [
    {
     "data": {
      "text/plain": [
       "7440923"
      ]
     },
     "execution_count": 16,
     "metadata": {},
     "output_type": "execute_result"
    }
   ],
   "source": [
    "len(dataset)"
   ]
  },
  {
   "cell_type": "code",
   "execution_count": 17,
   "id": "a97253ed-17e4-4f6d-8a93-e09b5be16214",
   "metadata": {
    "execution": {
     "iopub.execute_input": "2024-08-15T14:13:05.911188Z",
     "iopub.status.busy": "2024-08-15T14:13:05.910504Z",
     "iopub.status.idle": "2024-08-15T14:13:05.923217Z",
     "shell.execute_reply": "2024-08-15T14:13:05.921009Z",
     "shell.execute_reply.started": "2024-08-15T14:13:05.911138Z"
    }
   },
   "outputs": [
    {
     "data": {
      "text/plain": [
       "Dataset({\n",
       "    features: ['qid', 'question', 'date', 'metadata', 'response_j', 'response_k'],\n",
       "    num_rows: 7440923\n",
       "})"
      ]
     },
     "execution_count": 17,
     "metadata": {},
     "output_type": "execute_result"
    }
   ],
   "source": [
    "dataset"
   ]
  },
  {
   "cell_type": "code",
   "execution_count": 18,
   "id": "d2a4e32c-1108-4318-9a2a-463d0fe7874e",
   "metadata": {
    "execution": {
     "iopub.execute_input": "2024-08-15T14:13:09.619379Z",
     "iopub.status.busy": "2024-08-15T14:13:09.618733Z",
     "iopub.status.idle": "2024-08-15T14:13:13.180221Z",
     "shell.execute_reply": "2024-08-15T14:13:13.179162Z",
     "shell.execute_reply.started": "2024-08-15T14:13:09.619330Z"
    }
   },
   "outputs": [],
   "source": [
    "dataset = dataset.train_test_split(test_size=0.005, seed=42)\n",
    "train_data = dataset[\"train\"]\n",
    "valid_data = dataset[\"test\"]"
   ]
  },
  {
   "cell_type": "code",
   "execution_count": 21,
   "id": "9dce17ce-a61e-405b-94ac-bacf17eb76be",
   "metadata": {
    "execution": {
     "iopub.execute_input": "2024-08-15T14:13:31.304749Z",
     "iopub.status.busy": "2024-08-15T14:13:31.304100Z",
     "iopub.status.idle": "2024-08-15T14:13:31.317360Z",
     "shell.execute_reply": "2024-08-15T14:13:31.315172Z",
     "shell.execute_reply.started": "2024-08-15T14:13:31.304700Z"
    }
   },
   "outputs": [
    {
     "data": {
      "text/plain": [
       "(7403718, 37205, 7440923)"
      ]
     },
     "execution_count": 21,
     "metadata": {},
     "output_type": "execute_result"
    }
   ],
   "source": [
    "len(train_data), len(valid_data), len(train_data) + len(valid_data)"
   ]
  },
  {
   "cell_type": "code",
   "execution_count": 40,
   "id": "60973085-964a-4ae0-8dfd-5cec3037850e",
   "metadata": {
    "execution": {
     "iopub.execute_input": "2024-08-15T14:49:29.110071Z",
     "iopub.status.busy": "2024-08-15T14:49:29.108976Z",
     "iopub.status.idle": "2024-08-15T14:49:29.119498Z",
     "shell.execute_reply": "2024-08-15T14:49:29.118225Z",
     "shell.execute_reply.started": "2024-08-15T14:49:29.110014Z"
    }
   },
   "outputs": [
    {
     "data": {
      "text/plain": [
       "{'qid': 20079813,\n",
       " 'question': 'The scenario is simple, I need to log in from another server (different from the API server) to retrieve the access token.\\n\\nI installed `Microsoft.Owin.Cors` package on the API Server. In `Startup.Auth.cs` file, under `public void ConfigureAuth(IAppBuilder app)`, I added in \\n\\n```\\napp.UseCors(Microsoft.Owin.Cors.CorsOptions.AllowAll);\\n\\n```\\n\\nIn `WebApiConfig.cs`, under `public static void Register(HttpConfiguration config)`, I added in these lines:\\n\\n```\\n// Cors\\nvar cors = new EnableCorsAttribute(\"*\", \"*\", \"GET, POST, OPTIONS\");\\nconfig.EnableCors(cors);\\n\\n```\\n\\nWhat else should I change?',\n",
       " 'date': '2013/11/19',\n",
       " 'metadata': ['https://Stackoverflow.com/questions/20079813',\n",
       "  'https://Stackoverflow.com',\n",
       "  'https://Stackoverflow.com/users/863637/'],\n",
       " 'response_j': 'I had many trial-and-errors to setup it for AngularJS-based web client.  \\n\\nFor me, below approaches works with ASP.NET WebApi 2.2 and OAuth-based service.\\n\\n1. Install `Microsoft.AspNet.WebApi.Cors` nuget package.\\n2. Install `Microsoft.Owin.Cors` nuget package.\\n3. Add `config.EnableCors(new EnableCorsAttribute(\"*\", \"*\", \"GET, POST, OPTIONS, PUT, DELETE\"));` to the above of `WebApiConfig.Register(config);` line at **Startup.cs** file.\\n4. Add `app.UseCors(Microsoft.Owin.Cors.CorsOptions.AllowAll);` to the **Startup.Auth.cs** file. This must be done prior to calling `IAppBuilder.UseWebApi`\\n5. Remove any xml settings what Blaise did.\\n\\nI found many setup variations and combinations at here stackoverflow or [blog articles](http://msdn.microsoft.com/en-us/magazine/dn532203.aspx). So, Blaise\\'s approach may or may not be wrong. It\\'s just another settings I think.',\n",
       " 'response_k': 'I just want to share my experience. I spent half of the day banging my head and trying to make it work. I read numerous of articles and SO questions and in the end I figured out what was wrong. \\n\\nThe line \\n\\n```\\napp.UseCors(Microsoft.Owin.Cors.CorsOptions.AllowAll);\\n\\n```\\n\\nwas not the first one in `Startup` class `Configuration` method. When I moved it to the top - everything started working magically.\\n\\nAnd no custom headers in `web.config` or `config.EnableCors(corsPolicy);` or anything else was necessary.\\n\\nHope this will help someone to save some time.'}"
      ]
     },
     "execution_count": 40,
     "metadata": {},
     "output_type": "execute_result"
    }
   ],
   "source": [
    "train_data[0]"
   ]
  },
  {
   "cell_type": "code",
   "execution_count": 28,
   "id": "584a51dc-4a02-4631-9b50-15ae1800ce7f",
   "metadata": {
    "execution": {
     "iopub.execute_input": "2024-08-15T14:45:05.077422Z",
     "iopub.status.busy": "2024-08-15T14:45:05.076122Z",
     "iopub.status.idle": "2024-08-15T14:45:05.083939Z",
     "shell.execute_reply": "2024-08-15T14:45:05.082628Z",
     "shell.execute_reply.started": "2024-08-15T14:45:05.077371Z"
    }
   },
   "outputs": [],
   "source": [
    "def prepare_sample_text(example):\n",
    "    \"\"\"Prepare the text from a sample of the dataset.\"\"\"\n",
    "    text = f\"Question: {example['question']}\\n\\nAnswer: {example['response_j']}\"\n",
    "    return text"
   ]
  },
  {
   "cell_type": "code",
   "execution_count": 29,
   "id": "9202b2f3-0c6e-4eb5-8864-b1ca24583dca",
   "metadata": {
    "execution": {
     "iopub.execute_input": "2024-08-15T14:45:07.000457Z",
     "iopub.status.busy": "2024-08-15T14:45:06.999195Z",
     "iopub.status.idle": "2024-08-15T14:45:07.010206Z",
     "shell.execute_reply": "2024-08-15T14:45:07.008787Z",
     "shell.execute_reply.started": "2024-08-15T14:45:07.000406Z"
    }
   },
   "outputs": [],
   "source": [
    "def chars_token_ratio(dataset, tokenizer, nb_examples=400):\n",
    "    \"\"\"\n",
    "    Estimate the average number of characters per token in the dataset.\n",
    "    \"\"\"\n",
    "    total_characters, total_tokens = 0, 0\n",
    "    for _, example in tqdm(zip(range(nb_examples), iter(dataset)), total=nb_examples):\n",
    "        text = prepare_sample_text(example)\n",
    "        total_characters += len(text)\n",
    "        if tokenizer.is_fast:\n",
    "            total_tokens += len(tokenizer(text).tokens())\n",
    "        else:\n",
    "            total_tokens += len(tokenizer.tokenize(text))\n",
    "\n",
    "    return total_characters / total_tokens"
   ]
  },
  {
   "cell_type": "code",
   "execution_count": 35,
   "id": "7456e603-562e-4671-a9b1-0cc81822f2fc",
   "metadata": {
    "execution": {
     "iopub.execute_input": "2024-08-15T14:49:02.265513Z",
     "iopub.status.busy": "2024-08-15T14:49:02.264287Z",
     "iopub.status.idle": "2024-08-15T14:49:02.694552Z",
     "shell.execute_reply": "2024-08-15T14:49:02.693615Z",
     "shell.execute_reply.started": "2024-08-15T14:49:02.265462Z"
    }
   },
   "outputs": [
    {
     "name": "stderr",
     "output_type": "stream",
     "text": [
      "100%|██████████| 400/400 [00:00<00:00, 956.10it/s]\n"
     ]
    },
    {
     "data": {
      "text/plain": [
       "3.248387071938901"
      ]
     },
     "execution_count": 35,
     "metadata": {},
     "output_type": "execute_result"
    }
   ],
   "source": [
    "chars_per_token = chars_token_ratio(train_data, tokenizer)\n",
    "chars_per_token"
   ]
  },
  {
   "cell_type": "code",
   "execution_count": 33,
   "id": "599053fc-611b-436a-83fb-bdf496f0f390",
   "metadata": {
    "execution": {
     "iopub.execute_input": "2024-08-15T14:48:00.128447Z",
     "iopub.status.busy": "2024-08-15T14:48:00.127797Z",
     "iopub.status.idle": "2024-08-15T14:48:00.133754Z",
     "shell.execute_reply": "2024-08-15T14:48:00.132744Z",
     "shell.execute_reply.started": "2024-08-15T14:48:00.128419Z"
    }
   },
   "outputs": [],
   "source": [
    "from trl.trainer import ConstantLengthDataset"
   ]
  },
  {
   "cell_type": "code",
   "execution_count": 36,
   "id": "e34dd1f1-f7e9-41ef-bf3c-0f8b5dd17449",
   "metadata": {
    "execution": {
     "iopub.execute_input": "2024-08-15T14:49:05.376415Z",
     "iopub.status.busy": "2024-08-15T14:49:05.376134Z",
     "iopub.status.idle": "2024-08-15T14:49:05.381189Z",
     "shell.execute_reply": "2024-08-15T14:49:05.380201Z",
     "shell.execute_reply.started": "2024-08-15T14:49:05.376392Z"
    }
   },
   "outputs": [],
   "source": [
    "train_dataset = ConstantLengthDataset(\n",
    "    tokenizer,\n",
    "    train_data,\n",
    "    formatting_func=prepare_sample_text,\n",
    "    infinite=True,\n",
    "    seq_length=script_args.seq_length,\n",
    "    chars_per_token=chars_per_token,\n",
    ")"
   ]
  },
  {
   "cell_type": "code",
   "execution_count": 49,
   "id": "99b68610-6416-4ca5-8f9d-76779bce0c9e",
   "metadata": {
    "execution": {
     "iopub.execute_input": "2024-08-15T14:52:42.128286Z",
     "iopub.status.busy": "2024-08-15T14:52:42.126938Z",
     "iopub.status.idle": "2024-08-15T14:52:42.566229Z",
     "shell.execute_reply": "2024-08-15T14:52:42.565346Z",
     "shell.execute_reply.started": "2024-08-15T14:52:42.128234Z"
    }
   },
   "outputs": [
    {
     "data": {
      "text/plain": [
       "(torch.Size([1024]), torch.Size([1024]))"
      ]
     },
     "execution_count": 49,
     "metadata": {},
     "output_type": "execute_result"
    }
   ],
   "source": [
    "sample = next(iter(train_dataset))\n",
    "sample['input_ids'].shape, sample['labels'].shape"
   ]
  },
  {
   "cell_type": "code",
   "execution_count": 50,
   "id": "a5eb7d04-8407-48cc-becf-d0d3373a1aed",
   "metadata": {
    "execution": {
     "iopub.execute_input": "2024-08-15T14:52:43.709631Z",
     "iopub.status.busy": "2024-08-15T14:52:43.709367Z",
     "iopub.status.idle": "2024-08-15T14:52:43.716303Z",
     "shell.execute_reply": "2024-08-15T14:52:43.715353Z",
     "shell.execute_reply.started": "2024-08-15T14:52:43.709612Z"
    }
   },
   "outputs": [
    {
     "name": "stdout",
     "output_type": "stream",
     "text": [
      "`method=\"post\"`, now I'm confused. When we click the button, what will actually happen? The jQuery.ajax will send a request in the js function but what will the `method=\"post\"` do? Or `method=\"post\"` can be ignored? If it does nothing, can we make the attribute `method` empty: `<form class=\"form\" action=\"\" method=\"\">`?\n",
      "\n",
      "**Additional**\n",
      "\n",
      "Now I realise that the type of the buttion in this example is `button`, instead of `submit`. If I change the type into `submit` and click it, what will happen? Will it send two http requests, a post request comes from the form and a put request comes from the jQuery.ajax?\n",
      "\n",
      "Answer: This example is badly designed and confusing.\n",
      "\n",
      "The `formSubmit` function will only be called when the button is clicked. When the button is clicked, that function will run, and *nothing else* will happen; since the input is not a submit button, the form will not attempt to submit. All network activity will result from the `jQuery.ajax` inside the function. In this case, the `<form>` and the `method=\"post\"` are ignored completely, since the form doesn't get submitted - the method used will be the one in the `.ajax` function, which is PUT.\n",
      "\n",
      "But the form is still submittable, if the user presses enter while focused inside the `<input type=\"text\"`. If they do that, then the `formSubmit` function will not be called (since the button wasn't clicked), and the user's browser will send the `name` and the `message` as form data to the server, on the current page - and yes, as a POST. (Is the current page this code is on `submit.php`? If not, that may be a mistake. Perhaps the person who wrote the code completely overlooked the possibility of the form being submitable without using the button.)\n",
      "\n",
      "To make the example less confusing, I'd change the button to a *submit* button, and add a submit handler to the form instead of a click listener to the button. Then have the submit handler `return false` or call `e.preventDefault` so that all network activity goes through the `.ajax` call.</s><s> Question: I tend to get very stressed out about how things play out around me in the workplace. A lot of the stress and anxiety comes from high level decisions and changes made by management and executives that are not necessarily detrimental to me but definitely change the workplace environment and expectations causing me to be consumed with inconsolable worry and anxiety.\n",
      "\n",
      "As I get older I have been sufferring more and more anxiety attacks. We know the symptoms, feeling like I can't get a breath, heart pounding, cold sweats. Certainly my excessive worrying has helped me avoid bad situations in the past but more often than not my irrational worry and anxiety turns out to be unfounded, with little basis in logical fact (not that rational and logical thought really help; the fear is not rational).\n",
      "\n",
      "> \n",
      "> Fear is the mind-killer\n",
      "> \n",
      "> \n",
      "> \n",
      "\n",
      "I feel like this hinders me severely in my career. My coworkers and boss have taken notice and this stresses me out even more because now I am afraid they think me weak.\n",
      "\n",
      "My career aspirations are to make it into management someday because I am successful as a lead in turning around failing software projects and turning them into a success. I love working with people and clients and love to coach and guide people. I feel I would be a postive manager.\n",
      "\n",
      "My anxiety attacks are a manifestation of my stress, however will management think me too weak to take charge and be an effective leader?\n",
      "\n",
      "Am I too weak to be a good manager someday? Perhaps I need to come to terms with my own shortcomings as it seems my other peers are much more easy going with chaos going on around them?\n",
      "\n",
      "Answer: Anxiety attacks occur when you think about uncomfortable situations / things, you realize that you're freaking out, and then you freak out about it even further, in other words, you are freaking out about the fact that you're freaked out. \n",
      "\n",
      "Try:\n",
      "\n",
      "* **Just accept the fact that you're worried.** Admit that you're facing a bad situation, and stop thinking further about how much you're worried about it. The less you think, the less you freak out.\n",
      "* **Change your physical state.** I find that sometimes mental states are easier to be switched out of if you're\n"
     ]
    }
   ],
   "source": [
    "print(tokenizer.decode(sample['input_ids']))"
   ]
  },
  {
   "cell_type": "code",
   "execution_count": 51,
   "id": "8fe1d130-b1de-468b-8c83-bd1a063a9a61",
   "metadata": {
    "execution": {
     "iopub.execute_input": "2024-08-15T14:53:28.697938Z",
     "iopub.status.busy": "2024-08-15T14:53:28.696640Z",
     "iopub.status.idle": "2024-08-15T14:53:29.127605Z",
     "shell.execute_reply": "2024-08-15T14:53:29.126619Z",
     "shell.execute_reply.started": "2024-08-15T14:53:28.697885Z"
    }
   },
   "outputs": [
    {
     "data": {
      "text/plain": [
       "[1024, 1024, 1024, 1024, 1024, 1024, 1024, 1024, 1024, 1024, 1024]"
      ]
     },
     "execution_count": 51,
     "metadata": {},
     "output_type": "execute_result"
    }
   ],
   "source": [
    "lengths = []\n",
    "for i, sample in enumerate(train_dataset):\n",
    "    lengths.append(len(sample['input_ids']))\n",
    "    if i >= 10:  # 收集100个样本的信息\n",
    "        break\n",
    "lengths        "
   ]
  },
  {
   "cell_type": "markdown",
   "id": "173ecde7-522b-4403-9ddf-09388baefd84",
   "metadata": {},
   "source": [
    "### accelerate SFT"
   ]
  },
  {
   "cell_type": "markdown",
   "id": "56a9f582-f23d-4137-b196-39b0f700e494",
   "metadata": {},
   "source": [
    "- 先尝试用 single gpu 跑一下：看下单卡的表现；\n",
    "    - accelerate launch --config-file ./single_gpu.yaml xx.py\n",
    "    - 对比（multi gpus）看下通信的影响；"
   ]
  },
  {
   "cell_type": "markdown",
   "id": "67f34f3a-4f94-49d1-aa33-3b4b7f5ff78d",
   "metadata": {},
   "source": [
    "- accelerate config yaml\n",
    "    - https://github.com/huggingface/trl/tree/main/examples/accelerate_configs\n",
    "\n",
    "```\n",
    "from accelerate import Accelerator\n",
    "...\n",
    "\n",
    "base_model = AutoModelForCausalLM.from_pretrained(\n",
    "    ...\n",
    "    device_map={\"\": Accelerator().local_process_index},\n",
    "    ...\n",
    ")\n",
    "```"
   ]
  },
  {
   "cell_type": "markdown",
   "id": "f9243a82-0fa5-43d4-9555-0e9a6a8893ca",
   "metadata": {},
   "source": [
    "### zero3"
   ]
  },
  {
   "cell_type": "markdown",
   "id": "e068ed11-ff4e-4500-9458-a146906f6fbb",
   "metadata": {},
   "source": [
    "- \"meta-llama/Llama-2-7b-hf\"：https://wandb.ai/loveresearch/huggingface/runs/jsn4syqr\n",
    "    ```\n",
    "    accelerate launch --config-file examples/accelerate_configs/deepspeed_zero3.yaml examples/research_projects/stack_llama_2/scripts/sft_llama2.py \\\n",
    "        --output_dir=\"./sft\" \\\n",
    "        --max_steps=1000 \\\n",
    "        --logging_steps=10 \\\n",
    "        --save_steps=0.2 \\\n",
    "        --save_total_limit=2 \\\n",
    "        --eval_strategy=\"steps\"\\\n",
    "        --eval_steps=0.2\\\n",
    "        --per_device_train_batch_size=2 \\\n",
    "        --per_device_eval_batch_size=1 \\\n",
    "        --gradient_accumulation_steps=4 \\\n",
    "        --gradient_checkpointing=False \\\n",
    "        --group_by_length=False \\\n",
    "        --learning_rate=1e-4 \\\n",
    "        --lr_scheduler_type=\"cosine\" \\\n",
    "        --warmup_steps=100 \\\n",
    "        --weight_decay=0.05 \\\n",
    "        --optim=\"paged_adamw_32bit\" \\\n",
    "        --bf16=True \\\n",
    "        --remove_unused_columns=False \\\n",
    "        --run_name=\"sft_llama2\" \\\n",
    "        --report_to=\"wandb\"\n",
    "    ```\n",
    "- \"meta-llama/Meta-Llama-3-8B\"：\n",
    "    ```\n",
    "    accelerate launch --config-file examples/accelerate_configs/deepspeed_zero3.yaml examples/research_projects/stack_llama_2/scripts/sft_llama2.py \\\n",
    "        --model_name=\"meta-llama/Meta-Llama-3-8B\"\\\n",
    "        --output_dir=\"./sft\" \\\n",
    "        --max_steps=1000 \\\n",
    "        --logging_steps=10 \\\n",
    "        --save_steps=0.2 \\\n",
    "        --save_total_limit=2 \\\n",
    "        --eval_strategy=\"steps\"\\\n",
    "        --eval_steps=0.2\\\n",
    "        --per_device_train_batch_size=2 \\\n",
    "        --per_device_eval_batch_size=1 \\\n",
    "        --gradient_accumulation_steps=4 \\\n",
    "        --gradient_checkpointing=False \\\n",
    "        --group_by_length=False \\\n",
    "        --learning_rate=1e-4 \\\n",
    "        --lr_scheduler_type=\"cosine\" \\\n",
    "        --warmup_steps=100 \\\n",
    "        --weight_decay=0.05 \\\n",
    "        --optim=\"paged_adamw_32bit\" \\\n",
    "        --bf16=True \\\n",
    "        --remove_unused_columns=False \\\n",
    "        --run_name=\"sft_llama3\" \\\n",
    "        --report_to=\"wandb\"\n",
    "    ```"
   ]
  },
  {
   "cell_type": "markdown",
   "id": "b3a736d9-3c1c-432b-85c3-07fea159fd6f",
   "metadata": {},
   "source": [
    "\n",
    "\n",
    "- trl 中的 SFTTrainer 继承自 huggingface transformers 的 Trainer\n",
    "- max_steps=500\n",
    "    - 设置较小的 max_steps 可以用来做简单的 bug 测试；\n",
    "    - steps 称之为 optimization steps，优化步；执行多少次优化；即反向传播，梯度计算与权重参数更新；\n",
    "- logging_steps=10\n",
    "    - 多少步打印一次监控指标：loss、learning_rate、grad_norm\n",
    "- learning_rate=1e-4 && lr_scheduler_type=\"cosine\" && warmup_steps=100\n",
    "    - warmup_steps 达到 100 steps 时达到 learning_rate=1e-4\n",
    "    - warmup_steps 之前初始是 1e-5, 通过 100 步，线性到达 1e-4\n",
    "    - 指定的 learning_rate 其实是 $\\eta_{\\text{max}}$，warmup 到达后，逐渐衰减；\n",
    "- grad_norm\n",
    "\n",
    "$$\n",
    "\\text{grad\\_norm} = \\sqrt{\\sum_{i=1}^n \\left(\\frac{\\partial L}{\\partial w_i}\\right)^2}\n",
    "$$"
   ]
  },
  {
   "cell_type": "markdown",
   "id": "38b09b76-5a33-41a9-beac-aa7192b0f272",
   "metadata": {},
   "source": [
    "### accelerate DPO"
   ]
  },
  {
   "cell_type": "markdown",
   "id": "bbcd3e93-db5a-4fd8-ac1d-1200412148ed",
   "metadata": {},
   "source": [
    "```\n",
    "accelerate launch --config-file examples/accelerate_configs/deepspeed_zero3.yaml examples/research_projects/stack_llama_2/scripts/dpo_llama2.py \\\n",
    "    --model_name_or_path=\"sft/final_checkpoint\" \\\n",
    "    --output_dir=\"dpo\"\n",
    "```"
   ]
  },
  {
   "cell_type": "markdown",
   "id": "2176cf7a-7dc5-4240-ab73-76cf5fb06721",
   "metadata": {},
   "source": [
    "\n",
    "- 输入定义：\n",
    "    - $\\pi_\\theta$: 策略模型\n",
    "    - $\\pi_{ref}$: 参考模型\n",
    "    - $D = \\{(x_i, y_i^+, y_i^-)\\}$: 训练数据，其中 $x_i$ 是输入提示，$y_i^+$ 是偏好的回答，$y_i^-$ 是非偏好的回答\n",
    "- 对数概率计算，对于每个样本 $(x_i, y_i^+, y_i^-)$:\n",
    "    - $\\pi_\\theta(y_i^+ | x_i) = \\log P_\\theta(y_i^+ | x_i)$\n",
    "    - $\\pi_\\theta(y_i^- | x_i) = \\log P_\\theta(y_i^- | x_i)$\n",
    "    - $\\pi_{ref}(y_i^+ | x_i) = \\log P_{ref}(y_i^+ | x_i)$\n",
    "    - $\\pi_{ref}(y_i^- | x_i) = \\log P_{ref}(y_i^- | x_i)$\n",
    "- 对数概率比计算\n",
    "    - $r_i^+ = \\pi_\\theta(y_i^+ | x_i) - \\pi_{ref}(y_i^+ | x_i)$\n",
    "    - $r_i^- = \\pi_\\theta(y_i^- | x_i) - \\pi_{ref}(y_i^- | x_i)$\n",
    "- DPO 损失计算（以 sigmoid 损失为例）\n",
    "    $$L_i = -\\log(\\sigma(\\beta \\cdot (r_i^+ - r_i^-))) \\cdot (1 - \\lambda) - \\log(1 - \\sigma(\\beta \\cdot (r_i^+ - r_i^-))) \\cdot \\lambda$$\n",
    "    其中:\n",
    "    - $\\sigma$ 是 sigmoid 函数\n",
    "    - $\\beta$ 是温度参数\n",
    "    - $\\lambda$ 是标签平滑参数\n",
    "\n",
    "- 总体损失\n",
    "$$L = \\frac{1}{N} \\sum_{i=1}^N L_i$$\n",
    "\n",
    "其中 $N$ 是批次大小。\n",
    "\n",
    "- 优化目标: $\\theta^* = \\arg\\min_\\theta L$\n",
    "\n",
    "\n",
    "- 奖励计算（用于评估）\n",
    "    - $\\text{chosen\\_reward}_i = \\beta \\cdot (\\pi_\\theta(y_i^+ | x_i) - \\pi_{ref}(y_i^+ | x_i))$\n",
    "    - $\\text{rejected\\_reward}_i = \\beta \\cdot (\\pi_\\theta(y_i^- | x_i) - \\pi_{ref}(y_i^- | x_i))$\n",
    "\n",
    "- 评估指标\n",
    "    - 平均 chosen 奖励: $\\frac{1}{N} \\sum_{i=1}^N \\text{chosen\\_reward}_i$\n",
    "    - 平均 rejected 奖励: $\\frac{1}{N} \\sum_{i=1}^N \\text{rejected\\_reward}_i$\n",
    "    - 奖励准确率: $\\frac{1}{N} \\sum_{i=1}^N \\mathbb{1}[\\text{chosen\\_reward}_i > \\text{rejected\\_reward}_i]$\n",
    "    - 奖励边际: $\\frac{1}{N} \\sum_{i=1}^N (\\text{chosen\\_reward}_i - \\text{rejected\\_reward}_i)$"
   ]
  },
  {
   "cell_type": "markdown",
   "id": "51f953c8-60ed-493f-952b-096c240092ab",
   "metadata": {},
   "source": [
    "#### DPODataCollatorWithPadding & training"
   ]
  },
  {
   "cell_type": "markdown",
   "id": "aefc46d3-b3e1-4834-9ac2-73e1241b95d6",
   "metadata": {},
   "source": [
    "```\n",
    "data_collator = DPODataCollatorWithPadding(\n",
    "    # 2\n",
    "    pad_token_id=self.tokenizer.pad_token_id,\n",
    "    # -100\n",
    "    label_pad_token_id=args.label_pad_token_id,\n",
    "    # false\n",
    "    is_encoder_decoder=self.is_encoder_decoder,\n",
    ")\n",
    "```\n",
    "\n",
    "- DPO DataCollator class that pads the tokenized inputs to the maximum length of the batch.\n",
    "    - prompt_input_ids, chosen_input_ids, rejected_input_ids\n",
    "    - chosen_labels, rejected_labels\n",
    "    - prompt_attention_mask, chosen_attention_mask, rejected_attention_mask\n",
    "- concatenated_input_ids, concatenated_attention_mask\n",
    "    - input_ids: (prompt + chosen), labels: chosen\n",
    "    - input_ids: (prompt + rejected): labels: rejected"
   ]
  },
  {
   "cell_type": "markdown",
   "id": "919ac260-8761-4209-8980-29d9df28875c",
   "metadata": {},
   "source": [
    "```\n",
    "outputs = model(\n",
    "    concatenated_batch[\"concatenated_input_ids\"],\n",
    "    attention_mask=concatenated_batch[\"concatenated_attention_mask\"],\n",
    "    use_cache=False,\n",
    "    **model_kwargs,\n",
    ")\n",
    "\n",
    "all_logits = outputs.logits\n",
    "\n",
    "...\n",
    "\n",
    "all_logps, size_completion = self.get_batch_logps(\n",
    "    all_logits,\n",
    "    concatenated_batch[\"concatenated_labels\"],\n",
    "    # average_log_prob=self.loss_type == \"ipo\",\n",
    "    is_encoder_decoder=self.is_encoder_decoder,\n",
    "    label_pad_token_id=self.label_pad_token_id,\n",
    ")\n",
    "\n",
    "...\n",
    "\n",
    "labels = concatenated_batch[\"concatenated_labels\"].clone()\n",
    "nll_loss = cross_entropy_loss(all_logits[:len_chosen], labels[:len_chosen])\n",
    "\n",
    "if self.loss_type == \"ipo\":\n",
    "    all_logps = all_logps / size_completion\n",
    "\n",
    "chosen_logps = all_logps[:len_chosen]\n",
    "rejected_logps = all_logps[len_chosen:]\n",
    "\n",
    "chosen_logits = all_logits[:len_chosen]\n",
    "rejected_logits = all_logits[len_chosen:]\n",
    "```"
   ]
  },
  {
   "cell_type": "markdown",
   "id": "24371b5a-2e54-4001-8065-5001ad172b09",
   "metadata": {},
   "source": [
    "#### Tricks"
   ]
  },
  {
   "cell_type": "markdown",
   "id": "b39835b2-b9a0-4b47-81e9-e51bc043c229",
   "metadata": {},
   "source": [
    "- 小批量数据集，快速测试和调试\n",
    "  \n",
    "```\n",
    "if sanity_check:\n",
    "    dataset = dataset.select(range(min(len(dataset), 1000)))\n",
    "```"
   ]
  }
 ],
 "metadata": {
  "kernelspec": {
   "display_name": "Python 3 (ipykernel)",
   "language": "python",
   "name": "python3"
  },
  "language_info": {
   "codemirror_mode": {
    "name": "ipython",
    "version": 3
   },
   "file_extension": ".py",
   "mimetype": "text/x-python",
   "name": "python",
   "nbconvert_exporter": "python",
   "pygments_lexer": "ipython3",
   "version": "3.10.13"
  }
 },
 "nbformat": 4,
 "nbformat_minor": 5
}
