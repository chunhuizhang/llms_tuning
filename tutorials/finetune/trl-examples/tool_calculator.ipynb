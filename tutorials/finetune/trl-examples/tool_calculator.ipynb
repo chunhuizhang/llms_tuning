{
 "cells": [
  {
   "cell_type": "code",
   "execution_count": 1,
   "id": "98918440-f008-4d97-9b71-74aca5f4b836",
   "metadata": {
    "execution": {
     "iopub.execute_input": "2024-12-01T03:11:17.250256Z",
     "iopub.status.busy": "2024-12-01T03:11:17.249507Z",
     "iopub.status.idle": "2024-12-01T03:11:17.265428Z",
     "shell.execute_reply": "2024-12-01T03:11:17.264121Z",
     "shell.execute_reply.started": "2024-12-01T03:11:17.250209Z"
    }
   },
   "outputs": [],
   "source": [
    "import os\n",
    "os.environ['http_proxy'] = 'http://127.0.0.1:7890'\n",
    "os.environ['https_proxy'] = 'http://127.0.0.1:7890'"
   ]
  },
  {
   "cell_type": "code",
   "execution_count": 2,
   "id": "17e6c03b-5f24-4bea-b0fe-2fc5f161781f",
   "metadata": {
    "execution": {
     "iopub.execute_input": "2024-12-01T03:11:17.267611Z",
     "iopub.status.busy": "2024-12-01T03:11:17.267117Z",
     "iopub.status.idle": "2024-12-01T03:11:21.944942Z",
     "shell.execute_reply": "2024-12-01T03:11:21.943810Z",
     "shell.execute_reply.started": "2024-12-01T03:11:17.267568Z"
    }
   },
   "outputs": [
    {
     "name": "stderr",
     "output_type": "stream",
     "text": [
      "/home/whaow/anaconda3/lib/python3.10/site-packages/pandas/core/arrays/masked.py:60: UserWarning: Pandas requires version '1.3.6' or newer of 'bottleneck' (version '1.3.5' currently installed).\n",
      "  from pandas.core import (\n"
     ]
    },
    {
     "name": "stdout",
     "output_type": "stream",
     "text": [
      "[2024-12-01 11:11:20,403] [INFO] [real_accelerator.py:203:get_accelerator] Setting ds_accelerator to cuda (auto detect)\n",
      "\u001b[93m [WARNING] \u001b[0m async_io requires the dev libaio .so object and headers but these were not found.\n",
      "\u001b[93m [WARNING] \u001b[0m async_io: please install the libaio-dev package with apt\n",
      "\u001b[93m [WARNING] \u001b[0m If libaio is already installed (perhaps from source), try setting the CFLAGS and LDFLAGS environment variables to where it can be found.\n",
      "\u001b[93m [WARNING] \u001b[0m Please specify the CUTLASS repo directory as environment variable $CUTLASS_PATH\n"
     ]
    },
    {
     "name": "stderr",
     "output_type": "stream",
     "text": [
      "/usr/bin/ld: cannot find -laio: No such file or directory\n",
      "collect2: error: ld returned 1 exit status\n"
     ]
    },
    {
     "name": "stdout",
     "output_type": "stream",
     "text": [
      "\u001b[93m [WARNING] \u001b[0m sparse_attn requires a torch version >= 1.5 and < 2.0 but detected 2.4\n",
      "\u001b[93m [WARNING] \u001b[0m using untested triton version (3.0.0), only 1.0.0 is known to be compatible\n"
     ]
    },
    {
     "name": "stderr",
     "output_type": "stream",
     "text": [
      "/home/whaow/anaconda3/lib/python3.10/site-packages/deepspeed/runtime/zero/linear.py:49: FutureWarning: `torch.cuda.amp.custom_fwd(args...)` is deprecated. Please use `torch.amp.custom_fwd(args..., device_type='cuda')` instead.\n",
      "  def forward(ctx, input, weight, bias=None):\n",
      "/home/whaow/anaconda3/lib/python3.10/site-packages/deepspeed/runtime/zero/linear.py:67: FutureWarning: `torch.cuda.amp.custom_bwd(args...)` is deprecated. Please use `torch.amp.custom_bwd(args..., device_type='cuda')` instead.\n",
      "  def backward(ctx, grad_output):\n"
     ]
    }
   ],
   "source": [
    "import re\n",
    "\n",
    "import numpy as np\n",
    "import torch\n",
    "from transformers import AutoTokenizer, load_tool\n",
    "\n",
    "from trl import AutoModelForCausalLMWithValueHead, PPOConfig, PPOTrainer, TextEnvironment"
   ]
  },
  {
   "cell_type": "markdown",
   "id": "a4b2845d-456c-4c31-88c2-32dd43c6f319",
   "metadata": {},
   "source": [
    "### dataset"
   ]
  },
  {
   "cell_type": "code",
   "execution_count": 3,
   "id": "f12a0195-a940-40c9-9278-89003020624c",
   "metadata": {
    "execution": {
     "iopub.execute_input": "2024-12-01T03:11:21.945688Z",
     "iopub.status.busy": "2024-12-01T03:11:21.945550Z",
     "iopub.status.idle": "2024-12-01T03:11:21.950874Z",
     "shell.execute_reply": "2024-12-01T03:11:21.950091Z",
     "shell.execute_reply.started": "2024-12-01T03:11:21.945676Z"
    }
   },
   "outputs": [],
   "source": [
    "def generate_data(n):\n",
    "    \"\"\"Generate random arithmetic tasks and answers.\"\"\"\n",
    "    tasks, answers = [], []\n",
    "    for _ in range(n):\n",
    "        a = np.random.randint(0, 50)\n",
    "        b = np.random.randint(0, 50)\n",
    "        op = np.random.choice([\"-\", \"+\", \"*\"])\n",
    "        tasks.append(f\"\\n\\nWhat is {a} {op} {b}?\")\n",
    "        if op == \"-\":\n",
    "            answers.append(a - b)\n",
    "        elif op == \"+\":\n",
    "            answers.append(a + b)\n",
    "        else:\n",
    "            answers.append(a * b)\n",
    "    return tasks, answers"
   ]
  },
  {
   "cell_type": "code",
   "execution_count": 4,
   "id": "dd8aeded-398e-4b00-aee2-0aabe7c6b5fc",
   "metadata": {
    "execution": {
     "iopub.execute_input": "2024-12-01T03:11:21.951536Z",
     "iopub.status.busy": "2024-12-01T03:11:21.951400Z",
     "iopub.status.idle": "2024-12-01T03:11:21.975261Z",
     "shell.execute_reply": "2024-12-01T03:11:21.974094Z",
     "shell.execute_reply.started": "2024-12-01T03:11:21.951525Z"
    }
   },
   "outputs": [],
   "source": [
    "tasks, answers = generate_data(8)"
   ]
  },
  {
   "cell_type": "code",
   "execution_count": 5,
   "id": "92f02251-e7eb-4b54-91c2-c38d4afbdf66",
   "metadata": {
    "execution": {
     "iopub.execute_input": "2024-12-01T03:11:21.976001Z",
     "iopub.status.busy": "2024-12-01T03:11:21.975855Z",
     "iopub.status.idle": "2024-12-01T03:11:21.985036Z",
     "shell.execute_reply": "2024-12-01T03:11:21.984229Z",
     "shell.execute_reply.started": "2024-12-01T03:11:21.975990Z"
    }
   },
   "outputs": [
    {
     "name": "stdout",
     "output_type": "stream",
     "text": [
      "\n",
      "\n",
      "What is 34 * 19? 646\n",
      "\n",
      "\n",
      "What is 1 + 30? 31\n",
      "\n",
      "\n",
      "What is 2 * 0? 0\n",
      "\n",
      "\n",
      "What is 16 * 4? 64\n",
      "\n",
      "\n",
      "What is 31 - 45? -14\n",
      "\n",
      "\n",
      "What is 26 + 11? 37\n",
      "\n",
      "\n",
      "What is 27 * 27? 729\n",
      "\n",
      "\n",
      "What is 37 - 37? 0\n"
     ]
    }
   ],
   "source": [
    "for task, ans in zip(tasks, answers):\n",
    "    print(task, ans)"
   ]
  },
  {
   "cell_type": "code",
   "execution_count": 6,
   "id": "3a4745af-b9b8-414e-baee-35e8b276bf44",
   "metadata": {
    "execution": {
     "iopub.execute_input": "2024-12-01T03:11:21.986900Z",
     "iopub.status.busy": "2024-12-01T03:11:21.986688Z",
     "iopub.status.idle": "2024-12-01T03:11:21.994630Z",
     "shell.execute_reply": "2024-12-01T03:11:21.993782Z",
     "shell.execute_reply.started": "2024-12-01T03:11:21.986873Z"
    }
   },
   "outputs": [],
   "source": [
    "def exact_match_reward(responses, answers=None):\n",
    "    \"\"\"Reward if generated response contains correct answer.\"\"\"\n",
    "    rewards = []\n",
    "    pattern = r\"Result\\s*=\\s*(-?\\d+(?:\\.\\d+)?)\\s*<submit>\"  # generated by chatGPT\n",
    "    for response, answer in zip(responses, answers):\n",
    "        reward = 0.0\n",
    "        predicted_number = None\n",
    "        match_pattern = re.findall(pattern, response)\n",
    "        if match_pattern:\n",
    "            predicted_number = float(match_pattern[0])\n",
    "        if predicted_number is not None:\n",
    "            if np.abs(predicted_number - answer) < 0.01:\n",
    "                reward += 1.0\n",
    "        rewards.append(torch.tensor(reward))\n",
    "    return rewards"
   ]
  },
  {
   "cell_type": "markdown",
   "id": "bd165442-c3f5-4065-893c-986be1b35541",
   "metadata": {},
   "source": [
    "### model"
   ]
  },
  {
   "cell_type": "code",
   "execution_count": 7,
   "id": "ea0d444e-8570-4761-afea-0131ffac23da",
   "metadata": {
    "execution": {
     "iopub.execute_input": "2024-12-01T03:11:21.995355Z",
     "iopub.status.busy": "2024-12-01T03:11:21.995170Z",
     "iopub.status.idle": "2024-12-01T03:11:22.002496Z",
     "shell.execute_reply": "2024-12-01T03:11:22.001615Z",
     "shell.execute_reply.started": "2024-12-01T03:11:21.995338Z"
    }
   },
   "outputs": [],
   "source": [
    "os.environ['NCCL_P2P_DISABLE'] = '1'\n",
    "os.environ['NCCL_IB_DISABLE'] = '1'"
   ]
  },
  {
   "cell_type": "code",
   "execution_count": 8,
   "id": "54456708-c857-4319-8693-d83a787234b4",
   "metadata": {
    "execution": {
     "iopub.execute_input": "2024-12-01T03:11:22.003470Z",
     "iopub.status.busy": "2024-12-01T03:11:22.003277Z",
     "iopub.status.idle": "2024-12-01T03:11:26.387428Z",
     "shell.execute_reply": "2024-12-01T03:11:26.386526Z",
     "shell.execute_reply.started": "2024-12-01T03:11:22.003453Z"
    }
   },
   "outputs": [],
   "source": [
    "# set up models\n",
    "model_id = \"gpt2\"\n",
    "model = AutoModelForCausalLMWithValueHead.from_pretrained(model_id)\n",
    "ref_model = AutoModelForCausalLMWithValueHead.from_pretrained(model_id)\n",
    "tokenizer = AutoTokenizer.from_pretrained(model_id)\n",
    "tokenizer.pad_token = tokenizer.eos_token"
   ]
  },
  {
   "cell_type": "markdown",
   "id": "efe887bb-c037-4da8-98c7-b518dc6de231",
   "metadata": {},
   "source": [
    "### ppo training"
   ]
  },
  {
   "cell_type": "code",
   "execution_count": 10,
   "id": "02b7cd29-6752-4966-86c7-740f436ccd92",
   "metadata": {
    "execution": {
     "iopub.execute_input": "2024-12-01T03:13:55.209169Z",
     "iopub.status.busy": "2024-12-01T03:13:55.208841Z",
     "iopub.status.idle": "2024-12-01T03:13:55.216126Z",
     "shell.execute_reply": "2024-12-01T03:13:55.214431Z",
     "shell.execute_reply.started": "2024-12-01T03:13:55.209147Z"
    }
   },
   "outputs": [],
   "source": [
    "import os\n",
    "os.environ['HF_ALLOW_CODE_EVAL'] = '1'"
   ]
  },
  {
   "cell_type": "code",
   "execution_count": 12,
   "id": "d14b7b1c-afa0-4583-976e-a67253a312f6",
   "metadata": {
    "execution": {
     "iopub.execute_input": "2024-12-01T03:14:59.800494Z",
     "iopub.status.busy": "2024-12-01T03:14:59.799755Z",
     "iopub.status.idle": "2024-12-01T03:15:00.883406Z",
     "shell.execute_reply": "2024-12-01T03:15:00.881040Z",
     "shell.execute_reply.started": "2024-12-01T03:14:59.800433Z"
    }
   },
   "outputs": [
    {
     "ename": "KeyError",
     "evalue": "'inputs'",
     "output_type": "error",
     "traceback": [
      "\u001b[0;31m---------------------------------------------------------------------------\u001b[0m",
      "\u001b[0;31mKeyError\u001b[0m                                  Traceback (most recent call last)",
      "Cell \u001b[0;32mIn[12], line 1\u001b[0m\n\u001b[0;32m----> 1\u001b[0m py_tool \u001b[38;5;241m=\u001b[39m \u001b[43mload_tool\u001b[49m\u001b[43m(\u001b[49m\u001b[38;5;124;43m\"\u001b[39;49m\u001b[38;5;124;43mlvwerra/python-interpreter\u001b[39;49m\u001b[38;5;124;43m\"\u001b[39;49m\u001b[43m,\u001b[49m\u001b[43m \u001b[49m\u001b[43mrevision\u001b[49m\u001b[38;5;241;43m=\u001b[39;49m\u001b[38;5;124;43m'\u001b[39;49m\u001b[38;5;124;43mmain\u001b[39;49m\u001b[38;5;124;43m'\u001b[39;49m\u001b[43m)\u001b[49m\n",
      "File \u001b[0;32m~/anaconda3/lib/python3.10/site-packages/transformers/agents/tools.py:739\u001b[0m, in \u001b[0;36mload_tool\u001b[0;34m(task_or_repo_id, model_repo_id, token, **kwargs)\u001b[0m\n\u001b[1;32m    732\u001b[0m \u001b[38;5;28;01melse\u001b[39;00m:\n\u001b[1;32m    733\u001b[0m     logger\u001b[38;5;241m.\u001b[39mwarning_once(\n\u001b[1;32m    734\u001b[0m         \u001b[38;5;124mf\u001b[39m\u001b[38;5;124m\"\u001b[39m\u001b[38;5;124mYou\u001b[39m\u001b[38;5;124m'\u001b[39m\u001b[38;5;124mre loading a tool from the Hub from \u001b[39m\u001b[38;5;132;01m{\u001b[39;00mmodel_repo_id\u001b[38;5;132;01m}\u001b[39;00m\u001b[38;5;124m. Please make sure this is a source that you \u001b[39m\u001b[38;5;124m\"\u001b[39m\n\u001b[1;32m    735\u001b[0m         \u001b[38;5;124mf\u001b[39m\u001b[38;5;124m\"\u001b[39m\u001b[38;5;124mtrust as the code within that tool will be executed on your machine. Always verify the code of \u001b[39m\u001b[38;5;124m\"\u001b[39m\n\u001b[1;32m    736\u001b[0m         \u001b[38;5;124mf\u001b[39m\u001b[38;5;124m\"\u001b[39m\u001b[38;5;124mthe tools that you load. We recommend specifying a `revision` to ensure you\u001b[39m\u001b[38;5;124m'\u001b[39m\u001b[38;5;124mre loading the \u001b[39m\u001b[38;5;124m\"\u001b[39m\n\u001b[1;32m    737\u001b[0m         \u001b[38;5;124mf\u001b[39m\u001b[38;5;124m\"\u001b[39m\u001b[38;5;124mcode that you have checked.\u001b[39m\u001b[38;5;124m\"\u001b[39m\n\u001b[1;32m    738\u001b[0m     )\n\u001b[0;32m--> 739\u001b[0m     \u001b[38;5;28;01mreturn\u001b[39;00m \u001b[43mTool\u001b[49m\u001b[38;5;241;43m.\u001b[39;49m\u001b[43mfrom_hub\u001b[49m\u001b[43m(\u001b[49m\u001b[43mtask_or_repo_id\u001b[49m\u001b[43m,\u001b[49m\u001b[43m \u001b[49m\u001b[43mmodel_repo_id\u001b[49m\u001b[38;5;241;43m=\u001b[39;49m\u001b[43mmodel_repo_id\u001b[49m\u001b[43m,\u001b[49m\u001b[43m \u001b[49m\u001b[43mtoken\u001b[49m\u001b[38;5;241;43m=\u001b[39;49m\u001b[43mtoken\u001b[49m\u001b[43m,\u001b[49m\u001b[43m \u001b[49m\u001b[38;5;241;43m*\u001b[39;49m\u001b[38;5;241;43m*\u001b[39;49m\u001b[43mkwargs\u001b[49m\u001b[43m)\u001b[49m\n",
      "File \u001b[0;32m~/anaconda3/lib/python3.10/site-packages/transformers/agents/tools.py:344\u001b[0m, in \u001b[0;36mTool.from_hub\u001b[0;34m(cls, repo_id, model_repo_id, token, **kwargs)\u001b[0m\n\u001b[1;32m    338\u001b[0m     logger\u001b[38;5;241m.\u001b[39mwarning(\n\u001b[1;32m    339\u001b[0m         \u001b[38;5;124mf\u001b[39m\u001b[38;5;124m\"\u001b[39m\u001b[38;5;132;01m{\u001b[39;00mtool_class\u001b[38;5;241m.\u001b[39m\u001b[38;5;18m__name__\u001b[39m\u001b[38;5;132;01m}\u001b[39;00m\u001b[38;5;124m implements a different description in its configuration and class. Using the \u001b[39m\u001b[38;5;124m\"\u001b[39m\n\u001b[1;32m    340\u001b[0m         \u001b[38;5;124m\"\u001b[39m\u001b[38;5;124mtool configuration description.\u001b[39m\u001b[38;5;124m\"\u001b[39m\n\u001b[1;32m    341\u001b[0m     )\n\u001b[1;32m    342\u001b[0m     tool_class\u001b[38;5;241m.\u001b[39mdescription \u001b[38;5;241m=\u001b[39m custom_tool[\u001b[38;5;124m\"\u001b[39m\u001b[38;5;124mdescription\u001b[39m\u001b[38;5;124m\"\u001b[39m]\n\u001b[0;32m--> 344\u001b[0m \u001b[38;5;28;01mif\u001b[39;00m tool_class\u001b[38;5;241m.\u001b[39minputs \u001b[38;5;241m!=\u001b[39m \u001b[43mcustom_tool\u001b[49m\u001b[43m[\u001b[49m\u001b[38;5;124;43m\"\u001b[39;49m\u001b[38;5;124;43minputs\u001b[39;49m\u001b[38;5;124;43m\"\u001b[39;49m\u001b[43m]\u001b[49m:\n\u001b[1;32m    345\u001b[0m     tool_class\u001b[38;5;241m.\u001b[39minputs \u001b[38;5;241m=\u001b[39m custom_tool[\u001b[38;5;124m\"\u001b[39m\u001b[38;5;124minputs\u001b[39m\u001b[38;5;124m\"\u001b[39m]\n\u001b[1;32m    346\u001b[0m \u001b[38;5;28;01mif\u001b[39;00m tool_class\u001b[38;5;241m.\u001b[39moutput_type \u001b[38;5;241m!=\u001b[39m custom_tool[\u001b[38;5;124m\"\u001b[39m\u001b[38;5;124moutput_type\u001b[39m\u001b[38;5;124m\"\u001b[39m]:\n",
      "\u001b[0;31mKeyError\u001b[0m: 'inputs'"
     ]
    }
   ],
   "source": [
    "py_tool = load_tool(\"lvwerra/python-interpreter\", revision='main')"
   ]
  },
  {
   "cell_type": "code",
   "execution_count": null,
   "id": "82a03769-1d03-4593-a37f-dec366263b79",
   "metadata": {
    "execution": {
     "iopub.status.busy": "2024-12-01T03:11:27.989215Z",
     "iopub.status.idle": "2024-12-01T03:11:27.989390Z",
     "shell.execute_reply": "2024-12-01T03:11:27.989311Z",
     "shell.execute_reply.started": "2024-12-01T03:11:27.989304Z"
    }
   },
   "outputs": [],
   "source": [
    "# trainer\n",
    "ppo_config = PPOConfig(\n",
    "    batch_size=256,\n",
    "    learning_rate=1.41e-5,\n",
    "    mini_batch_size=64,\n",
    "    output_dir='.'\n",
    "    # log_with=\"wandb\",\n",
    ")\n",
    "ppo_trainer = PPOTrainer(ppo_config, model, ref_model, tokenizer)"
   ]
  }
 ],
 "metadata": {
  "kernelspec": {
   "display_name": "Python 3 (ipykernel)",
   "language": "python",
   "name": "python3"
  },
  "language_info": {
   "codemirror_mode": {
    "name": "ipython",
    "version": 3
   },
   "file_extension": ".py",
   "mimetype": "text/x-python",
   "name": "python",
   "nbconvert_exporter": "python",
   "pygments_lexer": "ipython3",
   "version": "3.10.13"
  }
 },
 "nbformat": 4,
 "nbformat_minor": 5
}
