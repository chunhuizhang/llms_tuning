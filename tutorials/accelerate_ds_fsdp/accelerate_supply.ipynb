{
 "cells": [
  {
   "cell_type": "markdown",
   "id": "f6cf1b2f-0fe6-46c5-b7c4-b18b5b6f7346",
   "metadata": {},
   "source": [
    "- `accelerate config default`\n",
    "    - `distributed_type: MULTI_GPU`\n",
    "    - `$HF_HOME/accelerate/default_config.yaml`\n",
    "- `accelerate env`：打印运行环境\n",
    "- `accelerate test`：环境测试；"
   ]
  }
 ],
 "metadata": {
  "kernelspec": {
   "display_name": "Python 3 (ipykernel)",
   "language": "python",
   "name": "python3"
  },
  "language_info": {
   "codemirror_mode": {
    "name": "ipython",
    "version": 3
   },
   "file_extension": ".py",
   "mimetype": "text/x-python",
   "name": "python",
   "nbconvert_exporter": "python",
   "pygments_lexer": "ipython3",
   "version": "3.10.13"
  }
 },
 "nbformat": 4,
 "nbformat_minor": 5
}
