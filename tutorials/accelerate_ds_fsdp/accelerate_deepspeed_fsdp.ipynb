{
 "cells": [
  {
   "cell_type": "code",
   "execution_count": 5,
   "id": "23462247-9a6e-47cc-8c43-996fdf57eea6",
   "metadata": {
    "execution": {
     "iopub.execute_input": "2024-07-29T16:09:02.303166Z",
     "iopub.status.busy": "2024-07-29T16:09:02.301863Z",
     "iopub.status.idle": "2024-07-29T16:09:02.308631Z",
     "shell.execute_reply": "2024-07-29T16:09:02.307841Z",
     "shell.execute_reply.started": "2024-07-29T16:09:02.303112Z"
    }
   },
   "outputs": [],
   "source": [
    "from IPython.display import Image"
   ]
  },
  {
   "cell_type": "markdown",
   "id": "cb388c6e-9360-4059-917b-55ccaa6c71f6",
   "metadata": {},
   "source": [
    "- accelerate 的封装之下主要是学习 ds 和 fsdp 的参数配置；\n",
    "- distributed_type\n",
    "    - DEEPSPEED\n",
    "    - fsdp"
   ]
  },
  {
   "cell_type": "markdown",
   "id": "e480854c-6d7c-4c92-85e6-1701544af42c",
   "metadata": {},
   "source": [
    "## DeepSpeed (存储的优化）"
   ]
  },
  {
   "cell_type": "markdown",
   "id": "e1bf9dec-2c99-48f9-83e4-6830efc7a8e5",
   "metadata": {},
   "source": [
    "- `ds_report` (cli)\n",
    "- https://huggingface.co/docs/accelerate/usage_guides/deepspeed\n",
    "- activation：激活值\n",
    "    - backward 过程中使用链式法则计算梯度时会用到。有了它算梯度会更快，但它不是必须存储的，因为可以通过重新做Forward来算它（gradient checkpointing）。"
   ]
  },
  {
   "cell_type": "markdown",
   "id": "1d66f139-06be-49a1-8367-bf9402cc8956",
   "metadata": {},
   "source": [
    "### offload"
   ]
  },
  {
   "cell_type": "markdown",
   "id": "b46c1d35-f7a6-48f1-9cb5-8dd2e4e7da32",
   "metadata": {},
   "source": [
    "- ZeRO-Offload uses DeepSpeed’s highly optimized CPU implementation of Adam called **DeepSpeedCPUAdam**.\n",
    "    - https://github.com/microsoft/DeepSpeed/tree/master/deepspeed/ops/adam\n",
    "- offload_{optimizer|param}：可以比较有效地缓解 gpu 显存的压力（Only applicable with ZeRO >= Stage-2.）\n",
    "    - none\n",
    "    - cpu: cpu memory\n",
    "    - nvme:"
   ]
  },
  {
   "cell_type": "markdown",
   "id": "80b783af-1619-401a-869b-6fa63cca4d35",
   "metadata": {},
   "source": [
    "### mixed-precision"
   ]
  },
  {
   "cell_type": "code",
   "execution_count": 8,
   "id": "a228cf46-2315-4618-970a-0525100d21c8",
   "metadata": {
    "execution": {
     "iopub.execute_input": "2024-07-30T11:46:35.994936Z",
     "iopub.status.busy": "2024-07-30T11:46:35.994351Z",
     "iopub.status.idle": "2024-07-30T11:46:36.001187Z",
     "shell.execute_reply": "2024-07-30T11:46:36.000766Z",
     "shell.execute_reply.started": "2024-07-30T11:46:35.994892Z"
    }
   },
   "outputs": [
    {
     "data": {
      "text/html": [
       "<img src=\"http://121.199.45.168:13011/img/3_21.png\" width=\"300\"/>"
      ],
      "text/plain": [
       "<IPython.core.display.Image object>"
      ]
     },
     "execution_count": 8,
     "metadata": {},
     "output_type": "execute_result"
    }
   ],
   "source": [
    "Image(url='http://121.199.45.168:13011/img/3_21.png', width=300)"
   ]
  },
  {
   "cell_type": "markdown",
   "id": "b77545ce-b52f-4791-a63e-0b2bf97601d4",
   "metadata": {},
   "source": [
    "### stage"
   ]
  },
  {
   "cell_type": "code",
   "execution_count": 6,
   "id": "eca14339-4cca-4d43-ba78-53cf74d2b4ee",
   "metadata": {
    "execution": {
     "iopub.execute_input": "2024-07-29T16:09:11.819304Z",
     "iopub.status.busy": "2024-07-29T16:09:11.818821Z",
     "iopub.status.idle": "2024-07-29T16:09:11.826581Z",
     "shell.execute_reply": "2024-07-29T16:09:11.826029Z",
     "shell.execute_reply.started": "2024-07-29T16:09:11.819267Z"
    }
   },
   "outputs": [
    {
     "data": {
      "text/html": [
       "<img src=\"https://www.microsoft.com/en-us/research/uploads/prodnew/2020/02/DeepSpeed-Image-1.png\" width=\"500\"/>"
      ],
      "text/plain": [
       "<IPython.core.display.Image object>"
      ]
     },
     "execution_count": 6,
     "metadata": {},
     "output_type": "execute_result"
    }
   ],
   "source": [
    "Image(url='https://www.microsoft.com/en-us/research/uploads/prodnew/2020/02/DeepSpeed-Image-1.png', width=500)"
   ]
  },
  {
   "cell_type": "markdown",
   "id": "76d045cf-e1c1-412b-b23a-251bc24b2b19",
   "metadata": {},
   "source": [
    "- OS: 12, P/G: 2;\n",
    "    - 中间值\n",
    "        - Parameter: fp16, 2\n",
    "        - Gradient: fp16, 2\n",
    "    - 必存（OS，Adam optimizer 优化器有关）:\n",
    "        - **parameter**: fp32, 4\n",
    "        - momentum: fp32, 4\n",
    "        - variance: fp32, 4\n",
    "- `zero_stage`: \n",
    "    - `[0]` Disabled,\n",
    "    - `[1]` OS, optimizer state partitioning,\n",
    "    - `[2]` OS+G, optimizer+gradient state partitioning and\n",
    "    - `[3]` OS+G+P, optimizer+gradient+parameter partitioning"
   ]
  },
  {
   "cell_type": "markdown",
   "id": "21eb897b-cf90-47c7-b722-e9eb407e25ee",
   "metadata": {},
   "source": [
    "### DeepSpeedPlugin"
   ]
  },
  {
   "cell_type": "code",
   "execution_count": 1,
   "id": "ad82ac2a-ca9e-4949-8914-7e780328cf0e",
   "metadata": {
    "execution": {
     "iopub.execute_input": "2024-07-29T14:44:46.235623Z",
     "iopub.status.busy": "2024-07-29T14:44:46.234450Z",
     "iopub.status.idle": "2024-07-29T14:44:46.241351Z",
     "shell.execute_reply": "2024-07-29T14:44:46.240088Z",
     "shell.execute_reply.started": "2024-07-29T14:44:46.235584Z"
    }
   },
   "outputs": [],
   "source": [
    "from accelerate import DeepSpeedPlugin"
   ]
  },
  {
   "cell_type": "markdown",
   "id": "f05dd78b-9fee-40ae-917e-98c13bca138a",
   "metadata": {
    "execution": {
     "iopub.execute_input": "2024-07-29T14:44:49.173437Z",
     "iopub.status.busy": "2024-07-29T14:44:49.172425Z",
     "iopub.status.idle": "2024-07-29T14:44:49.477772Z",
     "shell.execute_reply": "2024-07-29T14:44:49.476431Z",
     "shell.execute_reply.started": "2024-07-29T14:44:49.173389Z"
    }
   },
   "source": [
    "- DeepSpeedPlugin 参数配置\n",
    "    - gradient_accumulation_steps: int = None,\n",
    "    - gradient_clipping: float = None,\n",
    "        - 1.0\n",
    "    - zero_stage: 2"
   ]
  },
  {
   "cell_type": "markdown",
   "id": "38fc125b-72e4-4c1c-ab59-7bb9566dc67f",
   "metadata": {},
   "source": [
    "## running exceptions"
   ]
  },
  {
   "cell_type": "markdown",
   "id": "80e31f45-71ee-4ea4-95c3-56f64a09a283",
   "metadata": {},
   "source": [
    "- cannot find -lcurand and -lcudart\n",
    "    - https://github.com/microsoft/DeepSpeed/issues/3929\n",
    "    ```\n",
    "    cd /home/asdf/.local/lib/python3.10/site-packages/torch/lib\n",
    "    ln -s /usr/local/cuda/lib64/libcurand.so .\n",
    "    ```"
   ]
  }
 ],
 "metadata": {
  "kernelspec": {
   "display_name": "Python 3 (ipykernel)",
   "language": "python",
   "name": "python3"
  },
  "language_info": {
   "codemirror_mode": {
    "name": "ipython",
    "version": 3
   },
   "file_extension": ".py",
   "mimetype": "text/x-python",
   "name": "python",
   "nbconvert_exporter": "python",
   "pygments_lexer": "ipython3",
   "version": "3.10.13"
  }
 },
 "nbformat": 4,
 "nbformat_minor": 5
}
