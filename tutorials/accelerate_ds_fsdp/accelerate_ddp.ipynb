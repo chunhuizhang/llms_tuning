{
 "cells": [
  {
   "cell_type": "markdown",
   "id": "2e1097c7-e0a6-4dcc-a039-8470795c1e29",
   "metadata": {},
   "source": [
    "### basics"
   ]
  },
  {
   "cell_type": "markdown",
   "id": "a1c7db6f-eb05-46ec-a681-5c75b42d1812",
   "metadata": {},
   "source": [
    "- accelerate: (accelerate config)\n",
    "    - backend\n",
    "        - default ddp: 提升数据的吞吐量\n",
    "            - `self.accelerator.ddp_handler = DistributedDataParallelKwargs(**kwargs)`\n",
    "        - deepspeed, fsdp：https://huggingface.co/blog/deepspeed-to-fsdp-and-back\n",
    "        - megtron-lm\n",
    "- accelerate ddp\n",
    "    - 一般用法（相对底层），稍加改动；\n",
    "        - https://huggingface.co/docs/transformers/accelerate\n",
    "    - with `transformers` (`Trainer`) or `trl`（`SFTTrainer`）：基本上不需要改动；\n",
    "        - `accelerate lanuch`"
   ]
  },
  {
   "cell_type": "markdown",
   "id": "5f335673-536e-45e7-86f0-16c9331d3edd",
   "metadata": {},
   "source": [
    "### accelerate config (cli)"
   ]
  },
  {
   "cell_type": "markdown",
   "id": "e91615a1-a8c1-4f1c-ad3e-f0f4829b2031",
   "metadata": {},
   "source": [
    "- `cat $HF_HOME/accelerate/default_config.yaml`"
   ]
  },
  {
   "cell_type": "markdown",
   "id": "aeebafed-f949-4ea9-b68a-1dabbe8d2118",
   "metadata": {},
   "source": [
    "### accelerate launch (cli)"
   ]
  },
  {
   "cell_type": "markdown",
   "id": "ba67c809-3bbc-4471-a252-26b9a45e0603",
   "metadata": {},
   "source": [
    "- `accelerate launch -h`\n",
    "\n",
    "`accelerate launch --num_processes 2 --mixed_precision bf16 training_scripts.py`"
   ]
  }
 ],
 "metadata": {
  "kernelspec": {
   "display_name": "Python 3 (ipykernel)",
   "language": "python",
   "name": "python3"
  },
  "language_info": {
   "codemirror_mode": {
    "name": "ipython",
    "version": 3
   },
   "file_extension": ".py",
   "mimetype": "text/x-python",
   "name": "python",
   "nbconvert_exporter": "python",
   "pygments_lexer": "ipython3",
   "version": "3.10.13"
  }
 },
 "nbformat": 4,
 "nbformat_minor": 5
}
