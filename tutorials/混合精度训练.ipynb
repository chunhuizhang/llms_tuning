{
 "cells": [
  {
   "cell_type": "markdown",
   "id": "b78e8f1a-741b-47e2-afc8-020f37a21214",
   "metadata": {},
   "source": [
    "- 结论\n",
    "    - fp32（master copy） & fp16，两份权重\n",
    "        - 4 bytes * number of parameters for fp32 training\n",
    "        - 6 bytes * number of parameters for mixed precision training\n",
    "        - FP16 格式的权重用于前向传播和反向传播\n",
    "            - 激活值、梯度等中间结果都使用FP16存储,这些通常占据了训练过程中的大部分显存\n",
    "        - FP32 格式的主权重用于参数更新（fp16 精度不够，容易把 weight 下溢为0）\n",
    "        - 总的来说,FP16的中间结果节省的显存远超过额外存储FP32主权重所需的显存\n",
    "    - 加快训练速度 & performance 未必会降级（也许会提升）\n",
    "        - 减少显存使用,允许在相同硬件上训练更大的模型或使用更大的batch size\n",
    "        - 减少显存使用,允许在相同硬件上训练更大的模型或使用更大的batch size\n",
    "        - 保持准确性,通过在关键步骤中使用FP32\n",
    "- 参考\n",
    "    - https://towardsdatascience.com/understanding-mixed-precision-training-4b246679c7c4\n",
    "    - https://sebastianraschka.com/blog/2023/llm-mixed-precision-copy.html"
   ]
  },
  {
   "cell_type": "markdown",
   "id": "b76fda38-0c62-466f-835e-5333e990c5b5",
   "metadata": {},
   "source": [
    "https://docs.nvidia.com/deeplearning/performance/mixed-precision-training/index.html\n",
    "\n",
    "1. Maintain a primary copy of weights in FP32.\n",
    "2. For each iteration:\n",
    "    - Make an FP16 copy of the weights.\n",
    "    - Forward propagation (FP16 weights and activations).\n",
    "    - Multiply the resulting loss with the scaling factor S.\n",
    "    - Backward propagation (FP16 weights, activations, and their gradients).\n",
    "    - Multiply the weight gradient with 1/S.\n",
    "    - Complete the weight update (including gradient clipping, etc.)."
   ]
  }
 ],
 "metadata": {
  "kernelspec": {
   "display_name": "Python 3 (ipykernel)",
   "language": "python",
   "name": "python3"
  },
  "language_info": {
   "codemirror_mode": {
    "name": "ipython",
    "version": 3
   },
   "file_extension": ".py",
   "mimetype": "text/x-python",
   "name": "python",
   "nbconvert_exporter": "python",
   "pygments_lexer": "ipython3",
   "version": "3.10.13"
  }
 },
 "nbformat": 4,
 "nbformat_minor": 5
}
