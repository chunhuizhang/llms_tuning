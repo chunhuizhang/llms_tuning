{
 "cells": [
  {
   "cell_type": "markdown",
   "id": "60678ebe-2a86-4c35-aa13-5c28ed452cc1",
   "metadata": {},
   "source": [
    "> 避免取之尽锱铢 用之如泥沙\n",
    "> > eds(easy dataset)，需要有分析和insights\n",
    "\n",
    "- https://buaa-act.feishu.cn/wiki/KY9xwTGs1iqHrRkjXBwcZP9WnL9\n",
    "    - https://mmh1.top/#/ai-tutorial\n",
    "- note\n",
    "    - 默认使用gpt-4计算token length？\n",
    "- datasets\n",
    "    - https://huggingface.co/datasets/Conard/fortune-telling\n",
    "- docker 本地部署\n",
    "    - http://localhost:1717/"
   ]
  },
  {
   "cell_type": "markdown",
   "id": "ffefcb55-8093-45fa-b3e2-ffbd1c1e3b0f",
   "metadata": {},
   "source": [
    "### alpaca & sharegpt"
   ]
  },
  {
   "cell_type": "markdown",
   "id": "c1bf2eb6-adcd-418f-a859-2498a9b62100",
   "metadata": {},
   "source": [
    "- alpaca\n",
    "    - instruction, input, output, system\n",
    "- sharegpt: messages\n",
    "    - role: user\n",
    "    - role: assistant\n",
    "- instruction & output => user & content?"
   ]
  },
  {
   "cell_type": "markdown",
   "id": "3e903310-d12b-48d1-bdee-68f1d075e1da",
   "metadata": {},
   "source": [
    "### EDS arch"
   ]
  },
  {
   "cell_type": "markdown",
   "id": "dfab10c8-fc48-4da1-94ae-9a658024c0c7",
   "metadata": {},
   "source": [
    "https://docs.easy-dataset.com/\n",
    "- tasks\n",
    "    - file-processing.js\n",
    "    - question-generation.js\n",
    "    - answer-generation.js"
   ]
  },
  {
   "cell_type": "markdown",
   "id": "440e5665-c35b-4200-a394-629753e85679",
   "metadata": {},
   "source": [
    "## llm processing (prompts)"
   ]
  },
  {
   "cell_type": "markdown",
   "id": "2ccd7e5a-c2b4-47c1-9bad-8a48c2ce8623",
   "metadata": {},
   "source": [
    "- https://github.com/ConardLi/easy-dataset/tree/main/lib/llm/prompts"
   ]
  },
  {
   "cell_type": "markdown",
   "id": "28072774-5fd3-4a68-a3a2-fe23d2b3c735",
   "metadata": {},
   "source": [
    "### split chunks"
   ]
  },
  {
   "cell_type": "markdown",
   "id": "befc09d3-14c0-4304-9ccc-0a7ef30a82e0",
   "metadata": {},
   "source": [
    "### (M)GA (问题生成)"
   ]
  },
  {
   "cell_type": "markdown",
   "id": "8a8536d3-4584-4868-a0ca-2d604b5fc167",
   "metadata": {},
   "source": [
    "> Massive Genre-Audience\n",
    "- 批量生成问题 vs. 自动提取问题\n",
    "    - question.js vs. distillQuestions.js"
   ]
  },
  {
   "cell_type": "markdown",
   "id": "d2c18faf-631d-4210-b2bc-b6d6c7f15ba1",
   "metadata": {},
   "source": [
    "### 答案生成"
   ]
  },
  {
   "cell_type": "markdown",
   "id": "b7aa5f76-7984-4ac2-8ec1-36846394715e",
   "metadata": {},
   "source": [
    "- \"批量构造数据集\" vs. \"自动生成数据集\""
   ]
  }
 ],
 "metadata": {
  "kernelspec": {
   "display_name": "Python 3 (ipykernel)",
   "language": "python",
   "name": "python3"
  },
  "language_info": {
   "codemirror_mode": {
    "name": "ipython",
    "version": 3
   },
   "file_extension": ".py",
   "mimetype": "text/x-python",
   "name": "python",
   "nbconvert_exporter": "python",
   "pygments_lexer": "ipython3",
   "version": "3.10.0"
  }
 },
 "nbformat": 4,
 "nbformat_minor": 5
}
