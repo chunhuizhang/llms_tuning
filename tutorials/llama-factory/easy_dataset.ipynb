{
 "cells": [
  {
   "cell_type": "markdown",
   "id": "60678ebe-2a86-4c35-aa13-5c28ed452cc1",
   "metadata": {},
   "source": [
    "> eds\n",
    "\n",
    "- https://buaa-act.feishu.cn/wiki/KY9xwTGs1iqHrRkjXBwcZP9WnL9"
   ]
  }
 ],
 "metadata": {
  "kernelspec": {
   "display_name": "Python 3 (ipykernel)",
   "language": "python",
   "name": "python3"
  },
  "language_info": {
   "codemirror_mode": {
    "name": "ipython",
    "version": 3
   },
   "file_extension": ".py",
   "mimetype": "text/x-python",
   "name": "python",
   "nbconvert_exporter": "python",
   "pygments_lexer": "ipython3",
   "version": "3.10.0"
  }
 },
 "nbformat": 4,
 "nbformat_minor": 5
}
