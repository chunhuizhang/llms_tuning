{
 "cells": [
  {
   "cell_type": "markdown",
   "id": "a85e9154-dc6b-4ce0-a4fb-b346d5e4eb0f",
   "metadata": {},
   "source": [
    "### data"
   ]
  },
  {
   "cell_type": "markdown",
   "id": "81c7c1d5-347a-4933-9d69-4a9fe61241f9",
   "metadata": {},
   "source": [
    "- `dataset_info.json`: https://github.com/hiyouga/LLaMA-Factory/blob/main/data/dataset_info.json\n",
    "    - identity.json "
   ]
  }
 ],
 "metadata": {
  "kernelspec": {
   "display_name": "Python 3 (ipykernel)",
   "language": "python",
   "name": "python3"
  },
  "language_info": {
   "codemirror_mode": {
    "name": "ipython",
    "version": 3
   },
   "file_extension": ".py",
   "mimetype": "text/x-python",
   "name": "python",
   "nbconvert_exporter": "python",
   "pygments_lexer": "ipython3",
   "version": "3.10.13"
  }
 },
 "nbformat": 4,
 "nbformat_minor": 5
}
