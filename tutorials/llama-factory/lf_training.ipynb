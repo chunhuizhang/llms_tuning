{
 "cells": [
  {
   "cell_type": "markdown",
   "id": "980657db-ba0a-4f5e-a75b-8b66abf5411b",
   "metadata": {},
   "source": [
    "```shell\n",
    "llamafactory-cli version\n",
    "```\n",
    "- https://llamafactory.cn/"
   ]
  },
  {
   "cell_type": "markdown",
   "id": "e3c84f9f-6d69-491e-a5b7-b55b5fcb49cc",
   "metadata": {},
   "source": [
    "### tasks & dataset preparation"
   ]
  },
  {
   "cell_type": "markdown",
   "id": "d6b246dc-577f-4f56-b612-9846f27c2517",
   "metadata": {},
   "source": [
    "- 数据集的格式\n",
    "    -  alpaca：结构简单、适用于单轮任务、指令微调\n",
    "    -  sharegpt：支持多轮对话与工具调用\n",
    "-  dataset_info.json: 配置路径，webui 识别；"
   ]
  },
  {
   "cell_type": "markdown",
   "id": "b251f658-f069-4065-81b4-31df02117f53",
   "metadata": {},
   "source": [
    "### 训练参数"
   ]
  },
  {
   "cell_type": "markdown",
   "id": "9e95c687-bb94-45fc-88f3-07c6d9fd5103",
   "metadata": {},
   "source": [
    "- epochs\n",
    "- learning rate\n",
    "    - lora：5e-5 ~ 4e-5，全参数微调（1e-5）\n",
    "        - 一般微调任务（5e-5），保守微调（4e-5）\n",
    "    - 小数据集不要用大学习率\n",
    "- training batch size\n",
    "    - 大batch_size搭配大学习率\n",
    "    - 小显存 + ga 实现大 batch size\n",
    "- 阶段长度（cutoff length）：p99，p95（依赖于数据洞察，对数据的理解）\n",
    "    - https://tiktokenizer.vercel.app/\n",
    "    - 序列长度会影响 kv cache，也会影响 training 时的 activation 对显存的消耗\n",
    "- lora\n",
    "    - rank: 8/16"
   ]
  },
  {
   "cell_type": "markdown",
   "id": "1a502bc9-e2e5-47b7-aa2f-fa03712cf678",
   "metadata": {},
   "source": [
    "### training"
   ]
  },
  {
   "cell_type": "markdown",
   "id": "de9d1b62-e902-48cf-a199-3e5e758999d2",
   "metadata": {},
   "source": [
    "- checkpoints 保存的文件夹\n",
    "    - `saves/`: ln -s 一个专门放 checkpoints 的位置"
   ]
  },
  {
   "cell_type": "markdown",
   "id": "8a340a3d-4e6c-4962-8faf-fbadb15ad110",
   "metadata": {},
   "source": [
    "### 显存估算"
   ]
  },
  {
   "cell_type": "markdown",
   "id": "12452446-cab2-47f9-a7c6-1e1403cfa7f8",
   "metadata": {},
   "source": [
    "- lora adapter\n",
    "    - lora 层数 * rank * （输入维度 + 输出维度） * 2B\n",
    "        - 输入维度 * rank\n",
    "        - rank * 输出维度"
   ]
  }
 ],
 "metadata": {
  "kernelspec": {
   "display_name": "Python 3 (ipykernel)",
   "language": "python",
   "name": "python3"
  },
  "language_info": {
   "codemirror_mode": {
    "name": "ipython",
    "version": 3
   },
   "file_extension": ".py",
   "mimetype": "text/x-python",
   "name": "python",
   "nbconvert_exporter": "python",
   "pygments_lexer": "ipython3",
   "version": "3.10.0"
  }
 },
 "nbformat": 4,
 "nbformat_minor": 5
}
