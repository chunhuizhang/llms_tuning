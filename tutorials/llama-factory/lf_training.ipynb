{
 "cells": [
  {
   "cell_type": "markdown",
   "id": "e3c84f9f-6d69-491e-a5b7-b55b5fcb49cc",
   "metadata": {},
   "source": [
    "### tasks & dataset preparation"
   ]
  },
  {
   "cell_type": "markdown",
   "id": "d6b246dc-577f-4f56-b612-9846f27c2517",
   "metadata": {},
   "source": [
    "- 数据集的格式\n",
    "    -  alpaca：结构简单、适用于单轮任务、指令微调\n",
    "    -  sharegpt：支持多轮对话与工具调用"
   ]
  },
  {
   "cell_type": "markdown",
   "id": "b251f658-f069-4065-81b4-31df02117f53",
   "metadata": {},
   "source": [
    "### 训练参数"
   ]
  },
  {
   "cell_type": "markdown",
   "id": "9e95c687-bb94-45fc-88f3-07c6d9fd5103",
   "metadata": {},
   "source": [
    "- epochs\n",
    "- learning rate\n",
    "- training batch size\n",
    "- lora"
   ]
  }
 ],
 "metadata": {
  "kernelspec": {
   "display_name": "Python 3 (ipykernel)",
   "language": "python",
   "name": "python3"
  },
  "language_info": {
   "codemirror_mode": {
    "name": "ipython",
    "version": 3
   },
   "file_extension": ".py",
   "mimetype": "text/x-python",
   "name": "python",
   "nbconvert_exporter": "python",
   "pygments_lexer": "ipython3",
   "version": "3.10.0"
  }
 },
 "nbformat": 4,
 "nbformat_minor": 5
}
