{
 "cells": [
  {
   "cell_type": "markdown",
   "id": "bd117261-8809-4fc4-9e8f-a01d0a1be0fd",
   "metadata": {},
   "source": [
    "### 显存优化技巧"
   ]
  },
  {
   "cell_type": "markdown",
   "id": "06ea3d54-d5c8-4ff5-832b-9bc571a63630",
   "metadata": {},
   "source": [
    "- liger-kernel\n",
    "    - 将 transformer 的关键操作重写为 triton 内核，通过内核的 fusion（融合），将多个操作合并为1个操作步骤"
   ]
  }
 ],
 "metadata": {
  "kernelspec": {
   "display_name": "Python 3 (ipykernel)",
   "language": "python",
   "name": "python3"
  },
  "language_info": {
   "codemirror_mode": {
    "name": "ipython",
    "version": 3
   },
   "file_extension": ".py",
   "mimetype": "text/x-python",
   "name": "python",
   "nbconvert_exporter": "python",
   "pygments_lexer": "ipython3",
   "version": "3.10.0"
  }
 },
 "nbformat": 4,
 "nbformat_minor": 5
}
