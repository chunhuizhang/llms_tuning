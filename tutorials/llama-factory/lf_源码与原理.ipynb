{
 "cells": [
  {
   "cell_type": "markdown",
   "id": "8db6a97f-8344-40c1-948f-265657e34f6e",
   "metadata": {},
   "source": [
    "### loss mask"
   ]
  },
  {
   "cell_type": "markdown",
   "id": "c340ee7a-8ca1-4308-a91f-0cfb35794275",
   "metadata": {},
   "source": [
    "### chat_template register"
   ]
  },
  {
   "cell_type": "markdown",
   "id": "3ec2a7ac-c185-419e-97a0-a1215adf3e44",
   "metadata": {},
   "source": [
    "- `src/llamafactory/data/template.py`"
   ]
  }
 ],
 "metadata": {
  "kernelspec": {
   "display_name": "Python 3 (ipykernel)",
   "language": "python",
   "name": "python3"
  },
  "language_info": {
   "codemirror_mode": {
    "name": "ipython",
    "version": 3
   },
   "file_extension": ".py",
   "mimetype": "text/x-python",
   "name": "python",
   "nbconvert_exporter": "python",
   "pygments_lexer": "ipython3",
   "version": "3.10.0"
  }
 },
 "nbformat": 4,
 "nbformat_minor": 5
}
