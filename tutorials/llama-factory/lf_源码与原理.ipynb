{
 "cells": [
  {
   "cell_type": "markdown",
   "id": "913fafbe-5e2f-4883-988f-cd5a61cb6a41",
   "metadata": {},
   "source": [
    "### base model vs. instruct model"
   ]
  },
  {
   "cell_type": "markdown",
   "id": "8db6a97f-8344-40c1-948f-265657e34f6e",
   "metadata": {},
   "source": [
    "### loss mask"
   ]
  },
  {
   "cell_type": "markdown",
   "id": "c340ee7a-8ca1-4308-a91f-0cfb35794275",
   "metadata": {},
   "source": [
    "### chat_template register"
   ]
  },
  {
   "cell_type": "markdown",
   "id": "3ec2a7ac-c185-419e-97a0-a1215adf3e44",
   "metadata": {},
   "source": [
    "- `src/llamafactory/data/template.py`"
   ]
  },
  {
   "cell_type": "markdown",
   "id": "3e6dcd80-2f38-40c7-ba91-04616ef748f2",
   "metadata": {},
   "source": [
    "### utils & tools"
   ]
  },
  {
   "cell_type": "markdown",
   "id": "57a3da44-ad57-4354-a745-d8c1b8ebd134",
   "metadata": {},
   "source": [
    "- scripts/stat_utils/length_cdf.py\n",
    "    - Calculate the distribution of the input lengths in the dataset.\n",
    "    - python length_cdf.py --model_name_or_path path_to_model --dataset alpaca_en_demo --template default\n",
    "    - `torchrun --nproc_per_node=1 scripts/stat_utils/length_cdf.py --model_name_or_path /root/autodl-tmp/Qwen/Qwen2.5-7B-Instruct --dataset security --dataset_dir data --template qwen`"
   ]
  }
 ],
 "metadata": {
  "kernelspec": {
   "display_name": "Python 3 (ipykernel)",
   "language": "python",
   "name": "python3"
  },
  "language_info": {
   "codemirror_mode": {
    "name": "ipython",
    "version": 3
   },
   "file_extension": ".py",
   "mimetype": "text/x-python",
   "name": "python",
   "nbconvert_exporter": "python",
   "pygments_lexer": "ipython3",
   "version": "3.10.0"
  }
 },
 "nbformat": 4,
 "nbformat_minor": 5
}
