{
 "cells": [
  {
   "cell_type": "code",
   "execution_count": 1,
   "id": "be7dc947-5132-42d1-872d-13d78f6afd13",
   "metadata": {
    "execution": {
     "iopub.execute_input": "2024-08-06T14:47:22.312873Z",
     "iopub.status.busy": "2024-08-06T14:47:22.312240Z",
     "iopub.status.idle": "2024-08-06T14:47:23.775789Z",
     "shell.execute_reply": "2024-08-06T14:47:23.773928Z",
     "shell.execute_reply.started": "2024-08-06T14:47:22.312823Z"
    }
   },
   "outputs": [],
   "source": [
    "import torch"
   ]
  },
  {
   "cell_type": "code",
   "execution_count": 2,
   "id": "d3806bd5-3584-46ec-b813-e7d58e9cde64",
   "metadata": {
    "execution": {
     "iopub.execute_input": "2024-08-06T14:48:09.982912Z",
     "iopub.status.busy": "2024-08-06T14:48:09.982266Z",
     "iopub.status.idle": "2024-08-06T14:48:10.004359Z",
     "shell.execute_reply": "2024-08-06T14:48:10.002645Z",
     "shell.execute_reply.started": "2024-08-06T14:48:09.982867Z"
    }
   },
   "outputs": [
    {
     "data": {
      "text/plain": [
       "<torch._C.Generator at 0x7915707871d0>"
      ]
     },
     "execution_count": 2,
     "metadata": {},
     "output_type": "execute_result"
    }
   ],
   "source": [
    "torch.manual_seed(42)"
   ]
  },
  {
   "cell_type": "markdown",
   "id": "64bc9856-2652-4c6c-aa03-5cf093bdfaea",
   "metadata": {},
   "source": [
    "### Adam => AdamW"
   ]
  },
  {
   "cell_type": "markdown",
   "id": "021e8267-d1c1-4da1-91b8-189811b1d843",
   "metadata": {},
   "source": [
    "- Adam with decoupled weight decay (AdamW)."
   ]
  },
  {
   "cell_type": "markdown",
   "id": "124ba4d1-c77d-41c2-9e9d-e2e400b7c485",
   "metadata": {},
   "source": [
    "### Grad Clip & Grad Norm"
   ]
  },
  {
   "cell_type": "markdown",
   "id": "c28de7fd-5326-4dd1-846f-95475faf40af",
   "metadata": {},
   "source": [
    "- gradient clipping，梯度裁剪，一般用于解决 梯度爆炸 (gradient explosion) 问题\n",
    "- grad norm\n",
    "  - if $\\|\\textbf g\\|\\geq c$，则有 $\\textbf g\\leftarrow c\\frac{\\textbf g}{\\|\\textbf g\\|}$"
   ]
  },
  {
   "cell_type": "markdown",
   "id": "16146fe2-374e-42cb-98e7-7f11d1236a46",
   "metadata": {},
   "source": [
    "```\n",
    "# Define the maximum gradient norm threshold\n",
    "max_grad_norm = 1.0\n",
    "\n",
    "# Training loop\n",
    "for epoch in range(num_epochs):\n",
    "    for inputs, targets in dataloader: # Replace dataloader with your data loading me\n",
    "        optimizer.zero_grad() # Zero the gradients\n",
    "\n",
    "        # Forward pass\n",
    "        outputs = model(inputs)\n",
    "        loss = criterion(outputs, targets)\n",
    "\n",
    "        # Backward pass\n",
    "        loss.backward()\n",
    "\n",
    "        # Apply gradient clipping to prevent exploding gradientS\n",
    "        nn.utils.clip_grad_norm_(model.parameters(), max_grad_norm)\n",
    "\n",
    "        # Update weights\n",
    "        optimizer.step()\n",
    "        # Perform other training loop operations (e.g., validation)\n",
    "\n",
    "```"
   ]
  },
  {
   "cell_type": "code",
   "execution_count": 3,
   "id": "d2abc28c-5667-4b87-88ba-e01ec5358c15",
   "metadata": {
    "execution": {
     "iopub.execute_input": "2024-08-06T14:48:27.169487Z",
     "iopub.status.busy": "2024-08-06T14:48:27.168840Z",
     "iopub.status.idle": "2024-08-06T14:48:27.252243Z",
     "shell.execute_reply": "2024-08-06T14:48:27.250085Z",
     "shell.execute_reply.started": "2024-08-06T14:48:27.169439Z"
    }
   },
   "outputs": [],
   "source": [
    "w = torch.rand(5) * 1000\n",
    "w_1 = w.clone()\n",
    "w.requires_grad_(True)\n",
    "w_1.requires_grad_(True)\n",
    "loss = 1/2 * torch.sum(w_1 * w_1 + w * w)\n",
    "# Here grads of loss w.r.t w and w_1 should be w and w_1 respectively\n",
    "loss.backward()"
   ]
  },
  {
   "cell_type": "code",
   "execution_count": 4,
   "id": "a2178513-fca0-4daf-8987-c55c9def2561",
   "metadata": {
    "execution": {
     "iopub.execute_input": "2024-08-06T14:48:38.135662Z",
     "iopub.status.busy": "2024-08-06T14:48:38.135018Z",
     "iopub.status.idle": "2024-08-06T14:48:38.152241Z",
     "shell.execute_reply": "2024-08-06T14:48:38.150154Z",
     "shell.execute_reply.started": "2024-08-06T14:48:38.135615Z"
    }
   },
   "outputs": [
    {
     "data": {
      "text/plain": [
       "tensor(1683.7260)"
      ]
     },
     "execution_count": 4,
     "metadata": {},
     "output_type": "execute_result"
    }
   ],
   "source": [
    "# Clip grads of w_1\n",
    "torch.nn.utils.clip_grad_norm_(w_1, max_norm=1.0, norm_type=2)"
   ]
  },
  {
   "cell_type": "code",
   "execution_count": 7,
   "id": "167d79ab-9555-4732-a550-d6793b7c171e",
   "metadata": {
    "execution": {
     "iopub.execute_input": "2024-08-06T14:49:06.884455Z",
     "iopub.status.busy": "2024-08-06T14:49:06.883815Z",
     "iopub.status.idle": "2024-08-06T14:49:06.898914Z",
     "shell.execute_reply": "2024-08-06T14:49:06.896992Z",
     "shell.execute_reply.started": "2024-08-06T14:49:06.884407Z"
    }
   },
   "outputs": [
    {
     "data": {
      "text/plain": [
       "tensor(1683.7260, grad_fn=<LinalgVectorNormBackward0>)"
      ]
     },
     "execution_count": 7,
     "metadata": {},
     "output_type": "execute_result"
    }
   ],
   "source": [
    "torch.norm(w_1, p=2)"
   ]
  },
  {
   "cell_type": "code",
   "execution_count": 8,
   "id": "9e0262eb-9225-4039-bf23-bbb6db4e8707",
   "metadata": {
    "execution": {
     "iopub.execute_input": "2024-08-06T14:49:26.072126Z",
     "iopub.status.busy": "2024-08-06T14:49:26.071488Z",
     "iopub.status.idle": "2024-08-06T14:49:26.085631Z",
     "shell.execute_reply": "2024-08-06T14:49:26.083673Z",
     "shell.execute_reply.started": "2024-08-06T14:49:26.072080Z"
    }
   },
   "outputs": [
    {
     "data": {
      "text/plain": [
       "tensor([882.2693, 915.0040, 382.8638, 959.3057, 390.4482])"
      ]
     },
     "execution_count": 8,
     "metadata": {},
     "output_type": "execute_result"
    }
   ],
   "source": [
    "w.grad"
   ]
  },
  {
   "cell_type": "code",
   "execution_count": 9,
   "id": "323f9f6a-1621-4939-8381-285485900162",
   "metadata": {
    "execution": {
     "iopub.execute_input": "2024-08-06T14:49:29.692169Z",
     "iopub.status.busy": "2024-08-06T14:49:29.691532Z",
     "iopub.status.idle": "2024-08-06T14:49:29.705424Z",
     "shell.execute_reply": "2024-08-06T14:49:29.703344Z",
     "shell.execute_reply.started": "2024-08-06T14:49:29.692125Z"
    }
   },
   "outputs": [
    {
     "data": {
      "text/plain": [
       "tensor([0.5240, 0.5434, 0.2274, 0.5698, 0.2319])"
      ]
     },
     "execution_count": 9,
     "metadata": {},
     "output_type": "execute_result"
    }
   ],
   "source": [
    "w_1.grad"
   ]
  },
  {
   "cell_type": "code",
   "execution_count": 10,
   "id": "376ca170-669b-4bfa-bbe5-3e28c20b3abb",
   "metadata": {
    "execution": {
     "iopub.execute_input": "2024-08-06T14:49:41.936597Z",
     "iopub.status.busy": "2024-08-06T14:49:41.935956Z",
     "iopub.status.idle": "2024-08-06T14:49:41.951053Z",
     "shell.execute_reply": "2024-08-06T14:49:41.948959Z",
     "shell.execute_reply.started": "2024-08-06T14:49:41.936552Z"
    }
   },
   "outputs": [
    {
     "data": {
      "text/plain": [
       "tensor(1.)"
      ]
     },
     "execution_count": 10,
     "metadata": {},
     "output_type": "execute_result"
    }
   ],
   "source": [
    "torch.norm(w_1.grad, p=2) "
   ]
  },
  {
   "cell_type": "code",
   "execution_count": 11,
   "id": "d153a241-49aa-431f-925d-a2066931b8d2",
   "metadata": {
    "execution": {
     "iopub.execute_input": "2024-08-06T14:49:55.587966Z",
     "iopub.status.busy": "2024-08-06T14:49:55.587326Z",
     "iopub.status.idle": "2024-08-06T14:49:55.601381Z",
     "shell.execute_reply": "2024-08-06T14:49:55.599262Z",
     "shell.execute_reply.started": "2024-08-06T14:49:55.587920Z"
    }
   },
   "outputs": [
    {
     "data": {
      "text/plain": [
       "tensor([0.5240, 0.5434, 0.2274, 0.5698, 0.2319])"
      ]
     },
     "execution_count": 11,
     "metadata": {},
     "output_type": "execute_result"
    }
   ],
   "source": [
    "w.grad / torch.norm(w.grad, p=2)"
   ]
  }
 ],
 "metadata": {
  "kernelspec": {
   "display_name": "Python 3 (ipykernel)",
   "language": "python",
   "name": "python3"
  },
  "language_info": {
   "codemirror_mode": {
    "name": "ipython",
    "version": 3
   },
   "file_extension": ".py",
   "mimetype": "text/x-python",
   "name": "python",
   "nbconvert_exporter": "python",
   "pygments_lexer": "ipython3",
   "version": "3.10.13"
  }
 },
 "nbformat": 4,
 "nbformat_minor": 5
}
