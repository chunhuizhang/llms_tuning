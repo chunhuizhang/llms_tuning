{
 "cells": [
  {
   "cell_type": "markdown",
   "id": "64bc9856-2652-4c6c-aa03-5cf093bdfaea",
   "metadata": {},
   "source": [
    "### Adam => AdamW"
   ]
  },
  {
   "cell_type": "markdown",
   "id": "124ba4d1-c77d-41c2-9e9d-e2e400b7c485",
   "metadata": {},
   "source": [
    "### Grad Clip & Grad Norm"
   ]
  }
 ],
 "metadata": {
  "kernelspec": {
   "display_name": "Python 3 (ipykernel)",
   "language": "python",
   "name": "python3"
  },
  "language_info": {
   "codemirror_mode": {
    "name": "ipython",
    "version": 3
   },
   "file_extension": ".py",
   "mimetype": "text/x-python",
   "name": "python",
   "nbconvert_exporter": "python",
   "pygments_lexer": "ipython3",
   "version": "3.10.13"
  }
 },
 "nbformat": 4,
 "nbformat_minor": 5
}
