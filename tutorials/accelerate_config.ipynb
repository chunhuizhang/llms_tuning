{
 "cells": [
  {
   "cell_type": "markdown",
   "id": "b686fe56-b72f-4052-806d-5bb1dbe58649",
   "metadata": {},
   "source": [
    "## deepspeed"
   ]
  },
  {
   "cell_type": "markdown",
   "id": "3710804f-6278-4b7f-ae94-c06c00e0a2f6",
   "metadata": {},
   "source": [
    "### zero3"
   ]
  },
  {
   "cell_type": "markdown",
   "id": "4c0a3f87-cbd3-486d-9d12-d58b98ff4e0b",
   "metadata": {},
   "source": [
    "- offload_optimizer_device, offload_param_device\n",
    "    - offload_optimizer_device: 优化器状态，Optimizer States（OS）\n",
    "    - offload_param_device：模型参数，Parameters（P）\n",
    "    - 三个选项\n",
    "        - none\n",
    "        - cpu：将优化器状态/模型参数卸载到CPU内存中\n",
    "        - nvme：将优化器状态/模型参数卸载到NVME存储设备中"
   ]
  }
 ],
 "metadata": {
  "kernelspec": {
   "display_name": "Python 3 (ipykernel)",
   "language": "python",
   "name": "python3"
  },
  "language_info": {
   "codemirror_mode": {
    "name": "ipython",
    "version": 3
   },
   "file_extension": ".py",
   "mimetype": "text/x-python",
   "name": "python",
   "nbconvert_exporter": "python",
   "pygments_lexer": "ipython3",
   "version": "3.10.13"
  }
 },
 "nbformat": 4,
 "nbformat_minor": 5
}
