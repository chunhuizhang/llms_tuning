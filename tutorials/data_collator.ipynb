{
 "cells": [
  {
   "cell_type": "code",
   "execution_count": 1,
   "id": "9bae15be-0cf6-43a4-8c28-03d79d988302",
   "metadata": {
    "execution": {
     "iopub.execute_input": "2024-09-21T12:15:15.632007Z",
     "iopub.status.busy": "2024-09-21T12:15:15.631380Z",
     "iopub.status.idle": "2024-09-21T12:15:17.996318Z",
     "shell.execute_reply": "2024-09-21T12:15:17.995451Z",
     "shell.execute_reply.started": "2024-09-21T12:15:15.631958Z"
    }
   },
   "outputs": [],
   "source": [
    "from transformers import DataCollatorForLanguageModeling\n",
    "from transformers import AutoTokenizer\n",
    "import torch"
   ]
  },
  {
   "cell_type": "markdown",
   "id": "e474deb2-4de9-4ac8-95fd-9aef406d072b",
   "metadata": {},
   "source": [
    "### custom"
   ]
  },
  {
   "cell_type": "code",
   "execution_count": 2,
   "id": "4d9993e5-7af9-466c-8889-efb5826c551f",
   "metadata": {
    "execution": {
     "iopub.execute_input": "2024-09-21T12:18:24.899685Z",
     "iopub.status.busy": "2024-09-21T12:18:24.899258Z",
     "iopub.status.idle": "2024-09-21T12:18:24.906944Z",
     "shell.execute_reply": "2024-09-21T12:18:24.904986Z",
     "shell.execute_reply.started": "2024-09-21T12:18:24.899661Z"
    }
   },
   "outputs": [],
   "source": [
    "def collator(data):\n",
    "    return {key: [d[key] for d in data] for key in data[0]}"
   ]
  },
  {
   "cell_type": "code",
   "execution_count": 3,
   "id": "b591a982-b354-43a0-acb3-ef1e3e62ed8e",
   "metadata": {
    "execution": {
     "iopub.execute_input": "2024-09-21T12:18:36.596727Z",
     "iopub.status.busy": "2024-09-21T12:18:36.596073Z",
     "iopub.status.idle": "2024-09-21T12:18:36.606967Z",
     "shell.execute_reply": "2024-09-21T12:18:36.604808Z",
     "shell.execute_reply.started": "2024-09-21T12:18:36.596679Z"
    }
   },
   "outputs": [],
   "source": [
    "data = [\n",
    "    {'input_ids': [1, 2, 3], 'attention_mask': [1, 1, 1], 'labels': 0},\n",
    "    {'input_ids': [4, 5, 6], 'attention_mask': [1, 1, 1], 'labels': 1},\n",
    "]"
   ]
  },
  {
   "cell_type": "code",
   "execution_count": 4,
   "id": "33bf549e-347f-4780-8fb0-8133f4634f8e",
   "metadata": {
    "execution": {
     "iopub.execute_input": "2024-09-21T12:18:42.589974Z",
     "iopub.status.busy": "2024-09-21T12:18:42.589294Z",
     "iopub.status.idle": "2024-09-21T12:18:42.608342Z",
     "shell.execute_reply": "2024-09-21T12:18:42.606241Z",
     "shell.execute_reply.started": "2024-09-21T12:18:42.589927Z"
    }
   },
   "outputs": [
    {
     "data": {
      "text/plain": [
       "{'input_ids': [[1, 2, 3], [4, 5, 6]],\n",
       " 'attention_mask': [[1, 1, 1], [1, 1, 1]],\n",
       " 'labels': [0, 1]}"
      ]
     },
     "execution_count": 4,
     "metadata": {},
     "output_type": "execute_result"
    }
   ],
   "source": [
    "collator(data)"
   ]
  },
  {
   "cell_type": "markdown",
   "id": "244e7e05-4b1e-4865-9b84-48a5035646af",
   "metadata": {},
   "source": [
    "### DataCollatorForLanguageModeling"
   ]
  },
  {
   "cell_type": "code",
   "execution_count": 17,
   "id": "930f4f38-7b82-45cb-a57f-3fc77709f9d7",
   "metadata": {
    "execution": {
     "iopub.execute_input": "2024-09-21T12:24:43.957162Z",
     "iopub.status.busy": "2024-09-21T12:24:43.956680Z",
     "iopub.status.idle": "2024-09-21T12:24:43.964343Z",
     "shell.execute_reply": "2024-09-21T12:24:43.962487Z",
     "shell.execute_reply.started": "2024-09-21T12:24:43.957128Z"
    }
   },
   "outputs": [],
   "source": [
    "texts = [\n",
    "    \"Hello, how are you?\",\n",
    "    \"I am fine, thank you!\",\n",
    "    \"This is a sample sentence for language modeling.\",\n",
    "    \"Another example sentence to train the model.\"\n",
    "]"
   ]
  },
  {
   "cell_type": "code",
   "execution_count": 11,
   "id": "a99ee5c6-ff50-4379-b8ed-e1e729f9741f",
   "metadata": {
    "execution": {
     "iopub.execute_input": "2024-09-21T12:21:49.590181Z",
     "iopub.status.busy": "2024-09-21T12:21:49.589897Z",
     "iopub.status.idle": "2024-09-21T12:21:50.064820Z",
     "shell.execute_reply": "2024-09-21T12:21:50.062995Z",
     "shell.execute_reply.started": "2024-09-21T12:21:49.590162Z"
    }
   },
   "outputs": [
    {
     "name": "stderr",
     "output_type": "stream",
     "text": [
      "/home/whaow/anaconda3/lib/python3.10/site-packages/transformers/tokenization_utils_base.py:1602: FutureWarning: `clean_up_tokenization_spaces` was not set. It will be set to `True` by default. This behavior will be deprecated in transformers v4.45, and will be then set to `False` by default. For more details check this issue: https://github.com/huggingface/transformers/issues/31884\n",
      "  warnings.warn(\n"
     ]
    }
   ],
   "source": [
    "# 初始化分词器\n",
    "tokenizer = AutoTokenizer.from_pretrained(\"gpt2\")\n",
    "tokenizer.pad_token = tokenizer.eos_token\n",
    "# 初始化 DataCollator\n",
    "data_collator = DataCollatorForLanguageModeling(tokenizer=tokenizer, mlm=False)"
   ]
  },
  {
   "cell_type": "code",
   "execution_count": 25,
   "id": "73b9ba54-07d3-42a3-b3ef-6570abac7ff4",
   "metadata": {
    "execution": {
     "iopub.execute_input": "2024-09-21T12:27:31.268628Z",
     "iopub.status.busy": "2024-09-21T12:27:31.268203Z",
     "iopub.status.idle": "2024-09-21T12:27:31.281568Z",
     "shell.execute_reply": "2024-09-21T12:27:31.279577Z",
     "shell.execute_reply.started": "2024-09-21T12:27:31.268597Z"
    }
   },
   "outputs": [
    {
     "data": {
      "text/plain": [
       "[{'input_ids': [15496, 11, 703, 389, 345, 30], 'attention_mask': [1, 1, 1, 1, 1, 1]},\n",
       " {'input_ids': [40, 716, 3734, 11, 5875, 345, 0], 'attention_mask': [1, 1, 1, 1, 1, 1, 1]},\n",
       " {'input_ids': [1212, 318, 257, 6291, 6827, 329, 3303, 21128, 13], 'attention_mask': [1, 1, 1, 1, 1, 1, 1, 1, 1]},\n",
       " {'input_ids': [6610, 1672, 6827, 284, 4512, 262, 2746, 13], 'attention_mask': [1, 1, 1, 1, 1, 1, 1, 1]}]"
      ]
     },
     "execution_count": 25,
     "metadata": {},
     "output_type": "execute_result"
    }
   ],
   "source": [
    "encoded_inputs = [tokenizer(text) for text in texts]\n",
    "encoded_inputs"
   ]
  },
  {
   "cell_type": "code",
   "execution_count": 19,
   "id": "2c4bcff8-4b21-419b-8798-0dca10d6c8fe",
   "metadata": {
    "execution": {
     "iopub.execute_input": "2024-09-21T12:26:34.307503Z",
     "iopub.status.busy": "2024-09-21T12:26:34.306893Z",
     "iopub.status.idle": "2024-09-21T12:26:34.318826Z",
     "shell.execute_reply": "2024-09-21T12:26:34.316637Z",
     "shell.execute_reply.started": "2024-09-21T12:26:34.307458Z"
    }
   },
   "outputs": [
    {
     "data": {
      "text/plain": [
       "'!'"
      ]
     },
     "execution_count": 19,
     "metadata": {},
     "output_type": "execute_result"
    }
   ],
   "source": [
    "tokenizer.decode(0)"
   ]
  },
  {
   "cell_type": "code",
   "execution_count": 29,
   "id": "70bc98b1-7cea-4cbc-824e-3ca844c9b846",
   "metadata": {
    "execution": {
     "iopub.execute_input": "2024-09-21T12:28:09.402462Z",
     "iopub.status.busy": "2024-09-21T12:28:09.401814Z",
     "iopub.status.idle": "2024-09-21T12:28:09.418858Z",
     "shell.execute_reply": "2024-09-21T12:28:09.416701Z",
     "shell.execute_reply.started": "2024-09-21T12:28:09.402415Z"
    }
   },
   "outputs": [
    {
     "data": {
      "text/plain": [
       "{'input_ids': tensor([[15496,    11,   703,   389,   345,    30, 50256, 50256, 50256],\n",
       "        [   40,   716,  3734,    11,  5875,   345,     0, 50256, 50256],\n",
       "        [ 1212,   318,   257,  6291,  6827,   329,  3303, 21128,    13],\n",
       "        [ 6610,  1672,  6827,   284,  4512,   262,  2746,    13, 50256]]), 'attention_mask': tensor([[1, 1, 1, 1, 1, 1, 0, 0, 0],\n",
       "        [1, 1, 1, 1, 1, 1, 1, 0, 0],\n",
       "        [1, 1, 1, 1, 1, 1, 1, 1, 1],\n",
       "        [1, 1, 1, 1, 1, 1, 1, 1, 0]]), 'labels': tensor([[15496,    11,   703,   389,   345,    30,  -100,  -100,  -100],\n",
       "        [   40,   716,  3734,    11,  5875,   345,     0,  -100,  -100],\n",
       "        [ 1212,   318,   257,  6291,  6827,   329,  3303, 21128,    13],\n",
       "        [ 6610,  1672,  6827,   284,  4512,   262,  2746,    13,  -100]])}"
      ]
     },
     "execution_count": 29,
     "metadata": {},
     "output_type": "execute_result"
    }
   ],
   "source": [
    "batch = data_collator(encoded_inputs)\n",
    "batch"
   ]
  },
  {
   "cell_type": "code",
   "execution_count": 26,
   "id": "61786883-d109-4d4b-8271-14b72ff6d70a",
   "metadata": {
    "execution": {
     "iopub.execute_input": "2024-09-21T12:27:37.440311Z",
     "iopub.status.busy": "2024-09-21T12:27:37.439703Z",
     "iopub.status.idle": "2024-09-21T12:27:37.455573Z",
     "shell.execute_reply": "2024-09-21T12:27:37.453793Z",
     "shell.execute_reply.started": "2024-09-21T12:27:37.440268Z"
    }
   },
   "outputs": [
    {
     "data": {
      "text/plain": [
       "{'input_ids': tensor([[15496,    11,   703,   389,   345,    30, 50256],\n",
       "        [   40,   716,  3734,    11,  5875,   345,     0]]), 'attention_mask': tensor([[1, 1, 1, 1, 1, 1, 0],\n",
       "        [1, 1, 1, 1, 1, 1, 1]]), 'labels': tensor([[15496,    11,   703,   389,   345,    30,  -100],\n",
       "        [   40,   716,  3734,    11,  5875,   345,     0]])}"
      ]
     },
     "execution_count": 26,
     "metadata": {},
     "output_type": "execute_result"
    }
   ],
   "source": [
    "dataloader = torch.utils.data.DataLoader(encoded_inputs, collate_fn=data_collator, batch_size=2)\n",
    "next(iter(dataloader))"
   ]
  },
  {
   "cell_type": "code",
   "execution_count": null,
   "id": "2db5b51e-debc-4fd8-9151-1e10d6455d85",
   "metadata": {},
   "outputs": [],
   "source": []
  }
 ],
 "metadata": {
  "kernelspec": {
   "display_name": "Python 3 (ipykernel)",
   "language": "python",
   "name": "python3"
  },
  "language_info": {
   "codemirror_mode": {
    "name": "ipython",
    "version": 3
   },
   "file_extension": ".py",
   "mimetype": "text/x-python",
   "name": "python",
   "nbconvert_exporter": "python",
   "pygments_lexer": "ipython3",
   "version": "3.10.13"
  }
 },
 "nbformat": 4,
 "nbformat_minor": 5
}
