{
 "cells": [
  {
   "cell_type": "markdown",
   "id": "a4c5fca4-5ee2-49fc-b4a1-ac886ea3a37a",
   "metadata": {},
   "source": [
    "\n",
    "- https://www.youtube.com/watch?v=51RSmLOIbCI\n",
    "  \n",
    "supervised fine-tuning (SFT) tips when starting a new LLM project from the image you uploaded:\n",
    "\n",
    "1. Start with 3 epochs.\n",
    "2. Learning rate: 2e-5 with a cosine schedule & 0.1 warmup ratio.\n",
    "4. Apply Packing to combine samples up to a sequence length (e.g., 2048).\n",
    "5. Try **Global** BS of 256/512 (e.g., BS=16 per device, grad_acc=2/4 on 8xH100s).\n",
    "   - 16\\*2\\*8=256\n",
    "   - 16\\*4\\*8=512\n",
    "6. Use Flash Attention v2 with bf16 & tf32 (to speed up remaining fp32 calculations).\n",
    "7. Enable gradient checkpointing to save memory.\n",
    "8. Opt for \"adamw_torch_fused\" (10% speed up) or \"adamw_torch\" optimizer.\n",
    "9. Deepspeed & FSDP both work well for distributed training.\n",
    "10. Consider LoRA for quicker iterations with less compute.\n",
    "11. Use the SFTTrainer from Hugging Face TRL."
   ]
  },
  {
   "cell_type": "markdown",
   "id": "1d72f076-9291-4b77-a903-fb8631ea536f",
   "metadata": {},
   "source": [
    "## llama2"
   ]
  },
  {
   "cell_type": "markdown",
   "id": "ba07238b-7455-4c30-9c38-1cf61d1d0364",
   "metadata": {},
   "source": [
    "https://medium.com/@shahip2016/llama-2-explained-in-simple-step-by-step-process-5076e072cb69\n",
    "\n",
    "- During supervised fine-tuning (SFT), a cosine learning rate schedule was employed, starting with an initial learning rate of 2*10–5. The process involved a weight decay of 0.1, a batch size of 64, and a sequence length of 4096 tokens. "
   ]
  },
  {
   "cell_type": "markdown",
   "id": "7ad699d4-aa9f-4c4d-b81a-e7b522a9233f",
   "metadata": {},
   "source": [
    "## batch size 与 learning rate"
   ]
  },
  {
   "cell_type": "markdown",
   "id": "79fbf50f-15a9-4a28-abbb-11ce8f27cd51",
   "metadata": {},
   "source": [
    "- bs 越大越好，越大模型的泛化性越好\n",
    "- lr 正比于 bs 的开方，参考 llama2 的bs和lr"
   ]
  }
 ],
 "metadata": {
  "kernelspec": {
   "display_name": "Python 3 (ipykernel)",
   "language": "python",
   "name": "python3"
  },
  "language_info": {
   "codemirror_mode": {
    "name": "ipython",
    "version": 3
   },
   "file_extension": ".py",
   "mimetype": "text/x-python",
   "name": "python",
   "nbconvert_exporter": "python",
   "pygments_lexer": "ipython3",
   "version": "3.10.13"
  }
 },
 "nbformat": 4,
 "nbformat_minor": 5
}
