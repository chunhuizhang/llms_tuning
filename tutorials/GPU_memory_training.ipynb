{
 "cells": [
  {
   "cell_type": "markdown",
   "id": "547f24df-f9ff-42df-a027-44e9e25ec74c",
   "metadata": {},
   "source": [
    "- https://www.kaggle.com/discussions/general/528626"
   ]
  },
  {
   "cell_type": "markdown",
   "id": "d90fbc85-e7d7-4375-b4fc-08fd276df412",
   "metadata": {},
   "source": [
    "- Model Parameters Memory Allocation\n",
    "- Gradients Memory Allocation\n",
    "- Adam Optimizer Memory\n",
    "- Activations Memory\n",
    "    - https://arxiv.org/pdf/2205.05198"
   ]
  }
 ],
 "metadata": {
  "kernelspec": {
   "display_name": "Python 3 (ipykernel)",
   "language": "python",
   "name": "python3"
  },
  "language_info": {
   "codemirror_mode": {
    "name": "ipython",
    "version": 3
   },
   "file_extension": ".py",
   "mimetype": "text/x-python",
   "name": "python",
   "nbconvert_exporter": "python",
   "pygments_lexer": "ipython3",
   "version": "3.10.13"
  }
 },
 "nbformat": 4,
 "nbformat_minor": 5
}
