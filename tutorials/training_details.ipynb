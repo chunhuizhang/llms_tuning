{
 "cells": [
  {
   "cell_type": "code",
   "execution_count": 1,
   "id": "f6f490db-85f5-4bd7-86e4-bd46ded2b463",
   "metadata": {
    "execution": {
     "iopub.execute_input": "2024-08-09T12:12:46.851578Z",
     "iopub.status.busy": "2024-08-09T12:12:46.850965Z",
     "iopub.status.idle": "2024-08-09T12:12:46.861371Z",
     "shell.execute_reply": "2024-08-09T12:12:46.859583Z",
     "shell.execute_reply.started": "2024-08-09T12:12:46.851532Z"
    }
   },
   "outputs": [],
   "source": [
    "from IPython.display import Image"
   ]
  },
  {
   "cell_type": "markdown",
   "id": "307e823c-afd9-4809-bcff-1b0f68ab5bf0",
   "metadata": {},
   "source": [
    "## packing"
   ]
  },
  {
   "cell_type": "markdown",
   "id": "4fa03b22-aae6-44a2-bc5d-04791bc92368",
   "metadata": {},
   "source": [
    "- https://wandb.ai/capecape/alpaca_ft/reports/How-to-Fine-tune-an-LLM-Part-3-The-HuggingFace-Trainer--Vmlldzo1OTEyNjMy"
   ]
  },
  {
   "cell_type": "code",
   "execution_count": 2,
   "id": "d59728aa-8548-4e26-8bce-eb55bc98648e",
   "metadata": {
    "execution": {
     "iopub.execute_input": "2024-08-09T12:13:02.571500Z",
     "iopub.status.busy": "2024-08-09T12:13:02.571132Z",
     "iopub.status.idle": "2024-08-09T12:13:02.585379Z",
     "shell.execute_reply": "2024-08-09T12:13:02.583316Z",
     "shell.execute_reply.started": "2024-08-09T12:13:02.571476Z"
    }
   },
   "outputs": [
    {
     "data": {
      "text/html": [
       "<img src=\"https://api.wandb.ai/files/capecape/images/projects/38233410/1b112e89.png\" width=\"500\"/>"
      ],
      "text/plain": [
       "<IPython.core.display.Image object>"
      ]
     },
     "execution_count": 2,
     "metadata": {},
     "output_type": "execute_result"
    }
   ],
   "source": [
    "Image(url='https://api.wandb.ai/files/capecape/images/projects/38233410/1b112e89.png', width=500)"
   ]
  },
  {
   "cell_type": "markdown",
   "id": "9a313a64-f525-4641-9cdf-fbb00f998f43",
   "metadata": {},
   "source": [
    "When you pass the `packing=True` argument to the `SFTTrainer`, under the hood it creates a ConstantLengthDataset like this and then creates the `DataLoaders`. It saves you the need to manually preprocess your dataset."
   ]
  },
  {
   "cell_type": "markdown",
   "id": "1e530d63-ad6c-4cf4-826d-a012f00a0ec1",
   "metadata": {},
   "source": [
    "### padding_side"
   ]
  },
  {
   "cell_type": "markdown",
   "id": "f4a8a9f7-5f51-4359-b47e-b65c3866f578",
   "metadata": {},
   "source": [
    "- https://github.com/meta-llama/llama3/issues/42\n",
    "- 注意区分 training & inference\n",
    "    - 训练过程无所谓 padding side，都会被 mask 掉；"
   ]
  },
  {
   "cell_type": "code",
   "execution_count": null,
   "id": "4f81fe49-56b4-4431-bec6-1fe331b00efc",
   "metadata": {},
   "outputs": [],
   "source": []
  }
 ],
 "metadata": {
  "kernelspec": {
   "display_name": "Python 3 (ipykernel)",
   "language": "python",
   "name": "python3"
  },
  "language_info": {
   "codemirror_mode": {
    "name": "ipython",
    "version": 3
   },
   "file_extension": ".py",
   "mimetype": "text/x-python",
   "name": "python",
   "nbconvert_exporter": "python",
   "pygments_lexer": "ipython3",
   "version": "3.10.13"
  }
 },
 "nbformat": 4,
 "nbformat_minor": 5
}
