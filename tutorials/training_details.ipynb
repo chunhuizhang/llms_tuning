{
 "cells": [
  {
   "cell_type": "markdown",
   "id": "1e530d63-ad6c-4cf4-826d-a012f00a0ec1",
   "metadata": {},
   "source": [
    "### padding_side"
   ]
  },
  {
   "cell_type": "markdown",
   "id": "f4a8a9f7-5f51-4359-b47e-b65c3866f578",
   "metadata": {},
   "source": [
    "- https://github.com/meta-llama/llama3/issues/42\n",
    "- 注意区分 training & inference\n",
    "    - 训练过程无所谓 padding side，都会被 mask 掉；"
   ]
  }
 ],
 "metadata": {
  "kernelspec": {
   "display_name": "Python 3 (ipykernel)",
   "language": "python",
   "name": "python3"
  },
  "language_info": {
   "codemirror_mode": {
    "name": "ipython",
    "version": 3
   },
   "file_extension": ".py",
   "mimetype": "text/x-python",
   "name": "python",
   "nbconvert_exporter": "python",
   "pygments_lexer": "ipython3",
   "version": "3.10.13"
  }
 },
 "nbformat": 4,
 "nbformat_minor": 5
}
