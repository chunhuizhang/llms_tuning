{
 "cells": [
  {
   "cell_type": "markdown",
   "id": "75be0db8-b8ca-4dd3-92d5-1193cf41a5a2",
   "metadata": {},
   "source": [
    "https://github.com/mlabonne/llm-datasets"
   ]
  },
  {
   "cell_type": "markdown",
   "id": "8396908f-7004-4186-a504-1c7ebf36af9b",
   "metadata": {},
   "source": [
    "一个好的SFT数据集通常具备以下特点，这有助于模型在训练后获得更好的泛化能力：\n",
    "- 准确性 (Accuracy)：样本内容应当是事实正确且与指令高度相关的。\n",
    "- 多样性 (Diversity)：数据集应覆盖尽可能多的应用场景和指令类型，以确保模型不会过拟合于特定任务，从而提升其泛化能力。\n",
    "- 高质量 (High Quality)：许多先进的数据集利用如GPT-4等高性能模型，通过一系列精炼过程来生成和筛选数据，以确保其质量。"
   ]
  },
  {
   "cell_type": "markdown",
   "id": "ab5af045-70df-4f08-aa70-c9bce70ac063",
   "metadata": {},
   "source": [
    "### 复杂指令遵循"
   ]
  },
  {
   "cell_type": "markdown",
   "id": "80538b98-c4c4-4b23-8f84-ede7cac48891",
   "metadata": {},
   "source": [
    "- https://github.com/ConiferLM/Conifer\n",
    "- tulu-3-sft-personas-instruction-following\n",
    "    - 这个数据集专注于指令遵循，并结合了“角色扮演”（personas）的元素，可以帮助模型学习在特定角色下进行响应 "
   ]
  },
  {
   "cell_type": "markdown",
   "id": "ab6b70b7-4c1f-4ffd-b724-f48a71fc5e10",
   "metadata": {},
   "source": [
    "### trl sfttrainer"
   ]
  },
  {
   "cell_type": "markdown",
   "id": "63c4d352-3310-41b3-80a2-0c5c9c855e49",
   "metadata": {},
   "source": [
    "```python\n",
    "from datasets import load_dataset\n",
    "from trl import SFTConfig, SFTTrainer\n",
    "\n",
    "# 加载您的数据集\n",
    "dataset = load_dataset(\"stanfordnlp/imdb\", split=\"train\")\n",
    "\n",
    "# 配置SFT训练参数\n",
    "training_args = SFTConfig(\n",
    "    max_length=512, # 根据您的需求设置最大序列长度\n",
    "    output_dir=\"/tmp\", # 设置输出目录\n",
    "    report_to='wandb'\n",
    ")\n",
    "\n",
    "# 初始化SFTTrainer\n",
    "trainer = SFTTrainer(\n",
    "    \"facebook/opt-350m\", # 指定您想微调的基础模型\n",
    "    train_dataset=dataset,\n",
    "    args=training_args,\n",
    ")\n",
    "# 开始训练\n",
    "trainer.train()\n",
    "```"
   ]
  }
 ],
 "metadata": {
  "kernelspec": {
   "display_name": "Python 3 (ipykernel)",
   "language": "python",
   "name": "python3"
  },
  "language_info": {
   "codemirror_mode": {
    "name": "ipython",
    "version": 3
   },
   "file_extension": ".py",
   "mimetype": "text/x-python",
   "name": "python",
   "nbconvert_exporter": "python",
   "pygments_lexer": "ipython3",
   "version": "3.10.0"
  }
 },
 "nbformat": 4,
 "nbformat_minor": 5
}
